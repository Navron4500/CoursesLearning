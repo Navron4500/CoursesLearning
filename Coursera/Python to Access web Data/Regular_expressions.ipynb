{
 "cells": [
  {
   "cell_type": "code",
   "execution_count": 29,
   "metadata": {},
   "outputs": [
    {
     "name": "stdout",
     "output_type": "stream",
     "text": [
      "X-Sieve:\n",
      "X-DSPAM-Resul:\n"
     ]
    }
   ],
   "source": [
    "import re\n",
    "string_list = [\"DX-Sieve\",\"X-Sieve:\",\"X-DSPAM-Resul:\",\"X-Plane is behind schedule: Two weeks\"]\n",
    "for s in string_list:\n",
    "    if re.search(\"^X-\\S+:\",s):\n",
    "        print(s)"
   ]
  },
  {
   "cell_type": "markdown",
   "metadata": {},
   "source": [
    "# Extracting Data"
   ]
  },
  {
   "cell_type": "code",
   "execution_count": 34,
   "metadata": {},
   "outputs": [
    {
     "name": "stdout",
     "output_type": "stream",
     "text": [
      "['2', '19', '42']\n",
      "[]\n"
     ]
    }
   ],
   "source": [
    "import re\n",
    "x = \"My 2 Favorite numbers are 19 and 42\"\n",
    "y = re.findall(\"[0-9]+\",x)\n",
    "print(y)\n",
    "\n",
    "y = re.findall(\"[AEIOU]+[aeiou]+\",x)\n",
    "print(y)\n"
   ]
  },
  {
   "cell_type": "code",
   "execution_count": 2,
   "metadata": {},
   "outputs": [
    {
     "name": "stdout",
     "output_type": "stream",
     "text": [
      "['From:']\n"
     ]
    }
   ],
   "source": [
    "import re\n",
    "x = \"From: using the : character\"\n",
    "# y = re.findall(\"^F.+:\",x) #Greedy Match\n",
    "y = re.findall(\"^F.+?:\",x) # Non-Greedy Match\n",
    "print(y)"
   ]
  },
  {
   "cell_type": "code",
   "execution_count": 5,
   "metadata": {},
   "outputs": [
    {
     "name": "stdout",
     "output_type": "stream",
     "text": [
      "['nagrawal.na1041@protonmail.com']\n",
      "----------\n",
      "['nagrawal.na1041@protonmail.com']\n"
     ]
    }
   ],
   "source": [
    "import re\n",
    "email = \"From nagrawal.na1041@protonmail.com Sat Jan 5 09:14:16 2008\"\n",
    "y = re.findall('\\S+@\\S+',email)\n",
    "print(y)\n",
    "print(\"----------\")\n",
    "y = re.findall(\"^From (\\S+@\\S+)\",email)\n",
    "\"Paraenthesis so as to tell what we want to extract\"\n",
    "print(y)"
   ]
  },
  {
   "cell_type": "code",
   "execution_count": 12,
   "metadata": {},
   "outputs": [
    {
     "name": "stdout",
     "output_type": "stream",
     "text": [
      "['protonmail.com']\n"
     ]
    }
   ],
   "source": [
    "# words = email.split()\n",
    "# mail = words[1]\n",
    "# pieces = mail.split(\"@\")\n",
    "# print(pieces[1])\n",
    "\n",
    "mail = re.findall(\"^From .*@(\\S+)\",email)\n",
    "print(mail)"
   ]
  }
 ],
 "metadata": {
  "interpreter": {
   "hash": "916dbcbb3f70747c44a77c7bcd40155683ae19c65e1c03b4aa3499c5328201f1"
  },
  "kernelspec": {
   "display_name": "Python 3.8.10 64-bit",
   "name": "python3"
  },
  "language_info": {
   "codemirror_mode": {
    "name": "ipython",
    "version": 3
   },
   "file_extension": ".py",
   "mimetype": "text/x-python",
   "name": "python",
   "nbconvert_exporter": "python",
   "pygments_lexer": "ipython3",
   "version": "3.8.10"
  },
  "orig_nbformat": 4
 },
 "nbformat": 4,
 "nbformat_minor": 2
}
