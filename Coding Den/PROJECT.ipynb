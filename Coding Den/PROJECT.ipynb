{
 "cells": [
  {
   "cell_type": "markdown",
   "metadata": {},
   "source": [
    "# PASSWORD CREATOR"
   ]
  },
  {
   "cell_type": "markdown",
   "metadata": {},
   "source": [
    "## TXT SAVE"
   ]
  },
  {
   "cell_type": "code",
   "execution_count": 1,
   "metadata": {},
   "outputs": [
    {
     "name": "stdout",
     "output_type": "stream",
     "text": [
      "Created Passworld is: \n",
      "=(3xYm1R\n",
      "THANK YOU FOR USING OUR SERVICE\n"
     ]
    }
   ],
   "source": [
    "import random\n",
    "# \n",
    "#from typing import Sequence\n",
    "\n",
    "\"\"\"\n",
    "One Part = Special Character\n",
    "Second Part = Capital Letters\n",
    "Third Part = Small letters\n",
    "Fourth Part = Numbers\n",
    "\"\"\"\n",
    "\n",
    "\n",
    "def getSpecialChar(num,password=[]):\n",
    "    specialChList = [\"!\",\"@\",\"#\",\"$\",\"%\",\"^\",\"&\",\"*\",\"(\",\")\",\"_\",\"[\",\"]\",\"<\",\">\",\";\",\":\",\"-\",\"+\",\"=\",\"|\",\"~\",\"`\"]\n",
    "    password.append(random.choices(specialChList, k=num))\n",
    "    # password = \"\".join(password)\n",
    "    return password\n",
    "\n",
    "def getChar(num,password=[]):\n",
    "    letters = []\n",
    "    for j in range(num//2):\n",
    "        letters.append(random.randint(0,25))\n",
    "    for i in letters:\n",
    "        password.append(chr(i+65))\n",
    "\n",
    "    letters = []\n",
    "    for j in range(num//2):\n",
    "        letters.append(random.randint(0,25))\n",
    "    for i in letters:\n",
    "        password.append(chr(97+i))\n",
    "\n",
    "    return password\n",
    "\n",
    "def getNum(num,password=[]):\n",
    "    for i in range(num):\n",
    "        password.append(str(random.randint(0,9)))\n",
    "\n",
    "    return password\n",
    "\n",
    "def passwordCreator(num,password = []):\n",
    "    # Password Collection\n",
    "    password.append(getSpecialChar(num//4))\n",
    "    password.append(getChar(num//2))\n",
    "    password.append(getNum(num//4))\n",
    "    collective = []\n",
    "    for ele in password:\n",
    "        for j in ele:\n",
    "            collective.append(j)\n",
    "\n",
    "\n",
    "    # Password Shuffle\n",
    "    random.shuffle(collective)\n",
    "\n",
    "    # Password Merge\n",
    "    passwordStr = \"\"\n",
    "    for ele in collective:\n",
    "        passwordStr += \"\".join(ele)\n",
    "    \n",
    "    return passwordStr\n",
    "\n",
    "def savePassword(password):\n",
    "    websiteName = input(\"Enter the name of the Website: \\n\")\n",
    "    file = open(\"SavedPasswords.txt\",\"a\")\n",
    "    file.write(f\"{websiteName.lower()}\\n{password}\\n\\n\")\n",
    "    file.close\n",
    "\n",
    "def main():\n",
    "\n",
    "    while True:\n",
    "        try:\n",
    "            lenghtOfPassword = int(input(\"Input the lenght of the password Needed, Minimum should be 4:  \")) \n",
    "        except ValueError:\n",
    "            lenghtOfPassword = 8\n",
    "        result = passwordCreator(lenghtOfPassword)\n",
    "        print(f\"Created Passworld is: \\n{result}\\n\")\n",
    "        decision = input(\"Do you wish to use the password (Yes/No):  \")\n",
    "        if decision.title() == \"Yes\":\n",
    "            savePassword(result)\n",
    "            break\n",
    "\n",
    "        else:\n",
    "            again = input(\"Do you want us to make another password(Yes/No): \\n\")\n",
    "            if again.title() == \"No\":\n",
    "                break\n",
    "\n",
    "    print(\"\\n\\nTHANK YOU FOR USING OUR SERVICE\")\n",
    "\n",
    "\n",
    "main()\n"
   ]
  },
  {
   "cell_type": "code",
   "execution_count": 3,
   "metadata": {},
   "outputs": [
    {
     "data": {
      "text/plain": "6"
     },
     "execution_count": 3,
     "metadata": {},
     "output_type": "execute_result"
    }
   ],
   "source": [
    "a = \"2+4\"\n",
    "eval(a)"
   ]
  }
 ],
 "metadata": {
  "kernelspec": {
   "display_name": "Python 3.9.5 64-bit",
   "name": "python395jvsc74a57bd0e7370f93d1d0cde622a1f8e1c04877d8463912d04d973331ad4851f04de6915a"
  },
  "language_info": {
   "codemirror_mode": {
    "name": "ipython",
    "version": 3
   },
   "file_extension": ".py",
   "mimetype": "text/x-python",
   "name": "python",
   "nbconvert_exporter": "python",
   "pygments_lexer": "ipython3",
   "version": "3.9.5"
  },
  "metadata": {
   "interpreter": {
    "hash": "e7370f93d1d0cde622a1f8e1c04877d8463912d04d973331ad4851f04de6915a"
   }
  },
  "orig_nbformat": 2
 },
 "nbformat": 4,
 "nbformat_minor": 2
}