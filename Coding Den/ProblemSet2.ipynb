{
 "metadata": {
  "language_info": {
   "codemirror_mode": {
    "name": "ipython",
    "version": 3
   },
   "file_extension": ".py",
   "mimetype": "text/x-python",
   "name": "python",
   "nbconvert_exporter": "python",
   "pygments_lexer": "ipython3",
   "version": "3.9.5"
  },
  "orig_nbformat": 2,
  "kernelspec": {
   "name": "python395jvsc74a57bd029a9750479b000d02b465ba3e1a39fd7a8610c5d519bdf5bcd8f74ead63a59d2",
   "display_name": "Python 3.9.5 64-bit (windows store)"
  },
  "metadata": {
   "interpreter": {
    "hash": "29a9750479b000d02b465ba3e1a39fd7a8610c5d519bdf5bcd8f74ead63a59d2"
   }
  }
 },
 "nbformat": 4,
 "nbformat_minor": 2,
 "cells": [
  {
   "source": [
    "# Roman -> Integer"
   ],
   "cell_type": "markdown",
   "metadata": {}
  },
  {
   "cell_type": "code",
   "execution_count": null,
   "metadata": {},
   "outputs": [],
   "source": [
    "def roman_to_int(ip, op = 0):\n",
    "    roman_to_int_simple = {\n",
    "        \"I\":1,\n",
    "        \"V\":5,\n",
    "        \"X\": 10,\n",
    "        \"L\": 50,\n",
    "        \"C\": 100,\n",
    "        \"D\": 500,\n",
    "        \"M\": 1000\n",
    "    }\n",
    "\n",
    "    roman_to_int_complicated = {\n",
    "        \"IV\":4,\n",
    "        \"IX\": 9,\n",
    "        \"LX\": 40,\n",
    "        \"XC\": 90,\n",
    "        \"DC\": 400,\n",
    "        \"CM\": 900\n",
    "    }\n",
    "\n",
    "    while ip:\n",
    "        if len(ip) >= 2:\n",
    "            smallip = [ip[-1], ip[-2], ip[-2:]]\n",
    "\n",
    "        else:\n",
    "            smallip = ip\n",
    "\n",
    "        if \"IV\" in smallip or \"IX\" in smallip or \"LX\" in smallip or \"XC\" in smallip or \"DC\" in smallip or \"CM\" in smallip:\n",
    "            \n",
    "            for key, value in roman_to_int_complicated.items():\n",
    "                if smallip[2] == key:\n",
    "                    op += int(value)\n",
    "                    break\n",
    "            ip = ip[:-2]\n",
    "        else:\n",
    "            op += roman_to_int_simple[smallip[0]]\n",
    "            ip = ip[:-1]\n",
    "\n",
    "    return op"
   ]
  },
  {
   "cell_type": "code",
   "execution_count": null,
   "metadata": {},
   "outputs": [],
   "source": [
    "t1 = \"III\"\n",
    "t2 = \"IV\"\n",
    "t3 = \"IX\"\n",
    "t4 = \"LVIII\"\n",
    "t5 = \"MCMXCIV\"\n",
    "t = t5[:-1]\n",
    "#op = roman_to_int(t5)\n",
    "print(t)"
   ]
  },
  {
   "source": [
    "# Stock Price"
   ],
   "cell_type": "markdown",
   "metadata": {}
  },
  {
   "cell_type": "code",
   "execution_count": null,
   "metadata": {},
   "outputs": [],
   "source": [
    "def stockPrice(prices):\n",
    "    if len(prices) < 2:\n",
    "        return 0\n",
    "    \n",
    "    till_min = prices[0]\n",
    "    profit = 0\n",
    "\n",
    "    for price in prices:\n",
    "        profit = max(profit, price - till_min)\n",
    "        till_min = min(till_min, price)\n",
    "\n",
    "    return profit\n",
    "\n",
    "\n",
    "prices1 = [7,1,5,3,6,4]\n",
    "prices2 = [7,6,4,3,1]\n",
    "print(stockPrice(prices1))"
   ]
  },
  {
   "cell_type": "code",
   "execution_count": null,
   "metadata": {},
   "outputs": [],
   "source": []
  },
  {
   "cell_type": "code",
   "execution_count": null,
   "metadata": {},
   "outputs": [],
   "source": [
    "prices = [7,1,5,3,6,4]\n",
    "print(price(prices))"
   ]
  },
  {
   "source": [
    "# Problem 2"
   ],
   "cell_type": "markdown",
   "metadata": {}
  },
  {
   "cell_type": "code",
   "execution_count": 2,
   "metadata": {},
   "outputs": [
    {
     "output_type": "stream",
     "name": "stdout",
     "text": [
      "None\n"
     ]
    }
   ],
   "source": [
    "def serch(hay, needle):\n",
    "    if needle not in hay:\n",
    "        return -1\n",
    "    else:\n",
    "        \"\"\"index = hay.index(needle)\n",
    "        return index\"\"\"\n",
    "        idx = 0\n",
    "        #i = 0\n",
    "        while idx < len(hay):\n",
    "            i = 0\n",
    "            if hay[idx] == needle[i]:\n",
    "                index = idx\n",
    "                while i<len(needle):\n",
    "                    if hay[idx] != needle[i]:\n",
    "                        break\n",
    "                    idx += 1\n",
    "                    i += 1\n",
    "                else:\n",
    "                    return index\n",
    "            idx += 1\n",
    "\n",
    "s = \"abcaaef\"\n",
    "n = \"ae\"\n",
    "print(serch(s,n))\n",
    "        "
   ]
  },
  {
   "source": [
    "# Count Max Duplicates"
   ],
   "cell_type": "markdown",
   "metadata": {}
  },
  {
   "cell_type": "code",
   "execution_count": null,
   "metadata": {},
   "outputs": [],
   "source": [
    "def majority(nums):\n",
    "    nums_dict= dict.fromkeys(nums)\n",
    "    for i in nums_dict:\n",
    "        c = 0\n",
    "        while i in nums:\n",
    "            c += 1\n",
    "            nums.remove(i)\n",
    "        nums_dict[i] = c\n",
    "\n",
    "    maxi = max(nums_dict, key=nums_dict.get)\n",
    "    return maxi\n",
    "\n",
    "#nums = [2,2,1,1,1,2,2]\n",
    "nums2 = [3,3,4]\n",
    "print(majority(nums2))"
   ]
  },
  {
   "cell_type": "code",
   "execution_count": null,
   "metadata": {},
   "outputs": [],
   "source": [
    "nums = [3,3,4]\n",
    "nums_set= dict.fromkeys(nums)\n",
    "print(majority(nums))\n"
   ]
  },
  {
   "cell_type": "code",
   "execution_count": 33,
   "metadata": {},
   "outputs": [
    {
     "output_type": "stream",
     "name": "stdout",
     "text": [
      "[1, 2, 3, 4, 8, 9]\n"
     ]
    }
   ],
   "source": [
    "nums = [1,1,2,2,3,4,4,4,8,9]\n",
    "for i in nums:\n",
    "    cnt = 0\n",
    "    for j in nums:\n",
    "        if i == j:\n",
    "            cnt += 1\n",
    "    while cnt>1:\n",
    "        nums.remove(i)\n",
    "        cnt -= 1\n",
    "\n",
    "print(nums)\n"
   ]
  },
  {
   "cell_type": "code",
   "execution_count": null,
   "metadata": {},
   "outputs": [],
   "source": []
  }
 ]
}