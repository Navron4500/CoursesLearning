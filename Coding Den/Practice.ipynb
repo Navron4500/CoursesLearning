{
 "metadata": {
  "language_info": {
   "codemirror_mode": {
    "name": "ipython",
    "version": 3
   },
   "file_extension": ".py",
   "mimetype": "text/x-python",
   "name": "python",
   "nbconvert_exporter": "python",
   "pygments_lexer": "ipython3",
   "version": "3.8.8"
  },
  "orig_nbformat": 2,
  "kernelspec": {
   "name": "python388jvsc74a57bd01e915f0a29dc84041eaeb02b7b1a21c440e37a87b61d44d5e84a515737dc82bc",
   "display_name": "Python 3.8.8 64-bit ('base': conda)"
  }
 },
 "nbformat": 4,
 "nbformat_minor": 2,
 "cells": [
  {
   "cell_type": "code",
   "execution_count": null,
   "metadata": {},
   "outputs": [],
   "source": [
    "def isValid(s, check=0):\n",
    "        stack = []\n",
    "        \"\"\"sign = {\n",
    "            \"(\":\")\",\n",
    "            \"[\":\"]\",\n",
    "            \"{\":\"}\"\n",
    "                }\"\"\"\n",
    "\n",
    "        d = collections.defaultdict(str)\n",
    "        d[\"{\"] = \"}\"\n",
    "        d[\"[\"] = \"]\"\n",
    "        d[\"(\"] = \")\"\n",
    "        for ch in s:\n",
    "            if stack and d[stack[-1]] == ch:\n",
    "                stack.pop\n",
    "            else:\n",
    "                stack.append(ch)\n",
    "\n",
    "        return not stack\n",
    "            \n",
    "    \n",
    "t1 = str(\"()\")\n",
    "t2 = str( \"(){}[]\")\n",
    "t3 = str(\"(]\")\n",
    "t4 = str( \"(){\")\n",
    "t5 = str(\"([]}\")\n",
    "t6 = \"})\"\n",
    "print(isValid(t1))"
   ]
  },
  {
   "cell_type": "code",
   "execution_count": 156,
   "metadata": {},
   "outputs": [
    {
     "output_type": "stream",
     "name": "stdout",
     "text": [
      "()=true\n(){}[]=true\n(]=false\n(){=false\n([]}=false\n{)=false\n(([]){})=true\n"
     ]
    }
   ],
   "source": [
    "def isValid(s):\n",
    "    if len(s)%2 != 0:\n",
    "        return \"false\"\n",
    "    else:\n",
    "        i = 0\n",
    "        sign = {\n",
    "            \"(\":\")\",\n",
    "            \"[\":\"]\",\n",
    "            \"{\":\"}\"\n",
    "                }\n",
    "        while s and len(s)>1 and i<len(s)-1 and s[i] in sign:\n",
    "            if sign[s[i]] == s[i+1]:\n",
    "                s = s[:i]+s[i+2:]\n",
    "                i = 0\n",
    "                continue\n",
    "            \n",
    "            i += 1\n",
    "\n",
    "\n",
    "        if not s:\n",
    "            return \"true\"\n",
    "        else:\n",
    "            return \"false\"\n",
    "                    \n",
    "            \n",
    "\n",
    "t = [\"()\", \"(){}[]\", \"(]\",\"(){\", \"([]}\", \"{)\", \"(([]){})\"]\n",
    "for ti in t:\n",
    "    print(ti +\"=\" + isValid(ti))\n",
    "# print(t[3] +\"=\" + isValid(t[3]))\n"
   ]
  },
  {
   "cell_type": "code",
   "execution_count": null,
   "metadata": {},
   "outputs": [],
   "source": [
    "sign = {\n",
    "        \"(\":\")\",\n",
    "        \"[\":\"]\",\n",
    "        \"{\":\"}\"\n",
    "    }\n",
    "t1 = str(\"()\")\n",
    "print(sign[t1[0]] == t1[1])"
   ]
  },
  {
   "cell_type": "code",
   "execution_count": null,
   "metadata": {},
   "outputs": [],
   "source": [
    "sign = {\n",
    "        \"(\":\")\",\n",
    "        \"[\":\"]\",\n",
    "        \"{\":\"}\"\n",
    "    }\n",
    "s = \"(\"\n",
    "print(s in sign)"
   ]
  },
  {
   "source": [
    "# Mansi's Code"
   ],
   "cell_type": "markdown",
   "metadata": {}
  },
  {
   "source": [
    "print(\"please enter the string and it should be combination of brackets\")\n",
    "s = \"([]\"\n",
    "n = len(s)\n",
    "for i in range(0, n):\n",
    "    if s[i] == '{':\n",
    "        if s[i+1] == '}':\n",
    "            y = 1\n",
    "        elif s[i+1] == \" \":\n",
    "            continue\n",
    "        else: y = 0\n",
    "    elif s[i] == '[':\n",
    "        if s[i + 1] == ']':\n",
    "            y = 1\n",
    "        elif s[i + 1] == \" \":\n",
    "            continue\n",
    "        else:\n",
    "            y = 0\n",
    "    elif s[i] == '(':\n",
    "        if s[i + 1] == ')':\n",
    "            y = 1\n",
    "        elif s[i + 1] == \" \":\n",
    "            continue\n",
    "        else:\n",
    "            y = 0\n",
    "if y == 1:\n",
    "    print(\"true\")\n",
    "elif y == 0: \n",
    "    print(\"false\")"
   ],
   "cell_type": "code",
   "metadata": {},
   "execution_count": null,
   "outputs": []
  },
  {
   "source": [
    "## Code-2"
   ],
   "cell_type": "markdown",
   "metadata": {}
  },
  {
   "cell_type": "code",
   "execution_count": null,
   "metadata": {},
   "outputs": [],
   "source": [
    "t = [\"()\", \"(){}[]\", \"(]\",\"(){\", \"([]}\", \"{)\", \"(([]){})\"]\n",
    "def whitespaces(string):\n",
    "    x = string.replace(\" \", \"\")\n",
    "    return x\n",
    "print(\"please enter the string and it should be combination of brackets\")\n",
    "s1 = t[6]\n",
    "s = whitespaces(s1)\n",
    "n = len(s)\n",
    "y = 0\n",
    "print(s)\n",
    "for i in range(0, n):\n",
    "    if s[i] == '{':\n",
    "        if s[i+1] == '}':\n",
    "            y = 1\n",
    "        else: break\n",
    "    elif s[i] == '[':\n",
    "        if s[i + 1] == ']':\n",
    "            y = 1\n",
    "        else: break\n",
    "    elif s[i] == '(':\n",
    "        if s[i + 1] == ')':\n",
    "            y = 1\n",
    "        else: break\n",
    "    else: continue\n",
    "if y == 1:\n",
    "    print(\"true\")\n",
    "elif y == 0:\n",
    "    print(\"false\")"
   ]
  }
 ]
}