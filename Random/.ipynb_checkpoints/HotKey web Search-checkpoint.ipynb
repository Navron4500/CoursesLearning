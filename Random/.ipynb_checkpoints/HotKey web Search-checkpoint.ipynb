{
 "cells": [
  {
   "cell_type": "code",
   "execution_count": null,
   "id": "8d5e5fe5",
   "metadata": {
    "scrolled": false
   },
   "outputs": [],
   "source": [
    "import webbrowser\n",
    "import keyboard\n",
    "import tk"
   ]
  },
  {
   "cell_type": "code",
   "execution_count": null,
   "id": "977e37e0",
   "metadata": {},
   "outputs": [],
   "source": [
    "!pip install tk"
   ]
  },
  {
   "cell_type": "code",
   "execution_count": null,
   "id": "646524ce",
   "metadata": {},
   "outputs": [],
   "source": [
    "def get():\n",
    "#     print(\"Getting input\")\n",
    "    Search = input(\"What to Search? \")\n",
    "    return Search\n",
    "\n",
    "def SearchInWeb(toSearch):\n",
    "    print(\"Searching...\")\n",
    "       \n",
    "#     toSearch = \"India\"\n",
    "    toSearchList = set(toSearch.split())\n",
    "    \n",
    "    toOpen = \"https://duckduckgo.com/?q=\" + \"+\".join(toSearchList) + \"&t=h_&ia=web\"\n",
    "    webbrowser.open(toOpen)\n",
    "    \n",
    "def seq():\n",
    "    got = get()\n",
    "    SearchInWeb(got)\n"
   ]
  },
  {
   "cell_type": "code",
   "execution_count": null,
   "id": "399ce710",
   "metadata": {},
   "outputs": [],
   "source": [
    "top = tk()\n",
    "L1 = Label(top, text=\"User Name\")\n",
    "L1.pack( side = LEFT)\n",
    "E1 = Entry(top, bd =5)\n",
    "E1.pack(side = RIGHT)\n",
    "\n",
    "top.mainloop()"
   ]
  },
  {
   "cell_type": "code",
   "execution_count": null,
   "id": "43b2c17b",
   "metadata": {},
   "outputs": [],
   "source": [
    "from pynput import keyboard\n",
    "from pynput.keyboard import Key, Controller\n",
    "\n",
    "kbd = Controller()\n",
    "\n",
    "COMBINATIONS = [\n",
    "        {keyboard.Key.shift, keyboard.KeyCode(char=\"p\")},\n",
    "        {keyboard.Key.shift, keyboard.KeyCode(char=\"P\")}\n",
    "        ]\n",
    "\n",
    "current = set()\n",
    "\n",
    "def execute():\n",
    "    print(\"Dectected HotKey\") #goes into the console window\n",
    "\n",
    "    #\"hitting\" backspace to remove the \"P\",\n",
    "    #must be unnecessary if we use some other modifier (Alt, Ctrl)\n",
    "    kbd.press(Key.backspace)\n",
    "    kbd.release(Key.backspace)\n",
    "    kbd.type('Hi motherfucker!') #goes into the active app window\n",
    "\n",
    "def on_press(key):\n",
    "    if any ([key in COMBO for COMBO in COMBINATIONS]):\n",
    "        current.add(key)\n",
    "        if any(all(k in current for k in COMBO) for COMBO in COMBINATIONS):\n",
    "            execute()\n",
    "\n",
    "def on_release(key):\n",
    "    if any([key in COMBO for COMBO in COMBINATIONS]):\n",
    "        current.remove(key)\n",
    "\n",
    "with keyboard.Listener(on_press=on_press, on_release=on_release) as listener:\n",
    "    listener.join()"
   ]
  },
  {
   "cell_type": "code",
   "execution_count": 2,
   "id": "9db544cb",
   "metadata": {},
   "outputs": [],
   "source": [
    "import tkinter \n",
    "import webbrowser\n",
    "import keyboard\n",
    "import pyautogui\n",
    "\n",
    "def SearchInWeb():\n",
    "    got = E1.get()\n",
    "    got = got.split()\n",
    "    # top.destory()\n",
    "    toOpen = \"https://duckduckgo.com/?q=\" + \"+\".join(got) + \"&t=h_&ia=web\"\n",
    "    webbrowser.open(toOpen)\n",
    "\n",
    "\n",
    "top = tkinter.Tk()\n",
    "L1 = tkinter.Label(top, text=\"What to Search\")\n",
    "L1.grid(row=0,column=0)\n",
    "\n",
    "E1 = tkinter.Entry(top, bd =5)\n",
    "E1.grid(row=0, column=1)\n",
    "\n",
    "b1 = tkinter.Button(top, text=\"Search\", command=SearchInWeb)\n",
    "b1.grid(row=1,column=1)\n",
    "\n",
    "# top.bind('<Control-f>', click)\n",
    "\n",
    "\n",
    "top.mainloop()"
   ]
  },
  {
   "cell_type": "code",
   "execution_count": null,
   "id": "a417d357",
   "metadata": {},
   "outputs": [],
   "source": []
  }
 ],
 "metadata": {
  "kernelspec": {
   "display_name": "Python 3 (ipykernel)",
   "language": "python",
   "name": "python3"
  },
  "language_info": {
   "codemirror_mode": {
    "name": "ipython",
    "version": 3
   },
   "file_extension": ".py",
   "mimetype": "text/x-python",
   "name": "python",
   "nbconvert_exporter": "python",
   "pygments_lexer": "ipython3",
   "version": "3.8.8"
  }
 },
 "nbformat": 4,
 "nbformat_minor": 5
}
