{
 "cells": [
  {
   "cell_type": "markdown",
   "metadata": {},
   "source": [
    "# Linked List"
   ]
  },
  {
   "cell_type": "code",
   "execution_count": 6,
   "metadata": {},
   "outputs": [],
   "source": [
    "class Node:\n",
    "    def __init__(self,data):\n",
    "        self.data = data\n",
    "        self.next = None"
   ]
  },
  {
   "cell_type": "markdown",
   "metadata": {},
   "source": [
    "## Input Linked List (takeinput())"
   ]
  },
  {
   "cell_type": "code",
   "execution_count": 7,
   "metadata": {},
   "outputs": [],
   "source": [
    "def takeinput():\n",
    "    inputList = list(map(int,input().split()))\n",
    "    inputList.append(int(-1))\n",
    "    head = None\n",
    "    tail = None\n",
    "    for ele in inputList:\n",
    "        if ele == -1:\n",
    "            break\n",
    "        \n",
    "        NewNode = Node(ele)\n",
    "        if not head:\n",
    "            head = NewNode\n",
    "            tail = NewNode\n",
    "        else:\n",
    "            tail.next = NewNode\n",
    "            tail = tail.next\n",
    "\n",
    "    return head\n"
   ]
  },
  {
   "cell_type": "markdown",
   "metadata": {},
   "source": [
    "## Printing Linked List (printLL(head))"
   ]
  },
  {
   "cell_type": "code",
   "execution_count": 8,
   "metadata": {},
   "outputs": [],
   "source": [
    "def printLL(head):\n",
    "    while head:\n",
    "        print(f\"{head.data}->\",end=\"\")\n",
    "        head = head.next\n",
    "    print(\"None\")\n",
    "    return\n"
   ]
  },
  {
   "cell_type": "markdown",
   "metadata": {},
   "source": [
    "## Length of Linked list (length(head))"
   ]
  },
  {
   "cell_type": "code",
   "execution_count": 9,
   "metadata": {},
   "outputs": [],
   "source": [
    "def lengthLL(head) :\n",
    "    #Your code goes here\n",
    "    lengthOfLL = 0\n",
    "    while head:\n",
    "        lengthOfLL += 1\n",
    "        head = head.next\n",
    "\n",
    "    return lengthOfLL"
   ]
  },
  {
   "cell_type": "markdown",
   "metadata": {},
   "source": [
    "## Getting ith element of LL (printIthNode(head,i))"
   ]
  },
  {
   "cell_type": "code",
   "execution_count": 10,
   "metadata": {},
   "outputs": [],
   "source": [
    "def printIthNode(head, i):\n",
    "    if length(head) > i:\n",
    "        return\n",
    "    index = 0\n",
    "    while head:\n",
    "        if index == i:\n",
    "            print(head.data)\n",
    "            return\n",
    "        head = head.next"
   ]
  },
  {
   "cell_type": "markdown",
   "metadata": {},
   "source": [
    "## Node Insertion (insertAtI(head,i,data))"
   ]
  },
  {
   "cell_type": "code",
   "execution_count": 11,
   "metadata": {},
   "outputs": [],
   "source": [
    "def insertAtI(head,i,data):\n",
    "    \n",
    "    if i<0 or length(head) < i:\n",
    "        return head\n",
    "    \n",
    "    count = 0\n",
    "    prev = None\n",
    "    curr = head\n",
    "    while count < i:\n",
    "        prev = curr\n",
    "        curr = curr.next\n",
    "        count += 1\n",
    "\n",
    "    newNode = Node(data)\n",
    "    if not i:\n",
    "        head = newNode\n",
    "    else:\n",
    "        prev.next = newNode\n",
    "    newNode.next = curr\n",
    "\n",
    "    return head\n",
    "    \n"
   ]
  },
  {
   "cell_type": "markdown",
   "metadata": {},
   "source": [
    "### InsertAtI (Recursive)"
   ]
  },
  {
   "cell_type": "code",
   "execution_count": 12,
   "metadata": {},
   "outputs": [],
   "source": [
    "def insertAtIRecursive(head,i,data):\n",
    "    if i < 0: \n",
    "        return head\n",
    "    elif i == 0:\n",
    "        newNode = Node(data)\n",
    "        newNode.next = head\n",
    "        return newNode\n",
    "    if head is None:\n",
    "        return None\n",
    "\n",
    "    smallhead = insertAtIRecursive(head.next,i-1,data)\n",
    "    head.next = smallhead\n",
    "    return head"
   ]
  },
  {
   "cell_type": "code",
   "execution_count": null,
   "metadata": {},
   "outputs": [],
   "source": []
  },
  {
   "cell_type": "markdown",
   "metadata": {},
   "source": [
    "## Node Deletion "
   ]
  },
  {
   "cell_type": "code",
   "execution_count": 13,
   "metadata": {},
   "outputs": [],
   "source": [
    "def deleteNode(head, pos) :\n",
    "    lengthOfLL = length(head)\n",
    "    if pos<0 or pos>lengthOfLL:\n",
    "        return head\n",
    "    cnt = 0\n",
    "    curr = head\n",
    "    prev = None\n",
    "    while cnt != pos:\n",
    "        cnt += 1\n",
    "        prev = curr\n",
    "        curr = curr.next\n",
    "\n",
    "    if pos == 0:\n",
    "        head = head.next\n",
    "    elif pos == lengthOfLL:\n",
    "        prev.next = None\n",
    "    else:\n",
    "        prev.next = curr.next\n",
    "\n",
    "    return head\n",
    "        "
   ]
  },
  {
   "cell_type": "code",
   "execution_count": 14,
   "metadata": {},
   "outputs": [],
   "source": [
    "def deleteNodeR(head, pos) :\n",
    "    if pos<0:\n",
    "        return head\n",
    "\n",
    "    if not head:\n",
    "        return None\n",
    "\n",
    "    if pos == 0:\n",
    "        return head.next\n",
    "\n",
    "    smallhead = deleteNodeR(head.next,pos-1)\n",
    "    head.next = smallhead\n",
    "    return head\n",
    "    "
   ]
  },
  {
   "cell_type": "markdown",
   "metadata": {},
   "source": [
    "## Execution Part"
   ]
  },
  {
   "cell_type": "code",
   "execution_count": 15,
   "metadata": {},
   "outputs": [
    {
     "name": "stdout",
     "output_type": "stream",
     "text": [
      "1->2->3->4->5->6->None\n"
     ]
    }
   ],
   "source": [
    "head = takeinput()\n",
    "printLL(head)"
   ]
  },
  {
   "cell_type": "code",
   "execution_count": 18,
   "metadata": {},
   "outputs": [
    {
     "name": "stdout",
     "output_type": "stream",
     "text": [
      "1->2->3->4->5->6->None\n"
     ]
    }
   ],
   "source": [
    "head.data, head.next.next.data = head.next.next.data, head.data\n",
    "printLL(head)"
   ]
  },
  {
   "cell_type": "markdown",
   "metadata": {},
   "source": [
    "# ASSISGNMENTS - 1"
   ]
  },
  {
   "cell_type": "markdown",
   "metadata": {},
   "source": [
    "## Find Node"
   ]
  },
  {
   "cell_type": "code",
   "execution_count": 16,
   "metadata": {},
   "outputs": [],
   "source": [
    "def findNode(head, n) :\n",
    "    index = 0\n",
    "    while head:\n",
    "        if head.data == n:\n",
    "            return index\n",
    "        head = head.next\n",
    "        index += 1\n",
    "    \n",
    "    return -1"
   ]
  },
  {
   "cell_type": "markdown",
   "metadata": {},
   "source": [
    "## AppendLastNToFirst "
   ]
  },
  {
   "cell_type": "code",
   "execution_count": null,
   "metadata": {},
   "outputs": [],
   "source": [
    "def appendLastNToFirst(head, n):\n",
    "    Length = length(head)\n",
    "    find = Length - n\n",
    "    index = 0\n",
    "    \n",
    "    prev = None\n",
    "    curr = head\n",
    "    while index < find: #n\n",
    "        prev = curr\n",
    "        curr = curr.next\n",
    "        index += 1\n",
    "    \n",
    "    prev.next = None\n",
    "    prev = curr\n",
    "\n",
    "    while curr:\n",
    "        curr = curr.next\n",
    "\n",
    "    curr.next = head\n",
    "    head = prev\n",
    "\n",
    "    return head"
   ]
  }
 ],
 "metadata": {
  "kernelspec": {
   "display_name": "Python 3",
   "language": "python",
   "name": "python3"
  },
  "language_info": {
   "codemirror_mode": {
    "name": "ipython",
    "version": 3
   },
   "file_extension": ".py",
   "mimetype": "text/x-python",
   "name": "python",
   "nbconvert_exporter": "python",
   "pygments_lexer": "ipython3",
   "version": "3.9.5"
  },
  "orig_nbformat": 2
 },
 "nbformat": 4,
 "nbformat_minor": 2
}