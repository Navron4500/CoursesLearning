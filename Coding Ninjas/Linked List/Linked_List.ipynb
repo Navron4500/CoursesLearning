{
 "cells": [
  {
   "cell_type": "markdown",
   "metadata": {},
   "source": [
    "# LINKED LIST - I"
   ]
  },
  {
   "cell_type": "code",
   "execution_count": 6,
   "metadata": {},
   "outputs": [],
   "source": [
    "class Node:\n",
    "    def __init__(self,data):\n",
    "        self.data = data\n",
    "        self.next = None"
   ]
  },
  {
   "cell_type": "markdown",
   "metadata": {},
   "source": [
    "## Input Linked List (takeinput())"
   ]
  },
  {
   "cell_type": "code",
   "execution_count": 7,
   "metadata": {},
   "outputs": [],
   "source": [
    "def takeinput():\n",
    "    inputList = list(map(int,input().split()))\n",
    "    inputList.append(int(-1))\n",
    "    head = None\n",
    "    tail = None\n",
    "    for ele in inputList:\n",
    "        if ele == -1:\n",
    "            break\n",
    "        \n",
    "        NewNode = Node(ele)\n",
    "        if not head:\n",
    "            head = NewNode\n",
    "            tail = NewNode\n",
    "        else:\n",
    "            tail.next = NewNode\n",
    "            tail = tail.next\n",
    "\n",
    "    return head\n"
   ]
  },
  {
   "cell_type": "markdown",
   "metadata": {},
   "source": [
    "## Printing Linked List (printLL(head))"
   ]
  },
  {
   "cell_type": "code",
   "execution_count": 8,
   "metadata": {},
   "outputs": [],
   "source": [
    "def printLL(head):\n",
    "    while head:\n",
    "        print(f\"{head.data}->\",end=\"\")\n",
    "        head = head.next\n",
    "    print(\"None\")\n",
    "    return\n"
   ]
  },
  {
   "cell_type": "markdown",
   "metadata": {},
   "source": [
    "## Length of Linked list (length(head))"
   ]
  },
  {
   "cell_type": "code",
   "execution_count": 9,
   "metadata": {},
   "outputs": [],
   "source": [
    "def lengthLL(head) :\n",
    "    #Your code goes here\n",
    "    lengthOfLL = 0\n",
    "    while head:\n",
    "        lengthOfLL += 1\n",
    "        head = head.next\n",
    "\n",
    "    return lengthOfLL"
   ]
  },
  {
   "cell_type": "markdown",
   "metadata": {},
   "source": [
    "## Getting ith element of LL (printIthNode(head,i))"
   ]
  },
  {
   "cell_type": "code",
   "execution_count": 10,
   "metadata": {},
   "outputs": [],
   "source": [
    "def printIthNode(head, i):\n",
    "    if length(head) > i:\n",
    "        return\n",
    "    index = 0\n",
    "    while head:\n",
    "        if index == i:\n",
    "            print(head.data)\n",
    "            return\n",
    "        head = head.next"
   ]
  },
  {
   "cell_type": "markdown",
   "metadata": {},
   "source": [
    "## Node Insertion (insertAtI(head,i,data))"
   ]
  },
  {
   "cell_type": "code",
   "execution_count": 11,
   "metadata": {},
   "outputs": [],
   "source": [
    "def insertAtI(head,i,data):\n",
    "    \n",
    "    if i<0 or length(head) < i:\n",
    "        return head\n",
    "    \n",
    "    count = 0\n",
    "    prev = None\n",
    "    curr = head\n",
    "    while count < i:\n",
    "        prev = curr\n",
    "        curr = curr.next\n",
    "        count += 1\n",
    "\n",
    "    newNode = Node(data)\n",
    "    if not i:\n",
    "        head = newNode\n",
    "    else:\n",
    "        prev.next = newNode\n",
    "    newNode.next = curr\n",
    "\n",
    "    return head\n",
    "    \n"
   ]
  },
  {
   "cell_type": "markdown",
   "metadata": {},
   "source": [
    "### InsertAtI (Recursive)"
   ]
  },
  {
   "cell_type": "code",
   "execution_count": 12,
   "metadata": {},
   "outputs": [],
   "source": [
    "def insertAtIRecursive(head,i,data):\n",
    "    if i < 0: \n",
    "        return head\n",
    "    elif i == 0:\n",
    "        newNode = Node(data)\n",
    "        newNode.next = head\n",
    "        return newNode\n",
    "    if head is None:\n",
    "        return None\n",
    "\n",
    "    smallhead = insertAtIRecursive(head.next,i-1,data)\n",
    "    head.next = smallhead\n",
    "    return head"
   ]
  },
  {
   "cell_type": "code",
   "execution_count": null,
   "metadata": {},
   "outputs": [],
   "source": []
  },
  {
   "cell_type": "markdown",
   "metadata": {},
   "source": [
    "## Node Deletion "
   ]
  },
  {
   "cell_type": "code",
   "execution_count": 13,
   "metadata": {},
   "outputs": [],
   "source": [
    "def deleteNode(head, pos) :\n",
    "    lengthOfLL = length(head)\n",
    "    if pos<0 or pos>lengthOfLL:\n",
    "        return head\n",
    "    cnt = 0\n",
    "    curr = head\n",
    "    prev = None\n",
    "    while cnt != pos:\n",
    "        cnt += 1\n",
    "        prev = curr\n",
    "        curr = curr.next\n",
    "\n",
    "    if pos == 0:\n",
    "        head = head.next\n",
    "    elif pos == lengthOfLL:\n",
    "        prev.next = None\n",
    "    else:\n",
    "        prev.next = curr.next\n",
    "\n",
    "    return head\n",
    "        "
   ]
  },
  {
   "cell_type": "code",
   "execution_count": 14,
   "metadata": {},
   "outputs": [],
   "source": [
    "def deleteNodeR(head, pos) :\n",
    "    if pos<0:\n",
    "        return head\n",
    "\n",
    "    if not head:\n",
    "        return None\n",
    "\n",
    "    if pos == 0:\n",
    "        return head.next\n",
    "\n",
    "    smallhead = deleteNodeR(head.next,pos-1)\n",
    "    head.next = smallhead\n",
    "    return head\n",
    "    "
   ]
  },
  {
   "cell_type": "markdown",
   "metadata": {},
   "source": [
    "## Execution Part"
   ]
  },
  {
   "cell_type": "code",
   "execution_count": 15,
   "metadata": {},
   "outputs": [
    {
     "name": "stdout",
     "output_type": "stream",
     "text": [
      "1->2->3->4->5->6->None\n"
     ]
    }
   ],
   "source": [
    "head = takeinput()\n",
    "printLL(head)"
   ]
  },
  {
   "cell_type": "code",
   "execution_count": 18,
   "metadata": {},
   "outputs": [
    {
     "name": "stdout",
     "output_type": "stream",
     "text": [
      "1->2->3->4->5->6->None\n"
     ]
    }
   ],
   "source": [
    "head.data, head.next.next.data = head.next.next.data, head.data\n",
    "printLL(head)"
   ]
  },
  {
   "cell_type": "markdown",
   "metadata": {},
   "source": [
    "# ASSISGNMENTS - 1"
   ]
  },
  {
   "cell_type": "markdown",
   "metadata": {},
   "source": [
    "## Find Node"
   ]
  },
  {
   "cell_type": "code",
   "execution_count": 16,
   "metadata": {},
   "outputs": [],
   "source": [
    "def findNode(head, n) :\n",
    "    index = 0\n",
    "    while head:\n",
    "        if head.data == n:\n",
    "            return index\n",
    "        head = head.next\n",
    "        index += 1\n",
    "    \n",
    "    return -1"
   ]
  },
  {
   "cell_type": "markdown",
   "metadata": {},
   "source": [
    "## AppendLastNToFirst "
   ]
  },
  {
   "cell_type": "code",
   "execution_count": null,
   "metadata": {},
   "outputs": [],
   "source": [
    "def appendLastNToFirst(head, n):\n",
    "    Length = length(head)\n",
    "    find = Length - n\n",
    "    index = 0\n",
    "    \n",
    "    prev = None\n",
    "    curr = head\n",
    "    while index < find: #n\n",
    "        prev = curr\n",
    "        curr = curr.next\n",
    "        index += 1\n",
    "    \n",
    "    prev.next = None\n",
    "    prev = curr\n",
    "\n",
    "    while curr:\n",
    "        curr = curr.next\n",
    "\n",
    "    curr.next = head\n",
    "    head = prev\n",
    "\n",
    "    return head"
   ]
  },
  {
   "cell_type": "markdown",
   "metadata": {},
   "source": [
    "###  Eliminate duplicates from LL "
   ]
  },
  {
   "cell_type": "code",
   "execution_count": null,
   "metadata": {},
   "outputs": [],
   "source": [
    "def removeDuplicates(head) :\n",
    "    subhead = head\n",
    "    while subhead and subhead.next:\n",
    "        temphead = subhead\n",
    "        while temphead  and temphead.data == subhead.data:\n",
    "            temphead = temphead.next\n",
    "\n",
    "        if not temphead:\n",
    "            subhead.next = None\n",
    "            break\n",
    "        else:\n",
    "            subhead.next = temphead\n",
    "            subhead = subhead.next\n",
    "\n",
    "\n",
    "    return head"
   ]
  },
  {
   "cell_type": "markdown",
   "metadata": {},
   "source": [
    "## Print Reverse LinkedList "
   ]
  },
  {
   "cell_type": "code",
   "execution_count": null,
   "metadata": {},
   "outputs": [],
   "source": [
    "def printReverse(head) :\n",
    "    s = \"\"\n",
    "    while head:\n",
    "        s = str(head.data) + \" \" + s\n",
    "        head = head.next\n",
    "\n",
    "    print(s)"
   ]
  },
  {
   "cell_type": "markdown",
   "metadata": {},
   "source": [
    "## Palindrome LinkedList "
   ]
  },
  {
   "cell_type": "code",
   "execution_count": null,
   "metadata": {},
   "outputs": [],
   "source": [
    "def isPalindrome(head) :\n",
    "    front = \"\"\n",
    "    back = \"\"\n",
    "    while head:\n",
    "        front = str(head.data) + front\n",
    "        back += str(head.data)\n",
    "        head = head.next\n",
    "\n",
    "    return front==back\n",
    "\n"
   ]
  },
  {
   "cell_type": "markdown",
   "metadata": {},
   "source": [
    "# LINKED LIST - II"
   ]
  },
  {
   "cell_type": "markdown",
   "metadata": {},
   "source": [
    "## Reverse LL (Recersive)"
   ]
  },
  {
   "cell_type": "code",
   "execution_count": null,
   "metadata": {},
   "outputs": [],
   "source": [
    "def reverseLinkedListRec(head) :\n",
    "    \t#Your code goes here\n",
    "    if not head or not head.next :\n",
    "        return head\n",
    "    \n",
    "    smallHead = reverseLinkedListRec(head.next)\n",
    "    tail = head.next\n",
    "    tail.next, head.next = head, None\n",
    "    \n",
    "    return smallHead"
   ]
  },
  {
   "cell_type": "markdown",
   "metadata": {},
   "source": [
    "## Reverse LL"
   ]
  },
  {
   "cell_type": "code",
   "execution_count": 2,
   "metadata": {},
   "outputs": [
    {
     "name": "stdout",
     "output_type": "stream",
     "text": [
      "0\n",
      "1\n"
     ]
    }
   ],
   "source": [
    "def reverse(head):\n",
    "    prev = None\n",
    "    curr = head\n",
    "    prec = head.next\n",
    "    while curr:\n",
    "        curr.next = prev\n",
    "        prev = curr\n",
    "        curr = prec\n",
    "        if prec:\n",
    "            prec = prec.next\n",
    "\n",
    "\n",
    "    return head"
   ]
  },
  {
   "cell_type": "markdown",
   "metadata": {},
   "source": [
    "## Midpoint of Linked list "
   ]
  },
  {
   "cell_type": "code",
   "execution_count": null,
   "metadata": {},
   "outputs": [],
   "source": [
    "def midPoint(head):\n",
    "    slow , fast= head, head\n",
    "    while fast.next and fast.next.next:\n",
    "        slow = slow.next\n",
    "        fast = fast.next.next\n",
    "\n",
    "    return slow"
   ]
  },
  {
   "cell_type": "markdown",
   "metadata": {},
   "source": [
    "## Merge two sorted LL\n"
   ]
  },
  {
   "cell_type": "code",
   "execution_count": null,
   "metadata": {},
   "outputs": [],
   "source": [
    "def mergeTwoSortedLinkedLists(head1, head2):\n",
    "    finalHead, tail = None, None\n",
    "    \n",
    "    if head1.data <= head2.data:\n",
    "        finalHead, tail = head1, head1\n",
    "        head1 = head1.next\n",
    "    elif head2.data < head1.data:\n",
    "        finalHead, tail = head2, head2\n",
    "        head2 = head2.next\n",
    "\n",
    "    while head1 and head2:\n",
    "        if head1.data <= head2.data:\n",
    "            tail.next = head1\n",
    "            tail = tail.next\n",
    "            head1 = head1.next\n",
    "\n",
    "        elif head2.data < head1.data:\n",
    "            tail.next = head2\n",
    "            tail = tail.next\n",
    "            head2 = head2.next\n",
    "\n",
    "    if head1:\n",
    "        tail.next = head1\n",
    "        tail = tail.next\n",
    "        head1 = head1.next\n",
    "\n",
    "    if head2:\n",
    "        tail.next = head2\n",
    "        tail = tail.next\n",
    "        head2 = head2.next\n",
    "\n",
    "    return finalHead\n",
    "    "
   ]
  },
  {
   "cell_type": "markdown",
   "metadata": {},
   "source": [
    "## Merge Sort LL"
   ]
  },
  {
   "cell_type": "code",
   "execution_count": null,
   "metadata": {},
   "outputs": [],
   "source": [
    "def mergeSortLL(head):\n",
    "    if not head:\n",
    "        return None\n",
    "    \n",
    "    if not head.next:\n",
    "        return head\n",
    "\n",
    "    mid = midPoint(head)\n",
    "    head2 = mid.next\n",
    "    mid.next = None\n",
    "    head1 = mergeSortLL(head)\n",
    "    head2 = mergeSortLL(head2)\n",
    "\n",
    "    return mergeTwoSortedLinkedLists(head1, head2)"
   ]
  },
  {
   "cell_type": "markdown",
   "metadata": {},
   "source": [
    "# ASSIGNMENT - II"
   ]
  },
  {
   "cell_type": "code",
   "execution_count": null,
   "metadata": {},
   "outputs": [],
   "source": []
  }
 ],
 "metadata": {
  "kernelspec": {
   "display_name": "Python 3",
   "language": "python",
   "name": "python3"
  },
  "language_info": {
   "codemirror_mode": {
    "name": "ipython",
    "version": 3
   },
   "file_extension": ".py",
   "mimetype": "text/x-python",
   "name": "python",
   "nbconvert_exporter": "python",
   "pygments_lexer": "ipython3",
   "version": "3.9.5"
  },
  "orig_nbformat": 2
 },
 "nbformat": 4,
 "nbformat_minor": 2
}