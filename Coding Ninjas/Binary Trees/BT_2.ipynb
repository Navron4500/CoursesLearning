{
 "cells": [
  {
   "cell_type": "markdown",
   "metadata": {},
   "source": [
    "# BinaryTreeNode"
   ]
  },
  {
   "cell_type": "markdown",
   "metadata": {},
   "source": [
    "# Remove the Leaf Node"
   ]
  },
  {
   "cell_type": "markdown",
   "metadata": {},
   "source": [
    "# Print BinaryTree"
   ]
  },
  {
   "cell_type": "code",
   "execution_count": 3,
   "metadata": {},
   "outputs": [],
   "source": [
    "def printTree(root):\n",
    "    if not root:\n",
    "        return\n",
    "\n",
    "    print(root.data, end=\": \")\n",
    "    if root.left:\n",
    "        print(\"L\",root.left.data,end=\" \")\n",
    "    if root.right:\n",
    "        print(\"R\",root.right.data,end=\" \")\n",
    "    print()\n",
    "    printTree(root.left)\n",
    "    printTree(root.right)"
   ]
  },
  {
   "cell_type": "code",
   "execution_count": 2,
   "metadata": {},
   "outputs": [],
   "source": [
    "class BinaryTreeNode:\n",
    "    def __init__(self,data) -> None:\n",
    "        self.data = data\n",
    "        self.left = None\n",
    "        self.right = None\n",
    "        "
   ]
  },
  {
   "cell_type": "markdown",
   "metadata": {},
   "source": [
    "# Input Binary Tree"
   ]
  },
  {
   "cell_type": "code",
   "execution_count": 4,
   "metadata": {},
   "outputs": [],
   "source": [
    "def treeInput(): \n",
    "    \"\"\"\n",
    "    Taking input According to Parent Children \n",
    "    \"\"\"\n",
    "    rootData = int(input())\n",
    "    if rootData == -1:\n",
    "        return None\n",
    "    \n",
    "    root = BinaryTreeNode(rootData)\n",
    "    leftTree = treeInput()\n",
    "    rightTree = treeInput()\n",
    "    root.left = leftTree\n",
    "    root.right = rightTree\n",
    "    return root"
   ]
  },
  {
   "cell_type": "raw",
   "metadata": {},
   "source": []
  },
  {
   "cell_type": "code",
   "execution_count": 5,
   "metadata": {},
   "outputs": [],
   "source": [
    "def removeLeafNode(root):\n",
    "    if not root or (not root.left or not root.right):\n",
    "        return None\n",
    "    \n",
    "    root.left = removeLeafNode(root.left)\n",
    "    root.right = removeLeafNode(root.right)\n",
    "    "
   ]
  },
  {
   "cell_type": "markdown",
   "metadata": {},
   "source": [
    "# Mirror Binary Tree"
   ]
  },
  {
   "cell_type": "code",
   "execution_count": null,
   "metadata": {},
   "outputs": [],
   "source": [
    "def mirrorBinaryTree(root) :\n",
    "    if not root:\n",
    "        return root\n",
    "    \n",
    "    root.right = mirrorBinaryTree(root.left)\n",
    "    root.left = mirrorBinaryTree(root.right)\n",
    "    return root\n"
   ]
  },
  {
   "cell_type": "markdown",
   "metadata": {},
   "source": [
    "# Balanced Tree"
   ]
  },
  {
   "cell_type": "code",
   "execution_count": null,
   "metadata": {},
   "outputs": [],
   "source": [
    "def height(root):\n",
    "    if root == None:\n",
    "        return 0\n",
    "\n",
    "    return 1 + max(height(root.left), height(root.right))\n",
    "\n",
    "def isBalanced(root):\n",
    "    if not root:\n",
    "        return 0,False\n",
    "    \n",
    "    lh, isleftBalanced = isBalanced(root.left)\n",
    "    rh, isRightBalanced = isBalanced(root.right)\n",
    "\n",
    "    h = 1 + max(lh,rh)\n",
    "    if lh-rh>1 or rh - lh > 1:\n",
    "        return h, False\n",
    "    \n",
    "    if isleftBalanced and isRightBalanced:\n",
    "        return h, True\n",
    "    return h, False\n"
   ]
  },
  {
   "cell_type": "markdown",
   "metadata": {},
   "source": [
    "# Diameter"
   ]
  },
  {
   "cell_type": "code",
   "execution_count": null,
   "metadata": {},
   "outputs": [],
   "source": [
    "\n",
    "def treeDiameter(root):\n",
    "    if not root:\n",
    "        return 0,0\n",
    "    \n",
    "    leftHeight, leftDia = treeDiameter(root.left)\n",
    "    rightHeight, rightDia = treeDiameter(root.right)\n",
    "    height = leftHeight+rightHeight\n",
    "\n",
    "    return max(leftHeight,rightHeight)+1, max(height,leftDia, rightDia)+1"
   ]
  },
  {
   "cell_type": "markdown",
   "metadata": {},
   "source": [
    "# LevelWise Input"
   ]
  },
  {
   "cell_type": "code",
   "execution_count": null,
   "metadata": {},
   "outputs": [],
   "source": [
    "import queue\n",
    "def levelWiseTreeInput():\n",
    "    q = queue.Queue()\n",
    "    rootData = input(\"Enter Root \\n\")\n",
    "    if not rootData:\n",
    "        return None\n",
    "    \n",
    "    root = BinaryTreeNode(int(rootData))\n",
    "    q.put(root)\n",
    "    while not q.empty():\n",
    "        current_Node = q.get()\n",
    "\n",
    "        print(\"Enter Left Child of \", current_Node.data)\n",
    "        leftChidData = input()\n",
    "        if leftChidData:\n",
    "            leftChild = BinaryTreeNode(int(leftChidData))\n",
    "            current_Node.left = leftChild\n",
    "            q.put(leftChild)\n",
    "\n",
    "        \n",
    "        print(\"Enter Right Child of \", current_Node.data)\n",
    "        rightChildData = input()\n",
    "        if rightChildData:\n",
    "            rightChild = BinaryTreeNode(int(rightChildData))\n",
    "            current_Node.right = rightChild\n",
    "            q.put(rightChild)\n",
    "\n",
    "    return root"
   ]
  },
  {
   "cell_type": "markdown",
   "metadata": {},
   "source": [
    "# LevelWise Printing"
   ]
  },
  {
   "cell_type": "code",
   "execution_count": null,
   "metadata": {},
   "outputs": [],
   "source": [
    "import queue\n",
    "def LevelWiseprintTree(root):\n",
    "    if not root:\n",
    "        return None\n",
    "\n",
    "    q = queue.Queue()\n",
    "    q.put(root)\n",
    "    while not q.empty():\n",
    "        current_node = q.get()\n",
    "        print(f\"{current_node.data}:\",end=\" \")\n",
    "        if current_node.left:\n",
    "            print(\"L\",current_node.left.data,end=\" \")\n",
    "            q.put(current_node.left)\n",
    "        if current_node.right:\n",
    "            print(\"R\",current_node.right.data,end=\" \")\n",
    "            q.put(current_node.right)\n",
    "        \n",
    "        print()"
   ]
  },
  {
   "cell_type": "markdown",
   "metadata": {},
   "source": [
    "# Construct Tree Using Inorder and Preorder "
   ]
  },
  {
   "cell_type": "code",
   "execution_count": 11,
   "metadata": {},
   "outputs": [
    {
     "name": "stdout",
     "output_type": "stream",
     "text": [
      "['1', '2', '4', '5', '3', '6', '7']\n"
     ]
    }
   ],
   "source": [
    "def buildTree(preOrder, inOrder, n) :\n",
    "    if len(preOrder) <= 0 or len(inOrder) <= 0 or n <= 0:\n",
    "        return None\n",
    "\n",
    "    root = BinaryTreeNode(int(preOrder[0]))\n",
    "    root_index = inOrder.index(preOrder[0])\n",
    "    preOrder = preOrder[1:]\n",
    "    LeftIO, RightIO = inOrder[:root_index], inOrder[root_index+1:]\n",
    "    LeftPO, RightPO = preOrder[:len(LeftIO)], preOrder[ -len(RightIO):]\n",
    "    root.left, root.right = buildTree(LeftPO,LeftIO,len(LeftIO)), buildTree(RightPO, RightIO, len(RightPO))\n",
    "    return root"
   ]
  }
 ],
 "metadata": {
  "kernelspec": {
   "display_name": "Python 3.9.5 64-bit",
   "name": "python395jvsc74a57bd0e7370f93d1d0cde622a1f8e1c04877d8463912d04d973331ad4851f04de6915a"
  },
  "language_info": {
   "codemirror_mode": {
    "name": "ipython",
    "version": 3
   },
   "file_extension": ".py",
   "mimetype": "text/x-python",
   "name": "python",
   "nbconvert_exporter": "python",
   "pygments_lexer": "ipython3",
   "version": "3.9.5"
  },
  "metadata": {
   "interpreter": {
    "hash": "e7370f93d1d0cde622a1f8e1c04877d8463912d04d973331ad4851f04de6915a"
   }
  },
  "orig_nbformat": 2
 },
 "nbformat": 4,
 "nbformat_minor": 2
}