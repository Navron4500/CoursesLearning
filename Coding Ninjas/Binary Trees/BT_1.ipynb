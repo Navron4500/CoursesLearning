{
 "cells": [
  {
   "cell_type": "markdown",
   "metadata": {},
   "source": [
    "# BinaryTreeNode"
   ]
  },
  {
   "cell_type": "code",
   "execution_count": 1,
   "metadata": {},
   "outputs": [],
   "source": [
    "class BinaryTreeNode:\n",
    "    def __init__(self,data) -> None:\n",
    "        self.data = data\n",
    "        self.left = None\n",
    "        self.right = None\n",
    "        "
   ]
  },
  {
   "cell_type": "markdown",
   "metadata": {},
   "source": [
    "# Print BinaryTree"
   ]
  },
  {
   "cell_type": "code",
   "execution_count": 2,
   "metadata": {},
   "outputs": [],
   "source": [
    "def printTree(root):\n",
    "    if not root:\n",
    "        return\n",
    "\n",
    "    print(root.data, end=\": \")\n",
    "    if root.left:\n",
    "        print(\"L\",root.left.data,end=\" \")\n",
    "    if root.right:\n",
    "        print(\"R\",root.right.data,end=\" \")\n",
    "    print()\n",
    "    printTree(root.left)\n",
    "    printTree(root.right)"
   ]
  },
  {
   "cell_type": "markdown",
   "metadata": {},
   "source": [
    "# Input Binary Tree"
   ]
  },
  {
   "cell_type": "code",
   "execution_count": 2,
   "metadata": {},
   "outputs": [],
   "source": [
    "def treeInput(): \n",
    "    \"\"\"\n",
    "    Taking input According to Parent Children \n",
    "    \"\"\"\n",
    "    rootData = int(input())\n",
    "    if rootData == -1:\n",
    "        return None\n",
    "    \n",
    "    root = BinaryTreeNode(rootData)\n",
    "    leftTree = treeInput()\n",
    "    rightTree = treeInput()\n",
    "    root.left = leftTree\n",
    "    root.right = rightTree\n",
    "    return root"
   ]
  },
  {
   "cell_type": "code",
   "execution_count": 4,
   "metadata": {},
   "outputs": [],
   "source": [
    "# root = treeInput()\n",
    "# printTree(root)"
   ]
  },
  {
   "cell_type": "markdown",
   "metadata": {},
   "source": [
    "# Number of Nodes in BT"
   ]
  },
  {
   "cell_type": "code",
   "execution_count": 5,
   "metadata": {},
   "outputs": [],
   "source": [
    "def numNodes(root):\n",
    "    if not root:\n",
    "        return 0\n",
    "    \n",
    "    leftCount = numNodes(root.left)\n",
    "    rightCount = numNodes(root.right)\n",
    "\n",
    "    return leftCount+rightCount\n",
    "    \n",
    "    "
   ]
  },
  {
   "cell_type": "markdown",
   "metadata": {},
   "source": [
    "# Sum Of Nodes"
   ]
  },
  {
   "cell_type": "code",
   "execution_count": 6,
   "metadata": {},
   "outputs": [],
   "source": [
    "def getSum(root):\n",
    "    if not root:\n",
    "        return 0\n",
    "    \n",
    "    leftSum = getSum(root.left)\n",
    "    rightSum = getSum(root.right)\n",
    "    return root.data+leftSum+rightSum\n"
   ]
  },
  {
   "cell_type": "code",
   "execution_count": 7,
   "metadata": {},
   "outputs": [],
   "source": [
    "# root = treeInput()\n",
    "# printTree(root)\n",
    "# print(getSum(root))"
   ]
  },
  {
   "cell_type": "markdown",
   "metadata": {},
   "source": [
    "# Tree Transversal"
   ]
  },
  {
   "cell_type": "code",
   "execution_count": 6,
   "metadata": {},
   "outputs": [],
   "source": [
    "def PreOrderTree(root):\n",
    "    if not root:\n",
    "        return\n",
    "\n",
    "    print(root.data,end=\" \")\n",
    "    # if root.left:\n",
    "    #     print(\"L\",root.left.data,end=\" \")\n",
    "    # if root.right:\n",
    "    #     print(\"R\",root.right.data,end=\" \")\n",
    "    # print()\n",
    "    PreOrderTree(root.left)\n",
    "    PreOrderTree(root.right)\n",
    "\n",
    "def postOrderTree(root):  \n",
    "    \"\"\"\n",
    "    Printing Left Side\n",
    "    Then Right Side\n",
    "    Then Root\n",
    "    \"\"\"\n",
    "    if not root:\n",
    "        return\n",
    "    postOrderTree(root.left)\n",
    "    postOrderTree(root.right)\n",
    "    print(root.data)\n",
    "\n",
    "def inOrderTree(root):\n",
    "    \"\"\"\n",
    "    Printing Left Side\n",
    "    Then, Root\n",
    "    Then, Right Side\n",
    "    \"\"\"\n",
    "    if not root:\n",
    "        return\n",
    "    \n",
    "    inOrderTree(root.left)\n",
    "    print(root.data)\n",
    "    inOrderTree(root.right)\n"
   ]
  },
  {
   "cell_type": "code",
   "execution_count": 12,
   "metadata": {},
   "outputs": [
    {
     "name": "stdout",
     "output_type": "stream",
     "text": [
      "1 2 4 5 3 \n",
      "------------------------------------------------\n",
      "4\n",
      "5\n",
      "2\n",
      "3\n",
      "1\n",
      "------------------------------------------------\n",
      "4\n",
      "2\n",
      "5\n",
      "1\n",
      "3\n"
     ]
    }
   ],
   "source": [
    "root = treeInput()\n",
    "PreOrderTree(root)\n",
    "print(\"\\n------------------------------------------------\")\n",
    "postOrderTree(root)\n",
    "print(\"------------------------------------------------\")\n",
    "inOrderTree(root)"
   ]
  },
  {
   "cell_type": "markdown",
   "metadata": {},
   "source": [
    "# Generalised"
   ]
  },
  {
   "cell_type": "code",
   "execution_count": null,
   "metadata": {},
   "outputs": [],
   "source": [
    "root = treeInput()\n",
    "printTree(root)\n",
    "print(\"Number of Nodes:\",numNodes(root))"
   ]
  },
  {
   "cell_type": "code",
   "execution_count": null,
   "metadata": {},
   "outputs": [],
   "source": [
    "bt1 = BinaryTreeNode(1)\n",
    "bt2 = BinaryTreeNode(2)\n",
    "bt3 = BinaryTreeNode(3)\n",
    "bt4 = BinaryTreeNode(4)\n",
    "bt5 = BinaryTreeNode(5)"
   ]
  },
  {
   "cell_type": "code",
   "execution_count": null,
   "metadata": {},
   "outputs": [],
   "source": [
    "bt1.left = bt2\n",
    "bt1.right = bt3\n",
    "\n",
    "bt2.left = bt4\n",
    "bt3.right = bt5"
   ]
  },
  {
   "cell_type": "code",
   "execution_count": null,
   "metadata": {},
   "outputs": [],
   "source": [
    "printTree(bt1)"
   ]
  },
  {
   "cell_type": "code",
   "execution_count": null,
   "metadata": {},
   "outputs": [],
   "source": []
  }
 ],
 "metadata": {
  "kernelspec": {
   "display_name": "Python 3.9.5 64-bit",
   "name": "python395jvsc74a57bd0e7370f93d1d0cde622a1f8e1c04877d8463912d04d973331ad4851f04de6915a"
  },
  "language_info": {
   "codemirror_mode": {
    "name": "ipython",
    "version": 3
   },
   "file_extension": ".py",
   "mimetype": "text/x-python",
   "name": "python",
   "nbconvert_exporter": "python",
   "pygments_lexer": "ipython3",
   "version": "3.9.5"
  },
  "metadata": {
   "interpreter": {
    "hash": "e7370f93d1d0cde622a1f8e1c04877d8463912d04d973331ad4851f04de6915a"
   }
  },
  "orig_nbformat": 2
 },
 "nbformat": 4,
 "nbformat_minor": 2
}