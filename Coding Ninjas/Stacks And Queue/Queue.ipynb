{
 "cells": [
  {
   "cell_type": "code",
   "execution_count": 1,
   "metadata": {},
   "outputs": [],
   "source": [
    "class Queue:\n",
    "    \n",
    "    def __init__(self):\n",
    "        self.__data = []\n",
    "        self.__front = 0\n",
    "        self.__count = 0\n",
    "\n",
    "    def enqueue(self,item):\n",
    "        self.__data.append(item)\n",
    "        self.__count += 1\n",
    "\n",
    "    def dequeue(self):\n",
    "        if self.__count == 0:\n",
    "            return -1\n",
    "        element = self.__data[self.__front]\n",
    "        self.__front += 1\n",
    "        self.__count -= 1\n",
    "        return element\n",
    "\n",
    "    def isEmpty(self):\n",
    "        return self.__count == 0\n",
    "\n",
    "    def front(self):\n",
    "        if self.__count == 0:\n",
    "            return -1\n",
    "        return self.__data[self.__front]\n",
    "\n",
    "    def size(self):\n",
    "        return len(self.__data)\n",
    "    \n",
    "# q = Queue()\n",
    "# q.enqueue(1)\n",
    "# q.enqueue(2)\n",
    "# q.enqueue(3)\n",
    "# q.enqueue(4)\n",
    "# while not q.isEmpty():\n",
    "#     print(q.front())\n",
    "#     q.dequeue()\n"
   ]
  },
  {
   "cell_type": "markdown",
   "metadata": {},
   "source": [
    "# Queue Using LL"
   ]
  },
  {
   "cell_type": "code",
   "execution_count": null,
   "metadata": {},
   "outputs": [],
   "source": [
    "class Node:\n",
    "    def __init__(self,data,next=None):\n",
    "        self.data = data\n",
    "        self.next = next\n",
    "\n",
    "class Queue:\n",
    "    \n",
    "    def __init__(self):\n",
    "        self.__head = None\n",
    "        self.__count = 0\n",
    "        self.__tail = None\n",
    "\n",
    "    def enqueue(self,item):\n",
    "        newNode = Node(item)\n",
    "        if self.__head:\n",
    "            self.__tail.next = newNode\n",
    "            self.__tail = self.__tail.next\n",
    "            self.__count += 1\n",
    "        else:\n",
    "            self.__head, self.__tail = newNode, newNode\n",
    "            self.__count = 1\n",
    "\n",
    "\n",
    "    def dequeue(self):\n",
    "        if self.isEmpty():\n",
    "            return -1\n",
    "        data = self.__head.data\n",
    "        self.__count -= 1\n",
    "        self.__head = self.__head.next\n",
    "        return data\n",
    "\n",
    "    def isEmpty(self):\n",
    "        return self.size() == 0\n",
    "\n",
    "    def front(self):\n",
    "        if self.isEmpty():\n",
    "            return -1\n",
    "        return self.__head.data\n",
    "\n",
    "    def size(self):\n",
    "        return self.__count"
   ]
  },
  {
   "cell_type": "markdown",
   "metadata": {},
   "source": [
    "# Queue Using Two Stack"
   ]
  },
  {
   "cell_type": "code",
   "execution_count": null,
   "metadata": {},
   "outputs": [],
   "source": [
    "class Queue:\n",
    "    def __init__(self):\n",
    "        self.__s1 = []\n",
    "        self.__s2 = []\n",
    "\n",
    "    def enqueue(self, data):\n",
    "        # (O(n))\n",
    "        while self.__s1:\n",
    "            self.__s2.append(self.__s1.pop())\n",
    "        \n",
    "        self.__s1.append(data)\n",
    "\n",
    "        while self.__s2:\n",
    "            self.__s1.append(self.__s2.pop())\n",
    "        \n",
    "    def dequeue(self):\n",
    "        # (O(1))\n",
    "        if len(self.__s1) == 0:\n",
    "            return -1\n",
    "\n",
    "        data = self.__s1.pop()\n",
    "        return data\n",
    "\n",
    "    def size(self):\n",
    "        return len(self.__s1)\n",
    "\n",
    "    def isEmpty(self):\n",
    "        return self.size() == 0\n",
    "\n",
    "    def front(self):\n",
    "        if len(self.__s1) == 0:\n",
    "            return -1\n",
    "        return self.__s1[-1]\n"
   ]
  },
  {
   "cell_type": "markdown",
   "metadata": {},
   "source": [
    "# Stack Using Two queue"
   ]
  },
  {
   "cell_type": "code",
   "execution_count": null,
   "metadata": {},
   "outputs": [],
   "source": [
    "!"
   ]
  }
 ],
 "metadata": {
  "kernelspec": {
   "display_name": "Python 3",
   "name": "python3"
  },
  "language_info": {
   "name": "python",
   "version": ""
  },
  "orig_nbformat": 2
 },
 "nbformat": 4,
 "nbformat_minor": 2
}