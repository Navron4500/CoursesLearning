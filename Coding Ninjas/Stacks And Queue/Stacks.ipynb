{
 "cells": [
  {
   "cell_type": "markdown",
   "metadata": {},
   "source": [
    "# Stack using Array"
   ]
  },
  {
   "cell_type": "code",
   "execution_count": null,
   "metadata": {},
   "outputs": [],
   "source": [
    "class Stack:\n",
    "\n",
    "    def __init__(self):\n",
    "        self.__data = []\n",
    "\n",
    "    def push(self,item):\n",
    "        self.__data.append(item)\n",
    "\n",
    "    def pop(self):\n",
    "        if self.isEmpty():\n",
    "            print(\"Stack is empty\")\n",
    "            return \n",
    "        self.__data.pop()\n",
    "\n",
    "    def isEmpty(self):\n",
    "        return len(self.__data) == 0\n",
    "\n",
    "    def top(self):\n",
    "        if self.isEmpty():\n",
    "            print(\"Stack is empty\")\n",
    "            return\n",
    "        return self.__data[-1]\n",
    "\n",
    "    def size(self):\n",
    "        return len(self.__data)"
   ]
  },
  {
   "cell_type": "markdown",
   "metadata": {},
   "source": [
    "# Stack Using Linked List\n",
    "\n",
    "\n"
   ]
  },
  {
   "cell_type": "code",
   "execution_count": null,
   "metadata": {},
   "outputs": [],
   "source": [
    "class Node:\n",
    "    def __init__(self,data,next=None):\n",
    "        self.data = data\n",
    "        self.next = next\n",
    "\n",
    "class Stack:\n",
    "    \n",
    "    def __init__(self):\n",
    "        self.__head = None\n",
    "        self.__count = 0\n",
    "\n",
    "    def push(self,item):\n",
    "        newNode = Node(item,self.__head)\n",
    "        self.__head = newNode\n",
    "        self.__count += 1\n",
    "\n",
    "\n",
    "    def pop(self):\n",
    "        if self.isEmpty():\n",
    "            return -1\n",
    "        data = self.__head.data\n",
    "        self.__count -= 1\n",
    "        self.__head = self.__head.next\n",
    "        return data\n",
    "\n",
    "    def isEmpty(self):\n",
    "        return self.size() == 0\n",
    "\n",
    "    def top(self):\n",
    "        if self.isEmpty():\n",
    "            return -1\n",
    "        return self.__head.data\n",
    "\n",
    "    def size(self):\n",
    "        return self.__count"
   ]
  },
  {
   "cell_type": "code",
   "execution_count": null,
   "metadata": {},
   "outputs": [],
   "source": [
    "s = Stack()\n",
    "s.push(10)\n",
    "print(s.top())\n",
    "print(s.size())\n",
    "s.pop()"
   ]
  },
  {
   "cell_type": "markdown",
   "metadata": {},
   "source": [
    "# Inbuilt Stack and Queue"
   ]
  },
  {
   "cell_type": "code",
   "execution_count": null,
   "metadata": {},
   "outputs": [],
   "source": [
    "import queue\n",
    "# q = queue() # For Queue\n",
    "q = queue.LifoQueue() # For Stack\n",
    "q.put(1)\n",
    "q.put(2)\n",
    "q.put(3)\n",
    "while not q.empty():\n",
    "    print(q.get())\n",
    "\n"
   ]
  },
  {
   "cell_type": "markdown",
   "metadata": {},
   "source": [
    "# Balanced Paranthesis "
   ]
  },
  {
   "cell_type": "code",
   "execution_count": null,
   "metadata": {},
   "outputs": [],
   "source": [
    "def isBalanced(expression) :\n",
    "    stack = Stack()\n",
    "    for i in expression:\n",
    "        if i == \"(\":\n",
    "            stack.push(i)\n",
    "        else:\n",
    "            if i == \")\" and stack.top() == \"(\":\n",
    "                stack.pop()\n",
    "    \n",
    "    return not stack.isEmpty\n"
   ]
  },
  {
   "cell_type": "markdown",
   "metadata": {},
   "source": [
    "# Reverse Stack"
   ]
  },
  {
   "cell_type": "code",
   "execution_count": null,
   "metadata": {},
   "outputs": [],
   "source": [
    "def reverseStack(inputStack, extraStack) :\n",
    "    if len(inputStack<=1):\n",
    "        return \n",
    "\n",
    "    while len(inputStack) != 1:\n",
    "        extraStack.append(inputStack.pop())\n",
    "\n",
    "    lastElement = inputStack.pop()\n",
    "\n",
    "    while extraStack:\n",
    "        inputStack.append(extraStack.pop())\n",
    "    \n",
    "    reverseStack(inputStack,extraStack)\n",
    "\n",
    "    inputStack.append(lastElement)"
   ]
  },
  {
   "cell_type": "markdown",
   "metadata": {},
   "source": [
    "# Check redundant brackets "
   ]
  },
  {
   "cell_type": "code",
   "execution_count": null,
   "metadata": {},
   "outputs": [],
   "source": [
    "def checkRedundantBrackets(expression) :\n",
    "    stack = []\n",
    "    for i in expression:\n",
    "        if (stack and i == stack[-1] and i != \")\") or (i == \")\" and stack[-2] == \"(\":)\n",
    "            return True\n",
    "        else:\n",
    "            stack.append(i)\n",
    "\n",
    "    return False\n",
    "\n",
    "    \n",
    "\n",
    "arr = input()\n",
    "print(checkRedundantBrackets(arr))"
   ]
  },
  {
   "cell_type": "markdown",
   "metadata": {},
   "source": [
    "# Stock Span"
   ]
  },
  {
   "cell_type": "code",
   "execution_count": 15,
   "metadata": {},
   "outputs": [],
   "source": [
    "def stockSpan(price, n) :\n",
    "    stack = []\n",
    "    op = []\n",
    "    for index,value in enumerate(price):\n",
    "        if (index == 0 or price[stack[-1]]>value):\n",
    "            if index == 0:\n",
    "                op.append(1)\n",
    "                stack.append(index)\n",
    "            else:\n",
    "                op.append(1)\n",
    "                stack.append(index)\n",
    "        else:\n",
    "            while stack and price[stack[-1]] < value:\n",
    "                stack.pop()\n",
    "            \n",
    "            if stack:\n",
    "                op.append(index-stack[-1])\n",
    "            else:\n",
    "                op.append(index+1)\n",
    "            \n",
    "            stack.append(index)\n",
    "    return op"
   ]
  },
  {
   "cell_type": "code",
   "execution_count": 14,
   "metadata": {},
   "outputs": [
    {
     "name": "stdout",
     "output_type": "stream",
     "text": [
      "[1, -1, -1, -1, 1, 1, -4, -1]\n"
     ]
    }
   ],
   "source": [
    "arr = list(map(int,input().split()))\n",
    "print(stockSpan(arr,len(arr)))"
   ]
  },
  {
   "cell_type": "markdown",
   "metadata": {},
   "source": [
    "# Minimum bracket Reversal "
   ]
  },
  {
   "cell_type": "code",
   "execution_count": 24,
   "metadata": {},
   "outputs": [],
   "source": [
    "def countBracketReversals(inputString) :\n",
    "    if len(inputString)%2 != 0:\n",
    "        return -1\n",
    "    \n",
    "    stack  = []\n",
    "\n",
    "    for s in inputString:\n",
    "        if s == \"{\":\n",
    "            stack.append(s)\n",
    "        elif stack and stack[-1] == \"{\":\n",
    "            stack.pop()\n",
    "        else:\n",
    "            stack.append(s)\n",
    "\n",
    "    cnt = 0\n",
    "    while stack:\n",
    "        c1, c2 = stack.pop(), stack.pop()\n",
    "        if c1 == c2:\n",
    "            cnt += 1\n",
    "        else:\n",
    "            cnt += 2\n",
    "\n",
    "    return cnt"
   ]
  },
  {
   "cell_type": "code",
   "execution_count": 28,
   "metadata": {},
   "outputs": [
    {
     "name": "stdout",
     "output_type": "stream",
     "text": [
      "7\n",
      "-1\n"
     ]
    }
   ],
   "source": [
    "st = \"{{{}}{{\"\n",
    "print(len(st))\n",
    "print(countBracketReversals(st))"
   ]
  },
  {
   "cell_type": "code",
   "execution_count": null,
   "metadata": {},
   "outputs": [],
   "source": []
  }
 ],
 "metadata": {
  "kernelspec": {
   "display_name": "Python 3.9.5 64-bit",
   "name": "python395jvsc74a57bd0e7370f93d1d0cde622a1f8e1c04877d8463912d04d973331ad4851f04de6915a"
  },
  "language_info": {
   "codemirror_mode": {
    "name": "ipython",
    "version": 3
   },
   "file_extension": ".py",
   "mimetype": "text/x-python",
   "name": "python",
   "nbconvert_exporter": "python",
   "pygments_lexer": "ipython3",
   "version": "3.9.5"
  },
  "metadata": {
   "interpreter": {
    "hash": "e7370f93d1d0cde622a1f8e1c04877d8463912d04d973331ad4851f04de6915a"
   }
  },
  "orig_nbformat": 2
 },
 "nbformat": 4,
 "nbformat_minor": 2
}