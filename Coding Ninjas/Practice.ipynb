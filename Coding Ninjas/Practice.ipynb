{
 "cells": [
  {
   "cell_type": "code",
   "execution_count": 43,
   "source": [
    "def countMinStepsToOne(n) :\r\n",
    "    if n == 1 or n==0:\r\n",
    "        return 0\r\n",
    "    if n == 2 or n== 3:\r\n",
    "        return 1\r\n",
    "\r\n",
    "    dp = [-1 for i in range(n+1)]\r\n",
    "    dp[0],dp[1] = 0,0\r\n",
    "    \r\n",
    "    i = 2\r\n",
    "    while i <= n:\r\n",
    "        ans = dp[i-1]\r\n",
    "        if i%2 == 0:\r\n",
    "            ans = dp[i//2]\r\n",
    "        if i%3 == 0:\r\n",
    "            ans = dp[i//3]\r\n",
    "\r\n",
    "        dp[i] = ans+1\r\n",
    "        i += 1\r\n",
    "    \r\n",
    "    return dp[n]"
   ],
   "outputs": [],
   "metadata": {}
  },
  {
   "cell_type": "code",
   "execution_count": 44,
   "source": [
    "n = 4\r\n",
    "# dp = [-1 for i in range(n+1)]\r\n",
    "print(countMinStepsToOne(n) == 2)"
   ],
   "outputs": [
    {
     "output_type": "stream",
     "name": "stdout",
     "text": [
      "True\n"
     ]
    }
   ],
   "metadata": {}
  },
  {
   "cell_type": "code",
   "execution_count": 45,
   "source": [
    "n = 7 \r\n",
    "# dp = [-1 for i in range(n+1)]\r\n",
    "print(countMinStepsToOne(n) == 3)"
   ],
   "outputs": [
    {
     "output_type": "stream",
     "name": "stdout",
     "text": [
      "True\n"
     ]
    }
   ],
   "metadata": {}
  },
  {
   "cell_type": "code",
   "execution_count": null,
   "source": [],
   "outputs": [],
   "metadata": {}
  }
 ],
 "metadata": {
  "orig_nbformat": 4,
  "language_info": {
   "name": "python",
   "version": "3.8.8",
   "mimetype": "text/x-python",
   "codemirror_mode": {
    "name": "ipython",
    "version": 3
   },
   "pygments_lexer": "ipython3",
   "nbconvert_exporter": "python",
   "file_extension": ".py"
  },
  "kernelspec": {
   "name": "python3",
   "display_name": "Python 3.8.8 64-bit ('base': conda)"
  },
  "interpreter": {
   "hash": "1e915f0a29dc84041eaeb02b7b1a21c440e37a87b61d44d5e84a515737dc82bc"
  }
 },
 "nbformat": 4,
 "nbformat_minor": 2
}