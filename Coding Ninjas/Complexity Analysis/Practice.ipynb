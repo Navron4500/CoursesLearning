{
 "metadata": {
  "language_info": {
   "codemirror_mode": {
    "name": "ipython",
    "version": 3
   },
   "file_extension": ".py",
   "mimetype": "text/x-python",
   "name": "python",
   "nbconvert_exporter": "python",
   "pygments_lexer": "ipython3",
   "version": "3.8.8"
  },
  "orig_nbformat": 2,
  "kernelspec": {
   "name": "python388jvsc74a57bd01e915f0a29dc84041eaeb02b7b1a21c440e37a87b61d44d5e84a515737dc82bc",
   "display_name": "Python 3.8.8 64-bit ('base': conda)"
  }
 },
 "nbformat": 4,
 "nbformat_minor": 2,
 "cells": [
  {
   "cell_type": "code",
   "execution_count": 3,
   "metadata": {},
   "outputs": [
    {
     "output_type": "execute_result",
     "data": {
      "text/plain": [
       "125"
      ]
     },
     "metadata": {},
     "execution_count": 3
    }
   ],
   "source": [
    "def power(x,n):\n",
    "    res = pow(x,n//2)\n",
    "    if n == 0:\n",
    "        return res\n",
    "    elif n%2 == 0:\n",
    "        return res*res\n",
    "\n",
    "    else:\n",
    "        return res*res*x\n",
    "\n",
    "power(5,3)"
   ]
  },
  {
   "source": [
    "# Array Interaction"
   ],
   "cell_type": "markdown",
   "metadata": {}
  },
  {
   "cell_type": "code",
   "execution_count": 3,
   "metadata": {},
   "outputs": [],
   "source": [
    "def mergeSort(arr):\n",
    "    if len(arr) > 1:\n",
    " \n",
    "         # Finding the mid of the array\n",
    "        mid = len(arr)//2\n",
    " \n",
    "        # Dividing the array elements\n",
    "        L = arr[:mid]\n",
    " \n",
    "        # into 2 halves\n",
    "        R = arr[mid:]\n",
    " \n",
    "        # Sorting the first half\n",
    "        mergeSort(L)\n",
    " \n",
    "        # Sorting the second half\n",
    "        mergeSort(R)\n",
    " \n",
    "        i = j = k = 0\n",
    " \n",
    "        # Copy data to temp arrays L[] and R[]\n",
    "        while i < len(L) and j < len(R):\n",
    "            if L[i] < R[j]:\n",
    "                arr[k] = L[i]\n",
    "                i += 1\n",
    "            else:\n",
    "                arr[k] = R[j]\n",
    "                j += 1\n",
    "            k += 1\n",
    " \n",
    "        # Checking if any element was left\n",
    "        while i < len(L):\n",
    "            arr[k] = L[i]\n",
    "            i += 1\n",
    "            k += 1\n",
    " \n",
    "        while j < len(R):\n",
    "            arr[k] = R[j]\n",
    "            j += 1\n",
    "            k += 1\n",
    "\n"
   ]
  },
  {
   "cell_type": "code",
   "execution_count": 14,
   "metadata": {},
   "outputs": [
    {
     "output_type": "stream",
     "name": "stdout",
     "text": [
      "1 \n\n0.0010004043579101562\n"
     ]
    }
   ],
   "source": [
    "import time\n",
    "def intersection(arr1, arr2, n, m) :\n",
    "\t#Your code goes here\n",
    "    mergeSort(arr1)\n",
    "    mergeSort(arr2)\n",
    "    i = 0\n",
    "    j = 0 \n",
    "    while i<n and j<m:\n",
    "        while i<n and j<m and arr1[i]>=arr2[j]:\n",
    "            if arr1[i] == arr2[j]:\n",
    "                print(arr1[i],end = \" \")\n",
    "                j += 1\n",
    "                break\n",
    "            j += 1\n",
    "        i += 1\n",
    "\n",
    "\n",
    "a1 = [1, 2, 3, 4]\n",
    "a2 = [1, 1, 1, 1, 1]\n",
    "\n",
    "start = time.time()\n",
    "intersection(a1,a2, len(a1), len(a2))\n",
    "end = time.time()\n",
    "print(\"\\n\")\n",
    "print(end-start)\n",
    "\n",
    "\n"
   ]
  },
  {
   "cell_type": "code",
   "execution_count": 20,
   "metadata": {},
   "outputs": [
    {
     "output_type": "stream",
     "name": "stdout",
     "text": [
      "[1, 2, 3, 4, 5, 6, 7]\n5\n"
     ]
    }
   ],
   "source": [
    "n_list = list(map(int,input().split()))\n",
    "print(n_list)\n",
    "print(n_list[1]+n_list[2])"
   ]
  },
  {
   "source": [
    "# Equilibruim Index"
   ],
   "cell_type": "markdown",
   "metadata": {}
  },
  {
   "cell_type": "code",
   "execution_count": 20,
   "metadata": {},
   "outputs": [
    {
     "output_type": "stream",
     "name": "stdout",
     "text": [
      "2\n"
     ]
    }
   ],
   "source": [
    "def arrayEquilibriumIndex(arr, n) :\n",
    "    rsum = sum(arr)\n",
    "    lsum = 0\n",
    "    for i in range(n):\n",
    "        rsum -= arr[i]\n",
    "        if i>0:\n",
    "            lsum += arr[i-1]\n",
    "\n",
    "        if lsum == rsum:\n",
    "            return i\n",
    "\n",
    "    return -1\n",
    "\n",
    "a = [1,-1,4]\n",
    "print(arrayEquilibriumIndex(a, len(a)))\n",
    "        \n"
   ]
  },
  {
   "source": [
    "# Find Unique"
   ],
   "cell_type": "markdown",
   "metadata": {}
  },
  {
   "cell_type": "code",
   "execution_count": 9,
   "metadata": {},
   "outputs": [
    {
     "output_type": "stream",
     "name": "stdout",
     "text": [
      "3\n"
     ]
    }
   ],
   "source": [
    "def findUnique(arr, n) :\n",
    "    arr.sort()\n",
    "    i = 0 \n",
    "    while i<n-1:\n",
    "        if arr[i] != arr[i+1]:\n",
    "            return arr[i]\n",
    "        i += 2\n",
    "\n",
    "    return arr[n-1]\n",
    "\n",
    "\n",
    "arr = [1, 7, 1, 3, 7 ]\n",
    "print(findUnique(arr,len(arr)))"
   ]
  },
  {
   "source": [
    "# Duplicate Elements"
   ],
   "cell_type": "markdown",
   "metadata": {}
  },
  {
   "cell_type": "code",
   "execution_count": 12,
   "metadata": {},
   "outputs": [
    {
     "output_type": "stream",
     "name": "stdout",
     "text": [
      "3\n"
     ]
    }
   ],
   "source": [
    "def findDuplicate(arr, n) :\n",
    "    arr.sort()\n",
    "    i = 1\n",
    "    while i<n-1:\n",
    "        if arr[i] == arr[i-1] or arr[i] == arr[i+1]:\n",
    "            return arr[i]\n",
    "        i += 2\n",
    "\n",
    "    return arr[n-1]\n",
    "\n",
    "arr = list(map(int,input().split()))\n",
    "print(findDuplicate(arr,len(arr)))"
   ]
  }
 ]
}