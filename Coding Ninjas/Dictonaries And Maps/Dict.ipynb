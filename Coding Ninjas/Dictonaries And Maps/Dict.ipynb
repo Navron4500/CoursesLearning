{
 "cells": [
  {
   "cell_type": "code",
   "execution_count": 32,
   "source": [
    "a = {\r\n",
    "    \"the\":1,\r\n",
    "    \"a\":5,\r\n",
    "    10000:\"abc\"\r\n",
    "}\r\n",
    "print(a)\r\n",
    "\r\n"
   ],
   "outputs": [
    {
     "output_type": "stream",
     "name": "stdout",
     "text": [
      "{'the': 1, 'a': 5, 10000: 'abc'}\n"
     ]
    }
   ],
   "metadata": {}
  },
  {
   "cell_type": "code",
   "execution_count": 15,
   "source": [
    "a.get(\"ab\",0)\r\n",
    "a.keys()\r\n",
    "a.values()\r\n",
    "a.items()\r\n",
    "print(\"ab\" in a)"
   ],
   "outputs": [
    {
     "output_type": "execute_result",
     "data": {
      "text/plain": [
       "dict_values([1, 5, 'abc'])"
      ]
     },
     "metadata": {},
     "execution_count": 15
    }
   ],
   "metadata": {}
  },
  {
   "cell_type": "code",
   "execution_count": 33,
   "source": [
    "a[\"tup\"] = (1,2,3)\r\n",
    "\r\n",
    "b = {3:5, \"the\":4, \"a\":1000}\r\n",
    "a.update(b)\r\n",
    "\r\n",
    "print(a.pop(3))\r\n",
    "# del a[\"a\"]\r\n",
    "# a.clear()\r\n",
    "\r\n",
    "a"
   ],
   "outputs": [
    {
     "output_type": "execute_result",
     "data": {
      "text/plain": [
       "{'the': 4, 'a': 1000, 10000: 'abc', 'tup': (1, 2, 3), 3: 5}"
      ]
     },
     "metadata": {},
     "execution_count": 33
    }
   ],
   "metadata": {}
  },
  {
   "cell_type": "code",
   "execution_count": 15,
   "source": [
    "d = {-2: 3, 1: 1, 2: 2, 3: 1}\r\n",
    "a = -2\r\n",
    "print(abs(a) in d)"
   ],
   "outputs": [
    {
     "output_type": "stream",
     "name": "stdout",
     "text": [
      "True\n"
     ]
    }
   ],
   "metadata": {}
  },
  {
   "cell_type": "markdown",
   "source": [
    "# Hash Map Class"
   ],
   "metadata": {}
  },
  {
   "cell_type": "code",
   "execution_count": null,
   "source": [
    "# Hash Map\r\n",
    "class MapNode:\r\n",
    "    def __init__(self,key,value):\r\n",
    "        self.key = key\r\n",
    "        self.value = value\r\n",
    "        self.next = None\r\n",
    "\r\n",
    "  \r\n",
    "class Map:\r\n",
    "\r\n",
    "    def __init__(self):\r\n",
    "        self.bucketSize = 10\r\n",
    "        self.buckets = [None for i in range(self.bucketSize)]\r\n",
    "        self.count = 0\r\n",
    "    \r\n",
    "    def size(self):\r\n",
    "        return self.count\r\n",
    "\r\n",
    "    def getBuckIndex(self,hc):\r\n",
    "        return abs(hc)%(self.bucketSize)\r\n",
    "\r\n",
    "\r\n",
    "    def insert(self,key,value):\r\n",
    "\r\n",
    "        hc = hash(key)\r\n",
    "        index = self.getBuckIndex(hc)\r\n",
    "        head = self.buckets[index]\r\n",
    "        \r\n",
    "        while head is not None:\r\n",
    "            if head.key == key:\r\n",
    "                head.value = value\r\n",
    "                return \r\n",
    "            head = head.next\r\n",
    "        \r\n",
    "        newNode = MapNode(key,value)\r\n",
    "        newNode.next = head\r\n",
    "        self.buckets[index] = newNode\r\n",
    "        self.count += 1\r\n",
    "         \r\n",
    "    def remove(self,key):\r\n",
    "        hc = hash(key)\r\n",
    "        index = self.getBuckIndex(hc)\r\n",
    "        \r\n",
    "        prev = None\r\n",
    "        head = self.buckets[index]\r\n",
    "        while head is not None:\r\n",
    "            \r\n",
    "            if head.key == key:\r\n",
    "                if not prev:\r\n",
    "                    prev = head.next\r\n",
    "                else:\r\n",
    "                    prev.next = head.next\r\n",
    "                \r\n",
    "                self.buckets[index] = prev\r\n",
    "                return head.value\r\n",
    "\r\n",
    "            head = head.next\r\n",
    "            prev = head\r\n",
    "\r\n",
    "    def search(self,key):\r\n",
    "        hc = hash(key)\r\n",
    "        index = self.getBuckIndex(hc)\r\n",
    "        head = self.buckets[index]\r\n",
    "        while head is not None:\r\n",
    "            if head.key == key:\r\n",
    "                return head.value\r\n",
    "            head = head.next\r\n",
    "        return None"
   ],
   "outputs": [],
   "metadata": {}
  }
 ],
 "metadata": {
  "kernelspec": {
   "name": "python3",
   "display_name": "Python 3.8.8 64-bit ('base': conda)"
  },
  "language_info": {
   "codemirror_mode": {
    "name": "ipython",
    "version": 3
   },
   "file_extension": ".py",
   "mimetype": "text/x-python",
   "name": "python",
   "nbconvert_exporter": "python",
   "pygments_lexer": "ipython3",
   "version": "3.8.8"
  },
  "metadata": {
   "interpreter": {
    "hash": "e7370f93d1d0cde622a1f8e1c04877d8463912d04d973331ad4851f04de6915a"
   }
  },
  "orig_nbformat": 2,
  "interpreter": {
   "hash": "1e915f0a29dc84041eaeb02b7b1a21c440e37a87b61d44d5e84a515737dc82bc"
  }
 },
 "nbformat": 4,
 "nbformat_minor": 2
}