{
 "cells": [
  {
   "cell_type": "markdown",
   "source": [
    "# Krushal's Algorithm\r\n",
    "### Used to find MST ( Minimun Spaming Tree)\r\n",
    "### Choose the next Vertix which has minimum Weight\r\n",
    "### Union Find Algorithm (UFA) (cycle detection algo) O(V)\r\n",
    "### UFA can also be reduced by Union by Rank and Path Compression O(logV)"
   ],
   "metadata": {}
  },
  {
   "cell_type": "code",
   "execution_count": 40,
   "source": [
    "class Edge:\r\n",
    "    def __init__(self, src, dest, w):\r\n",
    "        self.src = src\r\n",
    "        self.dest = dest\r\n",
    "        self.w = w\r\n",
    "    \r\n",
    "    # def __lt__(self,other: object):\r\n",
    "    #     return self.w < other.w\r\n",
    "\r\n",
    "    # def __gt__(self,other: object):\r\n",
    "    #     return self.w > other.w\r\n",
    "    \r\n",
    "    # def __eq__(self, o: object) -> bool:\r\n",
    "    #     return self.w == o.w\r\n",
    "\r\n",
    "\r\n",
    "def findParent(p,ip):\r\n",
    "    if ip == p[ip]:\r\n",
    "        return ip\r\n",
    "    return findParent(p,p[ip])\r\n",
    "    # op = p[ip]\r\n",
    "    # while ip != op:\r\n",
    "    #     ip,op = op, p[op]\r\n",
    "\r\n",
    "    # return ip\r\n",
    "\r\n",
    "\r\n",
    "def kruskal_algo(vert,li):\r\n",
    "    li = sorted(li,key = lambda edge:edge.w)\r\n",
    "    parent = [i for i in range(vert)]\r\n",
    "    Op = []\r\n",
    "    count = 0\r\n",
    "    i = 0\r\n",
    "    while count < vert-1 :\r\n",
    "        current = li[i]\r\n",
    "        p1,p2 = findParent(parent,current.src), findParent(parent,current.dest)\r\n",
    "        if p1 != p2:\r\n",
    "            Op.append(current)\r\n",
    "            count += 1\r\n",
    "            parent[p1] = p2\r\n",
    "        \r\n",
    "        i += 1\r\n",
    "\r\n",
    "    return Op"
   ],
   "outputs": [],
   "metadata": {}
  },
  {
   "cell_type": "code",
   "execution_count": 38,
   "source": [
    "V,E = input().split()\r\n",
    "arr = []\r\n",
    "for i in range(int(E)):\r\n",
    "    v1,v2,weight = input().split()\r\n",
    "    edge = Edge(int(v1),int(v2),int(weight))\r\n",
    "    arr.append(edge)\r\n"
   ],
   "outputs": [],
   "metadata": {}
  },
  {
   "cell_type": "code",
   "execution_count": 41,
   "source": [
    "ans = kruskal_algo(int(V),arr)\r\n",
    "for curr in ans:\r\n",
    "    if curr.src < curr.dest:\r\n",
    "        print(str(curr.src) + \" \"+ str(curr.dest) + \" \" + str(curr.w))\r\n",
    "    else:\r\n",
    "        print(str(curr.dest) + \" \"+ str(curr.src) + \" \" + str(curr.w))"
   ],
   "outputs": [
    {
     "output_type": "stream",
     "name": "stdout",
     "text": [
      "2 3 2\n",
      "1 3 2\n",
      "0 1 2\n"
     ]
    }
   ],
   "metadata": {}
  },
  {
   "cell_type": "markdown",
   "source": [
    "# __________________________________________________________________________________________________________"
   ],
   "metadata": {}
  },
  {
   "cell_type": "markdown",
   "source": [
    "# Prim's Algorithm\r\n",
    "## find MST\r\n",
    "### 1.Tree 2.Minimun Sum Weight 3. Edges = Vertex-1\r\n"
   ],
   "metadata": {}
  },
  {
   "cell_type": "code",
   "execution_count": 5,
   "source": [
    "from sys import maxsize\r\n",
    "\r\n",
    "class Graph:\r\n",
    "    def __init__(self,nVertices) -> None:\r\n",
    "        self.nVertices = nVertices\r\n",
    "        self.adjMatirx = [[0 for i in range(nVertices)] for j in range(nVertices)]\r\n",
    "\r\n",
    "\r\n",
    "    def addEdge(self,v1,v2,wt):\r\n",
    "        self.adjMatirx[v1][v2] = wt\r\n",
    "        self.adjMatirx[v2][v1] = wt\r\n",
    "\r\n",
    "    def prims_Helper(self,v, parent, wt, visited, unVi):\r\n",
    "        if len(unVi) == 0:\r\n",
    "            return\r\n",
    "\r\n",
    "        visited.append(v)\r\n",
    "        unVi.remove(v)\r\n",
    "        \r\n",
    "        adj = []\r\n",
    "        for i in range(self.nVertices):\r\n",
    "            if i  in unVi and self.adjMatirx > 0:\r\n",
    "                adj.append(i)\r\n",
    "\r\n",
    "        # Weight Check\r\n",
    "        for i in adj:\r\n",
    "            if wt[i] > self.adjMatirx[v][i]:\r\n",
    "                wt[i] = self.adjMatirx[v][i]\r\n",
    "                parent[i] = v\r\n",
    "\r\n",
    "        for i in adj:\r\n",
    "            self.prims_Helper(i,parent,wt,visited,unVi)\r\n",
    "\r\n",
    "\r\n",
    "    def prims(self):\r\n",
    "        parent = [None for i in range(self.nVertices)]\r\n",
    "        parent[0] = 0\r\n",
    "\r\n",
    "        wt = [maxsize for i in range(self.nVertices)]\r\n",
    "        wt[0] = 0\r\n",
    "\r\n",
    "        visited = []\r\n",
    "        unVisited = [i for i in range(self.nVertices)]\r\n",
    "\r\n",
    "        self.prims_Helper(self.nVertices,parent,wt,visited, unVisited)\r\n",
    "\r\n",
    "        for i in range(self.nVertices):\r\n",
    "            print(parent[i],i,wt[i])\r\n",
    "\r\n",
    "        "
   ],
   "outputs": [],
   "metadata": {}
  },
  {
   "cell_type": "code",
   "execution_count": 6,
   "source": [
    "g = Graph(4)\r\n",
    "g.addEdge(0,1,3)\r\n",
    "g.addEdge(0,3,5)\r\n",
    "g.addEdge(1,2,1)\r\n",
    "g.addEdge(2,3,8)\r\n",
    "g.prims()"
   ],
   "outputs": [
    {
     "output_type": "error",
     "ename": "ValueError",
     "evalue": "list.remove(x): x not in list",
     "traceback": [
      "\u001b[1;31m---------------------------------------------------------------------------\u001b[0m",
      "\u001b[1;31mValueError\u001b[0m                                Traceback (most recent call last)",
      "\u001b[1;32m<ipython-input-6-c9de07deb682>\u001b[0m in \u001b[0;36m<module>\u001b[1;34m\u001b[0m\n\u001b[0;32m      4\u001b[0m \u001b[0mg\u001b[0m\u001b[1;33m.\u001b[0m\u001b[0maddEdge\u001b[0m\u001b[1;33m(\u001b[0m\u001b[1;36m1\u001b[0m\u001b[1;33m,\u001b[0m\u001b[1;36m2\u001b[0m\u001b[1;33m,\u001b[0m\u001b[1;36m1\u001b[0m\u001b[1;33m)\u001b[0m\u001b[1;33m\u001b[0m\u001b[1;33m\u001b[0m\u001b[0m\n\u001b[0;32m      5\u001b[0m \u001b[0mg\u001b[0m\u001b[1;33m.\u001b[0m\u001b[0maddEdge\u001b[0m\u001b[1;33m(\u001b[0m\u001b[1;36m2\u001b[0m\u001b[1;33m,\u001b[0m\u001b[1;36m3\u001b[0m\u001b[1;33m,\u001b[0m\u001b[1;36m8\u001b[0m\u001b[1;33m)\u001b[0m\u001b[1;33m\u001b[0m\u001b[1;33m\u001b[0m\u001b[0m\n\u001b[1;32m----> 6\u001b[1;33m \u001b[0mg\u001b[0m\u001b[1;33m.\u001b[0m\u001b[0mprims\u001b[0m\u001b[1;33m(\u001b[0m\u001b[1;33m)\u001b[0m\u001b[1;33m\u001b[0m\u001b[1;33m\u001b[0m\u001b[0m\n\u001b[0m",
      "\u001b[1;32m<ipython-input-5-dcf75f7885ec>\u001b[0m in \u001b[0;36mprims\u001b[1;34m(self)\u001b[0m\n\u001b[0;32m     43\u001b[0m         \u001b[0munVisited\u001b[0m \u001b[1;33m=\u001b[0m \u001b[1;33m[\u001b[0m\u001b[0mi\u001b[0m \u001b[1;32mfor\u001b[0m \u001b[0mi\u001b[0m \u001b[1;32min\u001b[0m \u001b[0mrange\u001b[0m\u001b[1;33m(\u001b[0m\u001b[0mself\u001b[0m\u001b[1;33m.\u001b[0m\u001b[0mnVertices\u001b[0m\u001b[1;33m)\u001b[0m\u001b[1;33m]\u001b[0m\u001b[1;33m\u001b[0m\u001b[1;33m\u001b[0m\u001b[0m\n\u001b[0;32m     44\u001b[0m \u001b[1;33m\u001b[0m\u001b[0m\n\u001b[1;32m---> 45\u001b[1;33m         \u001b[0mself\u001b[0m\u001b[1;33m.\u001b[0m\u001b[0mprims_Helper\u001b[0m\u001b[1;33m(\u001b[0m\u001b[0mself\u001b[0m\u001b[1;33m.\u001b[0m\u001b[0mnVertices\u001b[0m\u001b[1;33m,\u001b[0m\u001b[0mparent\u001b[0m\u001b[1;33m,\u001b[0m\u001b[0mwt\u001b[0m\u001b[1;33m,\u001b[0m\u001b[0mvisited\u001b[0m\u001b[1;33m,\u001b[0m \u001b[0munVisited\u001b[0m\u001b[1;33m)\u001b[0m\u001b[1;33m\u001b[0m\u001b[1;33m\u001b[0m\u001b[0m\n\u001b[0m\u001b[0;32m     46\u001b[0m \u001b[1;33m\u001b[0m\u001b[0m\n\u001b[0;32m     47\u001b[0m         \u001b[1;32mfor\u001b[0m \u001b[0mi\u001b[0m \u001b[1;32min\u001b[0m \u001b[0mrange\u001b[0m\u001b[1;33m(\u001b[0m\u001b[0mself\u001b[0m\u001b[1;33m.\u001b[0m\u001b[0mnVertices\u001b[0m\u001b[1;33m)\u001b[0m\u001b[1;33m:\u001b[0m\u001b[1;33m\u001b[0m\u001b[1;33m\u001b[0m\u001b[0m\n",
      "\u001b[1;32m<ipython-input-5-dcf75f7885ec>\u001b[0m in \u001b[0;36mprims_Helper\u001b[1;34m(self, v, parent, wt, visited, unVi)\u001b[0m\n\u001b[0;32m     16\u001b[0m \u001b[1;33m\u001b[0m\u001b[0m\n\u001b[0;32m     17\u001b[0m         \u001b[0mvisited\u001b[0m\u001b[1;33m.\u001b[0m\u001b[0mappend\u001b[0m\u001b[1;33m(\u001b[0m\u001b[0mv\u001b[0m\u001b[1;33m)\u001b[0m\u001b[1;33m\u001b[0m\u001b[1;33m\u001b[0m\u001b[0m\n\u001b[1;32m---> 18\u001b[1;33m         \u001b[0munVi\u001b[0m\u001b[1;33m.\u001b[0m\u001b[0mremove\u001b[0m\u001b[1;33m(\u001b[0m\u001b[0mv\u001b[0m\u001b[1;33m)\u001b[0m\u001b[1;33m\u001b[0m\u001b[1;33m\u001b[0m\u001b[0m\n\u001b[0m\u001b[0;32m     19\u001b[0m \u001b[1;33m\u001b[0m\u001b[0m\n\u001b[0;32m     20\u001b[0m         \u001b[0madj\u001b[0m \u001b[1;33m=\u001b[0m \u001b[1;33m[\u001b[0m\u001b[1;33m]\u001b[0m\u001b[1;33m\u001b[0m\u001b[1;33m\u001b[0m\u001b[0m\n",
      "\u001b[1;31mValueError\u001b[0m: list.remove(x): x not in list"
     ]
    }
   ],
   "metadata": {}
  },
  {
   "cell_type": "code",
   "execution_count": null,
   "source": [],
   "outputs": [],
   "metadata": {}
  }
 ],
 "metadata": {
  "orig_nbformat": 4,
  "language_info": {
   "name": "python",
   "version": "3.8.8",
   "mimetype": "text/x-python",
   "codemirror_mode": {
    "name": "ipython",
    "version": 3
   },
   "pygments_lexer": "ipython3",
   "nbconvert_exporter": "python",
   "file_extension": ".py"
  },
  "kernelspec": {
   "name": "python3",
   "display_name": "Python 3.8.8 64-bit ('base': conda)"
  },
  "interpreter": {
   "hash": "1e915f0a29dc84041eaeb02b7b1a21c440e37a87b61d44d5e84a515737dc82bc"
  }
 },
 "nbformat": 4,
 "nbformat_minor": 2
}