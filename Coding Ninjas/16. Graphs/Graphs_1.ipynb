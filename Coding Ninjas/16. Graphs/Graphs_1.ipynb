{
 "cells": [
  {
   "cell_type": "code",
   "execution_count": 3,
   "source": [
    "import queue\r\n",
    "\r\n",
    "# Adjaceny Matrix\r\n",
    "class Graph:\r\n",
    "    def __init__(self,nVertices) -> None:\r\n",
    "        self.nVertices = nVertices\r\n",
    "        self.adjMatirx = [[0 for i in range(nVertices)] for j in range(nVertices)]\r\n",
    "\r\n",
    "\r\n",
    "    def addEdge(self,v1,v2):\r\n",
    "        self.adjMatirx[v1][v2] = 1\r\n",
    "        self.adjMatirx[v2][v1] = 1\r\n",
    "\r\n",
    "\r\n",
    "    def __dfsHelper(self,sv,visited):\r\n",
    "\r\n",
    "        print(sv)\r\n",
    "        visited[sv] = True\r\n",
    "        for i in range(self.nVertices):\r\n",
    "            if self.adjMatirx[sv][i] > 0 and visited[i] is False:\r\n",
    "                self.__dfsHelper(i,visited)\r\n",
    "\r\n",
    "    def dfs(self):\r\n",
    "        # DFS (DEPTH FIRST SEARCH)\r\n",
    "        visited = [False for i in range(self.nVertices)]\r\n",
    "        self.__dfsHelper(0,visited)\r\n",
    "\r\n",
    "\r\n",
    "\r\n",
    "    def bfs(self):\r\n",
    "        # BFS = BREATH FIRST SEARCH\r\n",
    "\r\n",
    "        count = 0\r\n",
    "        for i in range(self.nVertices):\r\n",
    "            count += self.adjMatirx[i].count(1)\r\n",
    "        if  count == 0:\r\n",
    "            for i  in range(self.nVertices):\r\n",
    "                print(i,end=\" \")\r\n",
    "            return\r\n",
    "\r\n",
    "        \r\n",
    "        visited = [False for i in range(self.nVertices)]\r\n",
    "        q = queue.Queue()\r\n",
    "        q.put(0)\r\n",
    "        visited[0] = True\r\n",
    "        while not q.empty():\r\n",
    "            current_vertx = q.get()\r\n",
    "            print(current_vertx,end=\" \")\r\n",
    "            # visited[current_vertx] = True\r\n",
    "            for i in range(self.nVertices):\r\n",
    "                if self.adjMatirx[current_vertx][i] > 0 and visited[i] == False:\r\n",
    "                    q.put(i)\r\n",
    "                    visited[i] = True\r\n",
    "\r\n",
    "    def removeEdge(self,v1,v2):\r\n",
    "        if self.containsEdge(v1,v2) is False:\r\n",
    "            return \r\n",
    "        self.adjMatirx[v1][v2] = 0\r\n",
    "        self.adjMatirx[v2][v1] = 0\r\n",
    "\r\n",
    "\r\n",
    "    def containsEdge(self,v1,v2):\r\n",
    "        return True if self.adjMatirx[v1][v2] > 0 else False\r\n",
    "\r\n",
    "\r\n",
    "    def __str__(self):\r\n",
    "        return str(self.adjMatirx)\r\n",
    "\r\n",
    "\r\n",
    "\r\n",
    "g = Graph(5)\r\n",
    "g.addEdge(0,1)\r\n",
    "g.addEdge(0,2)\r\n",
    "g.addEdge(1,3)\r\n",
    "g.addEdge(2,3)\r\n",
    "g.addEdge(2,4)\r\n",
    "g.bfs()"
   ],
   "outputs": [
    {
     "output_type": "stream",
     "name": "stdout",
     "text": [
      "8\n"
     ]
    }
   ],
   "metadata": {}
  },
  {
   "cell_type": "code",
   "execution_count": 5,
   "source": [
    "a = [True,False,True]\r\n",
    "print(a.count(True))"
   ],
   "outputs": [
    {
     "output_type": "stream",
     "name": "stdout",
     "text": [
      "2\n"
     ]
    }
   ],
   "metadata": {}
  }
 ],
 "metadata": {
  "orig_nbformat": 4,
  "language_info": {
   "name": "python",
   "version": "3.8.8",
   "mimetype": "text/x-python",
   "codemirror_mode": {
    "name": "ipython",
    "version": 3
   },
   "pygments_lexer": "ipython3",
   "nbconvert_exporter": "python",
   "file_extension": ".py"
  },
  "kernelspec": {
   "name": "python3",
   "display_name": "Python 3.8.8 64-bit ('base': conda)"
  },
  "interpreter": {
   "hash": "1e915f0a29dc84041eaeb02b7b1a21c440e37a87b61d44d5e84a515737dc82bc"
  }
 },
 "nbformat": 4,
 "nbformat_minor": 2
}