{
 "cells": [
  {
   "cell_type": "markdown",
   "metadata": {},
   "source": [
    "# BinaryTreeNode"
   ]
  },
  {
   "cell_type": "code",
   "execution_count": 2,
   "metadata": {},
   "outputs": [],
   "source": [
    "class BinaryTreeNode:\n",
    "    def __init__(self,data) -> None:\n",
    "        self.data = data\n",
    "        self.left = None\n",
    "        self.right = None\n",
    "        "
   ]
  },
  {
   "cell_type": "markdown",
   "metadata": {},
   "source": [
    "# Print BinaryTree"
   ]
  },
  {
   "cell_type": "code",
   "execution_count": 3,
   "metadata": {},
   "outputs": [],
   "source": [
    "def printTree(root):\n",
    "    if not root:\n",
    "        return\n",
    "\n",
    "    print(root.data, end=\": \")\n",
    "    if root.left:\n",
    "        print(\"L\",root.left.data,end=\" \")\n",
    "    if root.right:\n",
    "        print(\"R\",root.right.data,end=\" \")\n",
    "    print()\n",
    "    printTree(root.left)\n",
    "    printTree(root.right)"
   ]
  },
  {
   "cell_type": "markdown",
   "metadata": {},
   "source": [
    "# Input Binary Tree"
   ]
  },
  {
   "cell_type": "code",
   "execution_count": 4,
   "metadata": {},
   "outputs": [],
   "source": [
    "def treeInput(): \n",
    "    \"\"\"\n",
    "    Taking input According to Parent Children \n",
    "    \"\"\"\n",
    "    rootData = int(input())\n",
    "    if rootData == -1:\n",
    "        return None\n",
    "    \n",
    "    root = BinaryTreeNode(rootData)\n",
    "    leftTree = treeInput()\n",
    "    rightTree = treeInput()\n",
    "    root.left = leftTree\n",
    "    root.right = rightTree\n",
    "    return root"
   ]
  },
  {
   "cell_type": "code",
   "execution_count": 5,
   "metadata": {},
   "outputs": [],
   "source": [
    "# root = treeInput()\n",
    "# printTree(root)"
   ]
  },
  {
   "cell_type": "markdown",
   "metadata": {},
   "source": [
    "# Number of Nodes in BT"
   ]
  },
  {
   "cell_type": "code",
   "execution_count": 6,
   "metadata": {},
   "outputs": [],
   "source": [
    "def numNodes(root):\n",
    "    if not root:\n",
    "        return 0\n",
    "    \n",
    "    leftCount = numNodes(root.left)\n",
    "    rightCount = numNodes(root.right)\n",
    "\n",
    "    return leftCount+rightCount\n",
    "    \n",
    "    "
   ]
  },
  {
   "cell_type": "markdown",
   "metadata": {},
   "source": [
    "# Sum Of Nodes"
   ]
  },
  {
   "cell_type": "code",
   "execution_count": 7,
   "metadata": {},
   "outputs": [],
   "source": [
    "def getSum(root):\n",
    "    if not root:\n",
    "        return 0\n",
    "    \n",
    "    leftSum = getSum(root.left)\n",
    "    rightSum = getSum(root.right)\n",
    "    return root.data+leftSum+rightSum\n"
   ]
  },
  {
   "cell_type": "code",
   "execution_count": 8,
   "metadata": {},
   "outputs": [],
   "source": [
    "# root = treeInput()\n",
    "# printTree(root)\n",
    "# print(getSum(root))"
   ]
  },
  {
   "cell_type": "markdown",
   "metadata": {},
   "source": [
    "# Tree Transversal"
   ]
  },
  {
   "cell_type": "code",
   "execution_count": 9,
   "metadata": {},
   "outputs": [],
   "source": [
    "def PreOrderTree(root):\n",
    "    if not root:\n",
    "        return\n",
    "\n",
    "    print(root.data,end=\" \")\n",
    "    # if root.left:\n",
    "    #     print(\"L\",root.left.data,end=\" \")\n",
    "    # if root.right:\n",
    "    #     print(\"R\",root.right.data,end=\" \")\n",
    "    # print()\n",
    "    PreOrderTree(root.left)\n",
    "    PreOrderTree(root.right)\n",
    "\n",
    "def postOrderTree(root):  \n",
    "    \"\"\"\n",
    "    Printing Left Side\n",
    "    Then Right Side\n",
    "    Then Root\n",
    "    \"\"\"\n",
    "    if not root:\n",
    "        return\n",
    "    postOrderTree(root.left)\n",
    "    postOrderTree(root.right)\n",
    "    print(root.data)\n",
    "\n",
    "def inOrderTree(root):\n",
    "    \"\"\"\n",
    "    Printing Left Side\n",
    "    Then, Root\n",
    "    Then, Right Side\n",
    "    \"\"\"\n",
    "    if not root:\n",
    "        return\n",
    "    \n",
    "    inOrderTree(root.left)\n",
    "    print(root.data)\n",
    "    inOrderTree(root.right)\n"
   ]
  },
  {
   "cell_type": "code",
   "execution_count": 10,
   "metadata": {},
   "outputs": [],
   "source": [
    "# root = treeInput()\n",
    "# PreOrderTree(root)\n",
    "# print(\"\\n------------------------------------------------\")\n",
    "# postOrderTree(root)\n",
    "# print(\"------------------------------------------------\")\n",
    "# inOrderTree(root)"
   ]
  },
  {
   "cell_type": "markdown",
   "metadata": {},
   "source": [
    "# Largest Data in Tree"
   ]
  },
  {
   "cell_type": "code",
   "execution_count": 11,
   "metadata": {},
   "outputs": [],
   "source": [
    "def largestData(root):\n",
    "    if not root :\n",
    "        return -1\n",
    "\n",
    "    leftLargest = largestData(root.left)\n",
    "    rightLargest = largestData(root.right)\n",
    "    return max(root.data, rightLargest, leftLargest)"
   ]
  },
  {
   "cell_type": "code",
   "execution_count": 12,
   "metadata": {},
   "outputs": [
    {
     "name": "stdout",
     "output_type": "stream",
     "text": [
      "20\n"
     ]
    }
   ],
   "source": [
    "root = treeInput()\n",
    "print(largestData(root))"
   ]
  },
  {
   "cell_type": "markdown",
   "metadata": {},
   "source": [
    "# Nodes Greater Than X "
   ]
  },
  {
   "cell_type": "code",
   "execution_count": 13,
   "metadata": {},
   "outputs": [],
   "source": [
    "def countNodesGreaterThanX(root, x) :\n",
    "    if not root:\n",
    "        return 0\n",
    "    \n",
    "    leftGreater = countNodesGreaterThanX(root.left,x)\n",
    "    rightGreater = countNodesGreaterThanX(root.right,x)\n",
    "\n",
    "    if root.data >= x:\n",
    "        return leftGreater+rightGreater+1\n",
    "    else:\n",
    "        return leftGreater+rightGreater\n"
   ]
  },
  {
   "cell_type": "code",
   "execution_count": 14,
   "metadata": {},
   "outputs": [
    {
     "name": "stdout",
     "output_type": "stream",
     "text": [
      "3\n"
     ]
    }
   ],
   "source": [
    "root = treeInput()\n",
    "print(countNodesGreaterThanX(root,2))"
   ]
  },
  {
   "cell_type": "markdown",
   "metadata": {},
   "source": [
    "# Height Of Tree "
   ]
  },
  {
   "cell_type": "code",
   "execution_count": null,
   "metadata": {},
   "outputs": [],
   "source": [
    "def height(root) :\n",
    "    if not root:\n",
    "        return 0\n",
    "    \n",
    "    leftHeight = height(root.left)\n",
    "    rightHeight = height(root.right)\n",
    "\n",
    "    return max(leftHeight,rightHeight) + 1"
   ]
  },
  {
   "cell_type": "markdown",
   "metadata": {},
   "source": [
    "# Number of Leaf Node"
   ]
  },
  {
   "cell_type": "code",
   "execution_count": null,
   "metadata": {},
   "outputs": [],
   "source": [
    "def numNode(root):\n",
    "    if root == None:\n",
    "        return 0\n",
    "    if (root.left == None and root.right == None):\n",
    "        return 1\n",
    "    \n",
    "    leafLeft = numNode(root.left)\n",
    "    leafRight = numNode(root.right)\n",
    "\n",
    "    return leafLeft+leafRight\n"
   ]
  },
  {
   "cell_type": "markdown",
   "metadata": {},
   "source": [
    "# Print Nodes At Depth K"
   ]
  },
  {
   "cell_type": "code",
   "execution_count": null,
   "metadata": {},
   "outputs": [],
   "source": [
    "def printDepthK(root,k): \n",
    "    \"\"\"\n",
    "    Decrementing value of depth as we go down\n",
    "    \"\"\"\n",
    "    if not root:\n",
    "        return\n",
    "    if k == 0:\n",
    "        print(\"Node:\",root.data)\n",
    "        return\n",
    "    \n",
    "    printDepthK(root.left,k-1)\n",
    "    printDepthK(root.right,k-1)\n",
    "\n",
    "\n",
    "def printDepthKV2(root,k,curr=0):\n",
    "    \"\"\"\n",
    "    Keeping track of our level and as we reach level k printing Values\n",
    "    \"\"\"\n",
    "    if not root:\n",
    "        return\n",
    "    if k == curr:\n",
    "        print(\"Node:\",root.data)\n",
    "        return\n",
    "    \n",
    "    printDepthKV2(root.left,k,curr+1)\n",
    "    printDepthKV2(root.right,k,curr+1)"
   ]
  },
  {
   "cell_type": "markdown",
   "metadata": {},
   "source": [
    "# Replace Node with Depth"
   ]
  },
  {
   "cell_type": "code",
   "execution_count": null,
   "metadata": {},
   "outputs": [],
   "source": [
    "def changeToDepthTree(root,curr=0) :\n",
    "    if not root:\n",
    "        return\n",
    "    root.data = curr\n",
    "    changeToDepthTree(root.left,curr+1)\n",
    "    changeToDepthTree(root.right,curr+1)"
   ]
  },
  {
   "cell_type": "markdown",
   "metadata": {},
   "source": [
    "# Is node present? "
   ]
  },
  {
   "cell_type": "code",
   "execution_count": null,
   "metadata": {},
   "outputs": [],
   "source": [
    "def isNodePresent(root, x) :\n",
    "    if not root:\n",
    "        return False\n",
    "    \n",
    "    if root.data == x:\n",
    "        return True\n",
    "    \n",
    "    leftSearch = isNodePresent(root.left, x)\n",
    "    rightSearch = isNodePresent(root.right, x)\n",
    "    \n",
    "    if leftSearch or rightSearch:\n",
    "        return True\n",
    "    return False"
   ]
  },
  {
   "cell_type": "markdown",
   "metadata": {},
   "source": [
    "#  Nodes without sibling "
   ]
  },
  {
   "cell_type": "code",
   "execution_count": null,
   "metadata": {},
   "outputs": [],
   "source": [
    "def printNodesWithoutSibling(root) :\n",
    "    if not root or (not root.left and not root.right):\n",
    "        return\n",
    "    \n",
    "    if not root.left:\n",
    "        print(root.right.data, end=\" \")\n",
    "        printNodesWithoutSibling(root.right)\n",
    "        return\n",
    "    \n",
    "    if not root.right:\n",
    "        print(root.left.data, end=\" \")\n",
    "        printNodesWithoutSibling(root.left)\n",
    "        return\n",
    "\n",
    "    printNodesWithoutSibling(root.left)\n",
    "    printNodesWithoutSibling(root.right)"
   ]
  }
 ],
 "metadata": {
  "kernelspec": {
   "display_name": "Python 3.9.5 64-bit",
   "name": "python395jvsc74a57bd0e7370f93d1d0cde622a1f8e1c04877d8463912d04d973331ad4851f04de6915a"
  },
  "language_info": {
   "codemirror_mode": {
    "name": "ipython",
    "version": 3
   },
   "file_extension": ".py",
   "mimetype": "text/x-python",
   "name": "python",
   "nbconvert_exporter": "python",
   "pygments_lexer": "ipython3",
   "version": "3.9.5"
  },
  "metadata": {
   "interpreter": {
    "hash": "e7370f93d1d0cde622a1f8e1c04877d8463912d04d973331ad4851f04de6915a"
   }
  },
  "orig_nbformat": 2
 },
 "nbformat": 4,
 "nbformat_minor": 2
}