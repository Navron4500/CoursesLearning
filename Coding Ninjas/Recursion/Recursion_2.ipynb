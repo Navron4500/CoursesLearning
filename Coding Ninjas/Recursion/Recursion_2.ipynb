{
 "metadata": {
  "language_info": {
   "codemirror_mode": {
    "name": "ipython",
    "version": 3
   },
   "file_extension": ".py",
   "mimetype": "text/x-python",
   "name": "python",
   "nbconvert_exporter": "python",
   "pygments_lexer": "ipython3",
   "version": "3.8.8"
  },
  "orig_nbformat": 2,
  "kernelspec": {
   "name": "python388jvsc74a57bd01e915f0a29dc84041eaeb02b7b1a21c440e37a87b61d44d5e84a515737dc82bc",
   "display_name": "Python 3.8.8 64-bit ('base': conda)"
  }
 },
 "nbformat": 4,
 "nbformat_minor": 2,
 "cells": [
  {
   "source": [
    "# Replaceing Char a with b"
   ],
   "cell_type": "markdown",
   "metadata": {}
  },
  {
   "cell_type": "code",
   "execution_count": 1,
   "metadata": {},
   "outputs": [],
   "source": [
    "def replaceChar(s,a,b):\n",
    "    if len(s) == 0:\n",
    "        return s\n",
    "    smallOutput = replaceChar(s[1:],a,b)\n",
    "    if s[0] == a:\n",
    "        return b + smallOutput\n",
    "    else:\n",
    "        return s[0] + smallOutput"
   ]
  },
  {
   "cell_type": "code",
   "execution_count": 5,
   "metadata": {},
   "outputs": [],
   "source": [
    "s = 'abcdccxw'\n",
    "a= 'c'\n",
    "b = 'x'\n",
    "res = replaceChar(s,a,b)"
   ]
  },
  {
   "source": [
    "# Remove all 'x' from strings"
   ],
   "cell_type": "markdown",
   "metadata": {}
  },
  {
   "cell_type": "code",
   "execution_count": 4,
   "metadata": {},
   "outputs": [],
   "source": [
    "def replaceX(s):\n",
    "    if len(s) == 0:\n",
    "        return s\n",
    "    smallOutput = replaceX(s[1:])\n",
    "    if s[0] == 'x':\n",
    "        return smallOutput\n",
    "    else:\n",
    "        return s[0] + smallOutput"
   ]
  },
  {
   "cell_type": "code",
   "execution_count": 7,
   "metadata": {},
   "outputs": [
    {
     "output_type": "stream",
     "name": "stdout",
     "text": [
      "abxdxxxw\nabdw\n"
     ]
    }
   ],
   "source": [
    "print(res)\n",
    "print(replaceX(res))"
   ]
  },
  {
   "source": [
    "# Replace Pi"
   ],
   "cell_type": "markdown",
   "metadata": {}
  },
  {
   "cell_type": "code",
   "execution_count": 24,
   "metadata": {},
   "outputs": [],
   "source": [
    "def replacepi(s):\n",
    "    if len(s) == 1 or len(s) == 0:\n",
    "        return s\n",
    "    if s[:2] == 'pi':\n",
    "        output = replacepi(s[2:])\n",
    "        return \"3.14\" + output\n",
    "    else:\n",
    "        smallOutput = replacepi(s[1:])\n",
    "        return s[0] + smallOutput"
   ]
  },
  {
   "cell_type": "code",
   "execution_count": 25,
   "metadata": {},
   "outputs": [
    {
     "output_type": "stream",
     "name": "stdout",
     "text": [
      "abc3.14d3.14i3.14\nTrue\npi\n"
     ]
    }
   ],
   "source": [
    "s = \"abcpidpiipi\"\n",
    "\n",
    "print(replacepi(s))pa = \"picd\"\n",
    "(print(a[:2] ==pi')\n",
    "print()a[]22"
   ]
  },
  {
   "source": [
    "# Remove Consecutive Strings"
   ],
   "cell_type": "markdown",
   "metadata": {}
  },
  {
   "cell_type": "code",
   "execution_count": 26,
   "metadata": {},
   "outputs": [],
   "source": [
    "def removeConsecutive(s):\n",
    "    # BASE CASE\n",
    "    if len(s) == 0 or len(s) == 1:\n",
    "        return s\n",
    "\n",
    "    output = removeConsecutive(s[1:])\n",
    "    if s[0] == s[1]:\n",
    "        return output\n",
    "    else:\n",
    "        return s[0] + output\n"
   ]
  },
  {
   "cell_type": "code",
   "execution_count": 27,
   "metadata": {},
   "outputs": [
    {
     "output_type": "stream",
     "name": "stdout",
     "text": [
      "abcd\n"
     ]
    }
   ],
   "source": [
    "a = \"aabcccd\"\n",
    "print(removeConsecutive(a))"
   ]
  },
  {
   "source": [
    "# Binary Search"
   ],
   "cell_type": "markdown",
   "metadata": {}
  },
  {
   "cell_type": "code",
   "execution_count": 35,
   "metadata": {},
   "outputs": [],
   "source": [
    "def binarySearch(arr, x, si, ei):\n",
    "    if si > ei:\n",
    "        return -1\n",
    "    \n",
    "    mid = (si+ei)//2\n",
    "    if arr[mid] == x:\n",
    "        return mid\n",
    "    elif arr[mid]>x:\n",
    "        return binarySearch(arr, x, si, mid-1)\n",
    "    else:\n",
    "        return binarySearch(arr, x, mid+1, ei)"
   ]
  },
  {
   "cell_type": "code",
   "execution_count": 41,
   "metadata": {},
   "outputs": [
    {
     "output_type": "stream",
     "name": "stdout",
     "text": [
      "-1\n"
     ]
    }
   ],
   "source": [
    "arr = [2,4,6,8,10,12,14,16]\n",
    "l = len(arr)\n",
    "print(binarySearch(arr,15,0,l))"
   ]
  },
  {
   "cell_type": "code",
   "execution_count": null,
   "metadata": {},
   "outputs": [],
   "source": []
  }
 ]
}