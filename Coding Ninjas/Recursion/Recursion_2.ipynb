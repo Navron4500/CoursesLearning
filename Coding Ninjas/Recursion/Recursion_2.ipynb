{
 "metadata": {
  "orig_nbformat": 2,
  "kernelspec": {
   "name": "python3",
   "display_name": "Python 3",
   "language": "python"
  }
 },
 "nbformat": 4,
 "nbformat_minor": 2,
 "cells": [
  {
   "source": [
    "# Replaceing Char a with b"
   ],
   "cell_type": "markdown",
   "metadata": {}
  },
  {
   "cell_type": "code",
   "execution_count": null,
   "metadata": {},
   "outputs": [],
   "source": [
    "def replaceChar(s,a,b):\n",
    "    if len(s) == 0:\n",
    "        return s\n",
    "    smallOutput = replaceChar(s[1:],a,b)\n",
    "    if s[0] == a:\n",
    "        return b + smallOutput\n",
    "    else:\n",
    "        return s[0] + smallOutput"
   ]
  },
  {
   "cell_type": "code",
   "execution_count": null,
   "metadata": {},
   "outputs": [],
   "source": [
    "s = 'abcdccxw'\n",
    "a= 'c'\n",
    "b = 'x'\n",
    "res = replaceChar(s,a,b)"
   ]
  },
  {
   "source": [
    "# Remove all 'x' from strings"
   ],
   "cell_type": "markdown",
   "metadata": {}
  },
  {
   "cell_type": "code",
   "execution_count": null,
   "metadata": {},
   "outputs": [],
   "source": [
    "def replaceX(s):\n",
    "    if len(s) == 0:\n",
    "        return s\n",
    "    smallOutput = replaceX(s[1:])\n",
    "    if s[0] == 'x':\n",
    "        return smallOutput\n",
    "    else:\n",
    "        return s[0] + smallOutput"
   ]
  },
  {
   "cell_type": "code",
   "execution_count": null,
   "metadata": {},
   "outputs": [],
   "source": [
    "print(res)\n",
    "print(replaceX(res))"
   ]
  },
  {
   "source": [
    "# Replace Pi"
   ],
   "cell_type": "markdown",
   "metadata": {}
  },
  {
   "cell_type": "code",
   "execution_count": null,
   "metadata": {},
   "outputs": [],
   "source": [
    "def replacepi(s):\n",
    "    if len(s) == 1 or len(s) == 0:\n",
    "        return s\n",
    "    if s[:2] == 'pi':\n",
    "        output = replacepi(s[2:])\n",
    "        return \"3.14\" + output\n",
    "    else:\n",
    "        smallOutput = replacepi(s[1:])\n",
    "        return s[0] + smallOutput"
   ]
  },
  {
   "cell_type": "code",
   "execution_count": null,
   "metadata": {},
   "outputs": [],
   "source": [
    "s = \"abcpidpiipi\"\n",
    "\n",
    "print(replacepi(s))pa = \"picd\"\n",
    "(print(a[:2] ==pi')\n",
    "print()a[]22"
   ]
  },
  {
   "source": [
    "# Remove Consecutive Strings"
   ],
   "cell_type": "markdown",
   "metadata": {}
  },
  {
   "cell_type": "code",
   "execution_count": null,
   "metadata": {},
   "outputs": [],
   "source": [
    "def removeConsecutive(s):\n",
    "    # BASE CASE\n",
    "    if len(s) == 0 or len(s) == 1:\n",
    "        return s\n",
    "\n",
    "    output = removeConsecutive(s[1:])\n",
    "    if s[0] == s[1]:\n",
    "        return output\n",
    "    else:\n",
    "        return s[0] + output\n"
   ]
  },
  {
   "cell_type": "code",
   "execution_count": null,
   "metadata": {},
   "outputs": [],
   "source": [
    "a = \"aabcccd\"\n",
    "print(removeConsecutive(a))"
   ]
  },
  {
   "source": [
    "# Binary Search"
   ],
   "cell_type": "markdown",
   "metadata": {}
  },
  {
   "cell_type": "code",
   "execution_count": null,
   "metadata": {},
   "outputs": [],
   "source": [
    "def binarySearch(arr, x, si, ei):\n",
    "    if si > ei:\n",
    "        return -1\n",
    "    \n",
    "    mid = (si+ei)//2\n",
    "    if arr[mid] == x:\n",
    "        return mid\n",
    "    elif arr[mid]>x:\n",
    "        return binarySearch(arr, x, si, mid-1)\n",
    "    else:\n",
    "        return binarySearch(arr, x, mid+1, ei)"
   ]
  },
  {
   "cell_type": "code",
   "execution_count": null,
   "metadata": {},
   "outputs": [],
   "source": [
    "arr = [2,4,6,8,10,12,16]\n",
    "l = len(arr)\n",
    "#print(binarySearch(arr,15,0,l))"
   ]
  },
  {
   "source": [
    "# Merge Sort"
   ],
   "cell_type": "markdown",
   "metadata": {}
  },
  {
   "cell_type": "code",
   "execution_count": null,
   "metadata": {},
   "outputs": [],
   "source": [
    " mid = (0+len(arr))//2\n",
    " print(mid)\n",
    " print(arr[:mid])\n",
    " print(arr[mid:])"
   ]
  },
  {
   "cell_type": "code",
   "execution_count": null,
   "metadata": {},
   "outputs": [],
   "source": [
    "def merge(arr, s1, e1, s2, e2):\n",
    "    while s1<=e1 and s2<=e2:\n",
    "        if arr[s1] > arr[s2]:\n",
    "            arr.insert(s1,arr.pop(s2))\n",
    "            s1 += 1\n",
    "            s2 += 1"
   ]
  },
  {
   "cell_type": "code",
   "execution_count": null,
   "metadata": {},
   "outputs": [],
   "source": [
    "def MergeSort(a, start, end):\n",
    "    if start == end:\n",
    "        return \n",
    "    \n",
    "    mid = (start+end)//2\n",
    "    MergeSort(a,start,mid)\n",
    "    MergeSort(a,mid+1, end)\n",
    "    \n",
    "    merge(a, start, mid, mid+1, end)"
   ]
  },
  {
   "cell_type": "code",
   "execution_count": 22,
   "metadata": {},
   "outputs": [],
   "source": [
    "def ms(x, left, right):\n",
    "    # the base case: right - left as a single-element array\n",
    "    if right - left >= 2:\n",
    "        mid = (left + right) // 2  # index of the first element of the right half\n",
    "        ms(x, left, mid)\n",
    "        ms(x, mid, right)\n",
    "        m(x, left, mid, right)\n",
    "    return x\n",
    "\n",
    "def m(x, left, mid, right):\n",
    "    nlower = mid - left\n",
    "    nupper = right - mid\n",
    "    temp = [0] * (nlower + nupper)\n",
    "    ilower, iupper, k = left, mid, 0\n",
    "    \n",
    "    while ilower < mid and iupper < right:\n",
    "        if x[ilower] <= x[iupper]:\n",
    "            temp[k] = x[ilower]\n",
    "            ilower += 1\n",
    "            k += 1\n",
    "        else:\n",
    "            temp[k] = x[iupper]\n",
    "            iupper += 1\n",
    "            k += 1\n",
    "    if ilower == mid:\n",
    "        temp[k:] = x[iupper:right]\n",
    "    else:\n",
    "        temp[k:] = x[ilower:mid]\n",
    "    x[left:right] = temp\n",
    "    return x"
   ]
  },
  {
   "cell_type": "code",
   "execution_count": 24,
   "metadata": {},
   "outputs": [],
   "source": [
    "# Merge Sort Solution from Coding Ninjas"
   ]
  },
  {
   "cell_type": "code",
   "execution_count": 25,
   "metadata": {},
   "outputs": [],
   "source": [
    "def ms(x, left, right):\n",
    "    # the base case: right - left as a single-element array\n",
    "    if right - left >= 2:\n",
    "        mid = (left + right) // 2  # index of the first element of the right half\n",
    "        ms(x, left, mid)\n",
    "        ms(x, mid, right)\n",
    "        m(x, left, mid, right)\n",
    "    return x\n",
    "\n",
    "def m(x, left, mid, right):\n",
    "    nlower = mid - left\n",
    "    nupper = right - mid\n",
    "    temp = [0] * (nlower + nupper)\n",
    "    ilower, iupper, k = left, mid, 0\n",
    "    \n",
    "    while ilower < mid and iupper < right:\n",
    "        if x[ilower] <= x[iupper]:\n",
    "            temp[k] = x[ilower]\n",
    "            ilower += 1\n",
    "            k += 1\n",
    "        else:\n",
    "            temp[k] = x[iupper]\n",
    "            iupper += 1\n",
    "            k += 1\n",
    "    if ilower == mid:\n",
    "        temp[k:] = x[iupper:right]\n",
    "    else:\n",
    "        temp[k:] = x[ilower:mid]\n",
    "    x[left:right] = temp\n",
    "    return x"
   ]
  },
  {
   "cell_type": "code",
   "execution_count": 23,
   "metadata": {},
   "outputs": [
    {
     "output_type": "stream",
     "name": "stdout",
     "text": [
      "1 2 3 6 54\n"
     ]
    }
   ],
   "source": [
    "a = [6,54,3,2,1]\n",
    "s = ms(a,0,len(a))\n",
    "print(*a)"
   ]
  },
  {
   "cell_type": "code",
   "execution_count": null,
   "metadata": {},
   "outputs": [],
   "source": [
    "a = [6,5,3]\n",
    "a.insert(0,a.pop(2))\n",
    "print(*a)"
   ]
  },
  {
   "source": [
    "# Quick Sort"
   ],
   "cell_type": "markdown",
   "metadata": {}
  },
  {
   "cell_type": "code",
   "execution_count": 97,
   "metadata": {},
   "outputs": [],
   "source": [
    "def partition(a, si, ei):\n",
    "    pivot = a[si]\n",
    "    cnt = 0\n",
    "    for i in range(si, ei+1):\n",
    "        if a[i] < pivot:\n",
    "            cnt += 1\n",
    "    a[si+cnt], a[si] = a[si], a[si+cnt]\n",
    "    pivot_index = si+cnt\n",
    "\n",
    "    i = si\n",
    "    j = ei\n",
    "    while i < j:\n",
    "        if a[i] < pivot: # why \"=\" Doesn't work\n",
    "            i += 1\n",
    "        elif a[j] >= pivot: #Why using \"=\" Here works \n",
    "            j -= 1\n",
    "        \n",
    "        else:\n",
    "            a[i], a[j] = a[j], a[i]\n",
    "            i += 1\n",
    "            j -= 1\n",
    "\n",
    "    return pivot_index"
   ]
  },
  {
   "cell_type": "code",
   "execution_count": 98,
   "metadata": {},
   "outputs": [],
   "source": [
    "def quicksort(arr, si, ei):\n",
    "    if si >= ei:\n",
    "        return\n",
    "\n",
    "    i = partition(arr,si,ei)\n",
    "    quicksort(arr, si, i-1)\n",
    "    quicksort(arr, i+1, ei)\n"
   ]
  },
  {
   "cell_type": "code",
   "execution_count": 100,
   "metadata": {},
   "outputs": [
    {
     "output_type": "stream",
     "name": "stdout",
     "text": [
      "[1, 2, 3, 4, 5]\n"
     ]
    }
   ],
   "source": [
    "a = [3,1,5,4,2]\n",
    "quicksort(a,0,len(a)-1)\n",
    "print(a)"
   ]
  },
  {
   "cell_type": "code",
   "execution_count": null,
   "metadata": {},
   "outputs": [],
   "source": []
  },
  {
   "cell_type": "code",
   "execution_count": null,
   "metadata": {},
   "outputs": [],
   "source": []
  }
 ]
}