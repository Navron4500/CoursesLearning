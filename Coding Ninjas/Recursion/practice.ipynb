{
 "metadata": {
  "language_info": {
   "codemirror_mode": {
    "name": "ipython",
    "version": 3
   },
   "file_extension": ".py",
   "mimetype": "text/x-python",
   "name": "python",
   "nbconvert_exporter": "python",
   "pygments_lexer": "ipython3",
   "version": "3.9.5"
  },
  "orig_nbformat": 2,
  "kernelspec": {
   "name": "python395jvsc74a57bd029a9750479b000d02b465ba3e1a39fd7a8610c5d519bdf5bcd8f74ead63a59d2",
   "display_name": "Python 3.9.5 64-bit (windows store)"
  },
  "metadata": {
   "interpreter": {
    "hash": "29a9750479b000d02b465ba3e1a39fd7a8610c5d519bdf5bcd8f74ead63a59d2"
   }
  }
 },
 "nbformat": 4,
 "nbformat_minor": 2,
 "cells": [
  {
   "cell_type": "code",
   "execution_count": null,
   "metadata": {},
   "outputs": [],
   "source": []
  },
  {
   "cell_type": "code",
   "execution_count": 18,
   "metadata": {},
   "outputs": [],
   "source": [
    "def permutation_with_spaces(ip,op):\n",
    "    if len(ip) == 0: #BASE CASE\n",
    "        print(op)\n",
    "        return\n",
    "    \n",
    "    op += ip[0]\n",
    "    ip = ip[1:]\n",
    "\n",
    "    op1 = op\n",
    "    op2 = op\n",
    "\n",
    "    op1 += \" \"\n",
    "    permutation_with_spaces(ip,op1)\n",
    "    permutation_with_spaces(ip,op2)\n",
    "    \n",
    "\n",
    "\n",
    "    "
   ]
  },
  {
   "cell_type": "code",
   "execution_count": 19,
   "metadata": {},
   "outputs": [
    {
     "output_type": "stream",
     "name": "stdout",
     "text": [
      "A B C \nA B C\nA BC \nA BC\nAB C \nAB C\nABC \nABC\n"
     ]
    }
   ],
   "source": [
    "ip = \"ABC\"\n",
    "op = \"\"\n",
    "permutation_with_spaces(ip,op)\n"
   ]
  },
  {
   "cell_type": "code",
   "execution_count": 26,
   "metadata": {},
   "outputs": [
    {
     "output_type": "error",
     "ename": "SyntaxError",
     "evalue": "cannot assign to operator (<ipython-input-26-91061102ac0e>, line 4)",
     "traceback": [
      "\u001b[1;36m  File \u001b[1;32m\"<ipython-input-26-91061102ac0e>\"\u001b[1;36m, line \u001b[1;32m4\u001b[0m\n\u001b[1;33m    a and b = c\u001b[0m\n\u001b[1;37m    ^\u001b[0m\n\u001b[1;31mSyntaxError\u001b[0m\u001b[1;31m:\u001b[0m cannot assign to operator\n"
     ]
    }
   ],
   "source": []
  },
  {
   "cell_type": "code",
   "execution_count": 5,
   "metadata": {},
   "outputs": [
    {
     "output_type": "stream",
     "name": "stdout",
     "text": [
      "1.9375\n"
     ]
    }
   ],
   "source": [
    "def geometric_sum(k):\n",
    "    if k == 0:\n",
    "        return 1\n",
    "    \n",
    "    res = geometric_sum(k-1)\n",
    "    powered = (1/2)**k\n",
    "    return res+powered\n",
    "\n",
    "k = map(int, input())\n",
    "print(geometric_sum(k))\n"
   ]
  },
  {
   "cell_type": "code",
   "execution_count": null,
   "metadata": {},
   "outputs": [],
   "source": []
  }
 ]
}