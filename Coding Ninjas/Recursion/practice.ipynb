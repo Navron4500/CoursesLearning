{
 "metadata": {
  "language_info": {
   "codemirror_mode": {
    "name": "ipython",
    "version": 3
   },
   "file_extension": ".py",
   "mimetype": "text/x-python",
   "name": "python",
   "nbconvert_exporter": "python",
   "pygments_lexer": "ipython3",
   "version": "3.9.5"
  },
  "orig_nbformat": 2,
  "kernelspec": {
   "name": "python395jvsc74a57bd0e7370f93d1d0cde622a1f8e1c04877d8463912d04d973331ad4851f04de6915a",
   "display_name": "Python 3.9.5 64-bit"
  },
  "metadata": {
   "interpreter": {
    "hash": "e7370f93d1d0cde622a1f8e1c04877d8463912d04d973331ad4851f04de6915a"
   }
  }
 },
 "nbformat": 4,
 "nbformat_minor": 2,
 "cells": [
  {
   "cell_type": "code",
   "execution_count": 40,
   "metadata": {},
   "outputs": [],
   "source": [
    "a = \"Naveen Agrawal is the best\""
   ]
  },
  {
   "cell_type": "code",
   "execution_count": 41,
   "metadata": {},
   "outputs": [],
   "source": [
    "for n,i in enumerate(a):\n",
    "    if i == ' ':\n",
    "        back = a[n+1:]\n",
    "        a = a[:n] + \"@\" + back"
   ]
  },
  {
   "source": [
    "# Stair Case"
   ],
   "cell_type": "markdown",
   "metadata": {}
  },
  {
   "cell_type": "code",
   "execution_count": 4,
   "metadata": {},
   "outputs": [
    {
     "output_type": "stream",
     "name": "stdout",
     "text": [
      "3\n"
     ]
    }
   ],
   "source": [
    "def stairCase(n):\n",
    "    if n<0:\n",
    "        return 0\n",
    "    elif n==0:\n",
    "        return 1\n",
    "\n",
    "    res1 = 0\n",
    "    res2 = 0\n",
    "\n",
    "    if n-1>=0:\n",
    "        res1 = stairCase(n-1)\n",
    "    if n-2>=0:\n",
    "        res2 = stairCase(n-2)\n",
    "\n",
    "    return res1+res2\n",
    "\n",
    "t1 = 2\n",
    "t2 = 3\n",
    "print(stairCase(t2))"
   ]
  },
  {
   "source": [
    "# Problem two"
   ],
   "cell_type": "markdown",
   "metadata": {}
  },
  {
   "source": [
    "def search(hay, needle):\n",
    "    if needle not in hay:\n",
    "        return -1\n",
    "    else:\n",
    "        idx = 0\n",
    "        if hay == needle:\n",
    "            return 0\n",
    "        while idx<len(hay):\n",
    "            i = 0\n",
    "            if hay[idx] == needle[i] and hay[idx+1] == needle[i+1]: \n",
    "                index = idx\n",
    "                idx += 2\n",
    "                i += 2\n",
    "                while i<len(needle):\n",
    "                    if hay[idx] != needle[i]:\n",
    "                        idx = index\n",
    "                        break\n",
    "                    idx += 1\n",
    "                    i += 1\n",
    "                else:\n",
    "                    return index\n",
    "            idx += 1 #Returning idx to index\n",
    "\n",
    "t1 = \"abc\"\n",
    "t2 = \"\"\n",
    "target2 = \"\"\n",
    "target1 = 'a'\n",
    "print(search(t1,target1))"
   ],
   "cell_type": "code",
   "metadata": {},
   "execution_count": null,
   "outputs": []
  },
  {
   "cell_type": "code",
   "execution_count": null,
   "metadata": {},
   "outputs": [],
   "source": []
  }
 ]
}