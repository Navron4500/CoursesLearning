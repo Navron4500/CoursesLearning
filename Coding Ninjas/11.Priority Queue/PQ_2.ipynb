{
 "cells": [
  {
   "cell_type": "code",
   "execution_count": null,
   "source": [
    "\r\n",
    "# Inplace Heap Sort\r\n",
    "def down_heapify(arr,start,end):\r\n",
    "    parentIndex = start\r\n",
    "    leftChild = 2*parentIndex+1\r\n",
    "    rightChild= 2*parentIndex+2\r\n",
    "\r\n",
    "    while leftChild < end:\r\n",
    "        minIndex = parentIndex\r\n",
    "        if arr[minIndex] > arr[leftChild]:\r\n",
    "            minIndex = leftChild\r\n",
    "        if rightChild < end and  arr[minIndex] > arr[rightChild]:\r\n",
    "            minIndex = rightChild\r\n",
    "        \r\n",
    "        if minIndex == parentIndex:\r\n",
    "            return\r\n",
    "        \r\n",
    "        arr[minIndex], arr[parentIndex] = arr[parentIndex], arr[minIndex]\r\n",
    "        parentIndex = minIndex\r\n",
    "        leftChild = 2*parentIndex+1\r\n",
    "        rightChild= 2*parentIndex+2\r\n",
    "\r\n",
    "def heapSort(arr):\r\n",
    "    # Build the Heap\r\n",
    "    n = len(arr)\r\n",
    "    for i in range(n//2 - 1, -1,-1):\r\n",
    "        down_heapify(arr,i,n)\r\n",
    "\r\n",
    "    # Removing n elements from heap and put them at correct position\r\n",
    "    for i in range(n-1,0,-1):\r\n",
    "        arr[0], arr[i] = arr[i], arr[0]\r\n",
    "        down_heapify(arr,0,i)\r\n",
    "\r\n",
    "    return \r\n",
    "\r\n",
    "\r\n",
    "arr = [int(ele) for ele in input().split()]\r\n",
    "\r\n",
    "heapSort(arr)\r\n",
    "for ele in arr[::-1]:\r\n",
    "    print(ele,end=\" \")"
   ],
   "outputs": [],
   "metadata": {}
  },
  {
   "cell_type": "code",
   "execution_count": null,
   "source": [
    "# INBUILT MIN HEAP\r\n",
    "\r\n",
    "import heapq\r\n",
    "li = [5,1,7,12,6,27,4]\r\n",
    "\r\n",
    "heapq.heapify(li)\r\n",
    "print(\"Heapify:\",li)\r\n",
    "\r\n",
    "heapq.heappush(li, 3)\r\n",
    "print(\"HeapPush\",li)\r\n",
    "\r\n",
    "print(\"Heap POP\", heapq.heappop(li))\r\n",
    "print(\"AFTER POP\",li)\r\n",
    "\r\n",
    "print(\"Replaced Value:\",heapq.heapreplace(li,99))\r\n",
    "print(\"Replace:\", li)\r\n",
    "\r\n"
   ],
   "outputs": [],
   "metadata": {}
  },
  {
   "cell_type": "code",
   "execution_count": null,
   "source": [
    "# INBUILT MAX HEAP\r\n",
    "\r\n",
    "import heapq\r\n",
    "li = [5,1,7,12,6,27,4]\r\n",
    "\r\n",
    "heapq._heapify_max(li)\r\n",
    "print(\"MAX HEAP: \",li)\r\n",
    "\r\n",
    "print(\"POP:\",heapq._heappop_max(li))\r\n",
    "print(li)\r\n",
    "\r\n",
    "print(heapq._heapreplace_max(li,0))\r\n",
    "print(\"REPLACE HEAP:\",li)\r\n",
    "\r\n",
    "# Max Heap Push\r\n",
    "li.append(30)\r\n",
    "heapq._siftdown_max(li,0,len(li)-1)\r\n",
    "print(li)\r\n",
    "\r\n",
    "\r\n"
   ],
   "outputs": [],
   "metadata": {}
  },
  {
   "cell_type": "markdown",
   "source": [
    "# Check Max-Heap"
   ],
   "metadata": {}
  },
  {
   "cell_type": "markdown",
   "source": [
    "def checkMaxHeap(lst):\r\n",
    "    n = len(lst)\r\n",
    "    for ele in range(n//2):\r\n",
    "        parentIndex = ele\r\n",
    "        leftChild = 2*parentIndex + 1\r\n",
    "        rightChild = 2*parentIndex + 2\r\n",
    "        \r\n",
    "        if leftChild < n:\r\n",
    "            if lst[parentIndex] < lst[leftChild]:\r\n",
    "                return False\r\n",
    "        if rightChild < n:\r\n",
    "            if lst[parentIndex] < lst[rightChild]:\r\n",
    "                return False\r\n",
    "            \r\n",
    "    return True"
   ],
   "metadata": {}
  },
  {
   "cell_type": "markdown",
   "source": [
    "# Kth largest element"
   ],
   "metadata": {}
  },
  {
   "cell_type": "markdown",
   "source": [],
   "metadata": {}
  }
 ],
 "metadata": {
  "orig_nbformat": 4,
  "language_info": {
   "name": "python"
  }
 },
 "nbformat": 4,
 "nbformat_minor": 2
}