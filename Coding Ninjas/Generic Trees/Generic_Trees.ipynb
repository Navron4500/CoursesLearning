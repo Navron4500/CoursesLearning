{
 "cells": [
  {
   "cell_type": "code",
   "execution_count": null,
   "metadata": {},
   "outputs": [],
   "source": [
    "class TreeNode:\n",
    "    def __init__(self,data) -> None:\n",
    "        self.data = data\n",
    "        self.children = []"
   ]
  },
  {
   "cell_type": "code",
   "execution_count": null,
   "metadata": {},
   "outputs": [],
   "source": [
    "def printTree(root):\n",
    "    # Not a base case but an edge case\n",
    "    if not root:\n",
    "        print(\"EMPTY\")\n",
    "        return\n",
    "\n",
    "    print(root.data,end=\",\")\n",
    "    for child in root.children:\n",
    "        printTree(child)"
   ]
  },
  {
   "cell_type": "code",
   "execution_count": null,
   "metadata": {},
   "outputs": [],
   "source": [
    "def printTreeV2(root):\n",
    "    if not root:\n",
    "        return \n",
    "    \n",
    "    print(root.data,\":\",end=\"\")\n",
    "    for child in root.children:\n",
    "        print(child.data,\",\",end=\"\")\n",
    "    \n",
    "    print()\n",
    "\n",
    "    for child in root.children:\n",
    "        printTreeV2(child)"
   ]
  },
  {
   "cell_type": "code",
   "execution_count": null,
   "metadata": {},
   "outputs": [],
   "source": [
    "import queue\n",
    "def treeinput():\n",
    "    print(\"Enter root Data: \")\n",
    "    rootData = int(input())\n",
    "    if rootData == -1:\n",
    "        return None\n",
    "    \n",
    "    root = TreeNode(rootData)\n",
    "    \n",
    "    print(\"Enter number of children for\",rootData)\n",
    "    childrenCount = int(input())\n",
    "    for i in range(childrenCount):\n",
    "        child = treeinput()\n",
    "        root.children.append(child)\n",
    "\n",
    "    return root"
   ]
  },
  {
   "cell_type": "markdown",
   "metadata": {},
   "source": [
    "# Print and Input Level Wise"
   ]
  },
  {
   "cell_type": "code",
   "execution_count": null,
   "metadata": {},
   "outputs": [],
   "source": [
    "def treeInputLevelWise():\n",
    "    q = queue.Queue()\n",
    "    rootData = int(input(\"Enter Input: \"))\n",
    "    if rootData == -1:\n",
    "        return None\n",
    "\n",
    "    root = TreeNode(rootData)\n",
    "    q.put(root)\n",
    "    while not q.empty():\n",
    "        current_node = q.get()\n",
    "        print(\"Enter number of children for \",current_node.data)\n",
    "        numChildren = int(input())\n",
    "        for i in range(numChildren):\n",
    "            print(\"Enter next child for \", current_node.data)\n",
    "            childData = int(input())\n",
    "            child = TreeNode(childData)\n",
    "            current_node.children.append(child)\n",
    "            q.put(child)\n",
    "        \n",
    "\n",
    "    "
   ]
  },
  {
   "cell_type": "code",
   "execution_count": null,
   "metadata": {},
   "outputs": [],
   "source": [
    "def printLevelWise(root):\n",
    "    if not root:\n",
    "        return \n",
    "    \n",
    "    q = queue.Queue()\n",
    "    q.put(root)\n",
    "    while not q.empty():\n",
    "        current_node = q.get()\n",
    "        print(current_node.data,end=\":\")\n",
    "        for child in current_node.children:\n",
    "            if child != current_node.children[-1]:\n",
    "                print(child.data,end=\",\")\n",
    "            else:\n",
    "                print(child.data,end=\"\")\n",
    "            q.put(child)\n",
    "        print()"
   ]
  },
  {
   "cell_type": "markdown",
   "metadata": {},
   "source": [
    "# Check For x in Tree"
   ]
  },
  {
   "cell_type": "code",
   "execution_count": null,
   "metadata": {},
   "outputs": [],
   "source": [
    "def containsX(tree, x):\n",
    "    if not tree:\n",
    "        return False\n",
    "    \n",
    "    if tree.data == x:\n",
    "        return True\n",
    "    \n",
    "    for child in tree.children:\n",
    "        res = containsX(child,x)\n",
    "        if res:\n",
    "            return True\n",
    "\n",
    "    return False"
   ]
  },
  {
   "cell_type": "markdown",
   "metadata": {},
   "source": [
    "# Count Leaf Nodes"
   ]
  },
  {
   "cell_type": "code",
   "execution_count": null,
   "metadata": {},
   "outputs": [],
   "source": [
    "def leafNodeCount(tree):\n",
    "    if not tree:\n",
    "        return 0\n",
    "    \n",
    "    if len(tree.children) == 0:\n",
    "        return 1\n",
    "    res = 0\n",
    "\n",
    "    for child in tree.children:\n",
    "        res += leafNodeCount(child)\n",
    "    \n",
    "    return res"
   ]
  },
  {
   "cell_type": "markdown",
   "metadata": {},
   "source": [
    "# Structurally Identical"
   ]
  },
  {
   "cell_type": "code",
   "execution_count": 27,
   "metadata": {},
   "outputs": [
    {
     "name": "stdout",
     "output_type": "stream",
     "text": [
      "1 0\n",
      "2 9\n",
      "3 8\n",
      "4 7\n",
      "5 6\n"
     ]
    }
   ],
   "source": [
    "def isIdentical(tree1, tree2):\n",
    "    if (tree1 and not tree2) or (tree2 and not tree1):\n",
    "        return False\n",
    "    \n",
    "    if tree1.data != tree2.data or len(tree1.children) != len(tree2.children):\n",
    "        return False\n",
    "    \n",
    "    for child1,child2 in zip(tree1.children, tree2.children):\n",
    "        res = isIdentical(child1,child2)\n",
    "        if not res:\n",
    "            return res\n",
    "        \n",
    "    return True"
   ]
  },
  {
   "cell_type": "markdown",
   "metadata": {},
   "source": [
    "# Next Larger"
   ]
  },
  {
   "cell_type": "code",
   "execution_count": null,
   "metadata": {},
   "outputs": [],
   "source": [
    "def nextLargest(tree, n):\n",
    "    if not tree:\n",
    "        return None\n",
    "    \n",
    "    if tree.data > n:\n",
    "        return tree.data\n",
    "    \n",
    "    multiple = []\n",
    "    for child in tree.children:\n",
    "        res = nextLargest(child,n)\n",
    "        if res:\n",
    "            multiple.append(res)\n",
    "\n",
    "    if multiple:\n",
    "        return min(multiple)\n",
    "\n",
    "    return None"
   ]
  },
  {
   "cell_type": "markdown",
   "metadata": {},
   "source": [
    "# Replace with depth"
   ]
  },
  {
   "cell_type": "code",
   "execution_count": null,
   "metadata": {},
   "outputs": [],
   "source": [
    "def replacewithDepth(tree,level = 0):\n",
    "    if not tree:\n",
    "        return \n",
    "    \n",
    "    tree.data = level\n",
    "\n",
    "    for child in tree.children:\n",
    "        replacewithDepth(child,level+1)"
   ]
  },
  {
   "cell_type": "markdown",
   "metadata": {},
   "source": [
    "# Node with Maximum Child Sum"
   ]
  },
  {
   "cell_type": "code",
   "execution_count": null,
   "metadata": {},
   "outputs": [],
   "source": [
    "def childSum(tree):\n",
    "    if not tree:\n",
    "        return 0\n",
    "    \n",
    "    sum = tree.data\n",
    "    for child in tree.children:\n",
    "        sum += child.data\n",
    "    \n",
    "    return sum\n",
    "\n",
    "\n",
    "def maxSumNode(tree):\n",
    "    if not tree:\n",
    "        return -1,None\n",
    "    \n",
    "    max_node = tree\n",
    "    maxi = childSum(tree)\n",
    "    for child in tree.children:\n",
    "        cSum,Node = maxSumNode(child)\n",
    "        if cSum > maxi:\n",
    "            maxi = cSum\n",
    "            max_node = Node\n",
    "    return maxi,max_node"
   ]
  }
 ],
 "metadata": {
  "kernelspec": {
   "display_name": "Python 3.9.5 64-bit",
   "name": "python395jvsc74a57bd0e7370f93d1d0cde622a1f8e1c04877d8463912d04d973331ad4851f04de6915a"
  },
  "language_info": {
   "name": "python",
   "version": ""
  },
  "metadata": {
   "interpreter": {
    "hash": "e7370f93d1d0cde622a1f8e1c04877d8463912d04d973331ad4851f04de6915a"
   }
  },
  "orig_nbformat": 2
 },
 "nbformat": 4,
 "nbformat_minor": 2
}