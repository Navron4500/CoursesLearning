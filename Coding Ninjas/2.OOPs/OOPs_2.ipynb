{
 "metadata": {
  "language_info": {
   "codemirror_mode": {
    "name": "ipython",
    "version": 3
   },
   "file_extension": ".py",
   "mimetype": "text/x-python",
   "name": "python",
   "nbconvert_exporter": "python",
   "pygments_lexer": "ipython3",
   "version": "3.9.5"
  },
  "orig_nbformat": 2,
  "kernelspec": {
   "name": "python395jvsc74a57bd0e7370f93d1d0cde622a1f8e1c04877d8463912d04d973331ad4851f04de6915a",
   "display_name": "Python 3.9.5 64-bit"
  },
  "metadata": {
   "interpreter": {
    "hash": "e7370f93d1d0cde622a1f8e1c04877d8463912d04d973331ad4851f04de6915a"
   }
  }
 },
 "nbformat": 4,
 "nbformat_minor": 2,
 "cells": [
  {
   "source": [
    "# Inheritance"
   ],
   "cell_type": "markdown",
   "metadata": {}
  },
  {
   "source": [
    "## Private and Inheritance"
   ],
   "cell_type": "markdown",
   "metadata": {}
  },
  {
   "cell_type": "code",
   "execution_count": 7,
   "metadata": {},
   "outputs": [
    {
     "output_type": "stream",
     "name": "stdout",
     "text": [
      "Color:  black\nMaxSpeed:  25\nNumGears:  4\nIsConvertible:  False\n"
     ]
    }
   ],
   "source": [
    "class Vehicle:\n",
    "    def __init__(self,color, maxspeed):\n",
    "        self.color = color\n",
    "        self.__maxspeed = maxspeed # Private Var\n",
    "\n",
    "    def getMaxSpeed(self): # For inherited class to get maxSpeed\n",
    "        return self.__maxspeed\n",
    "    \n",
    "    def setMaxSpeed(self,maxspeed): # For inherited Class to set maxSpeed\n",
    "        self.__maxspeed = maxspeed\n",
    "\n",
    "class Car(Vehicle):\n",
    "    def __init__(self, color, maxspeed, numGears, isConvertible):\n",
    "        super().__init__(color,maxspeed)\n",
    "        super().setMaxSpeed(maxspeed) # Setting maxspeed from inherited class\n",
    "        self.numGears = numGears\n",
    "        self.isConvertible = isConvertible\n",
    "\n",
    "    def printCar(self):\n",
    "        print(\"Color: \", self.color)\n",
    "        print(\"MaxSpeed: \", self.getMaxSpeed()) # Getting maxSpeed from ingerited class\n",
    "        print(\"NumGears: \", self.numGears)\n",
    "        print(\"IsConvertible: \", self.isConvertible)\n",
    "\n",
    "c = Car(\"black\", 25, 4, False)\n",
    "c.printCar()"
   ]
  },
  {
   "source": [
    "# Operator Overload"
   ],
   "cell_type": "markdown",
   "metadata": {}
  },
  {
   "cell_type": "code",
   "execution_count": 1,
   "metadata": {},
   "outputs": [
    {
     "output_type": "stream",
     "name": "stdout",
     "text": [
      "This point is at (4,6)\n"
     ]
    }
   ],
   "source": [
    "class Point:\n",
    "    def __init__(self,x,y):\n",
    "        self.x = x\n",
    "        self.y = y\n",
    "\n",
    "    def __add__(self, point_obj):\n",
    "        return Point(self.x + point_obj.x, self.y + point_obj.y)\n",
    "\n",
    "    def __str__(self):\n",
    "        return \"This point is at (\" + str(self.x) + \",\" + str(self.y) + \")\"\n",
    "\n",
    "\n",
    "p1 = Point(1,2)\n",
    "p2 = Point(3,4)\n",
    "p3 = p1 + p2\n",
    "print(p3)"
   ]
  }
 ]
}