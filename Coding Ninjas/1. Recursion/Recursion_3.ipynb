{
 "metadata": {
  "language_info": {
   "codemirror_mode": {
    "name": "ipython",
    "version": 3
   },
   "file_extension": ".py",
   "mimetype": "text/x-python",
   "name": "python",
   "nbconvert_exporter": "python",
   "pygments_lexer": "ipython3",
   "version": "3.9.5"
  },
  "orig_nbformat": 2,
  "kernelspec": {
   "name": "python395jvsc74a57bd0e7370f93d1d0cde622a1f8e1c04877d8463912d04d973331ad4851f04de6915a",
   "display_name": "Python 3.9.5 64-bit"
  },
  "metadata": {
   "interpreter": {
    "hash": "e7370f93d1d0cde622a1f8e1c04877d8463912d04d973331ad4851f04de6915a"
   }
  }
 },
 "nbformat": 4,
 "nbformat_minor": 2,
 "cells": [
  {
   "source": [
    "# Palindrome"
   ],
   "cell_type": "markdown",
   "metadata": {}
  },
  {
   "cell_type": "code",
   "execution_count": null,
   "metadata": {},
   "outputs": [],
   "source": [
    "def checkPalindrome(s,si,ei):\n",
    "    if si >= ei:\n",
    "        return True\n",
    "    \n",
    "    if s[si] == s[ei]:\n",
    "        res = checkPalindrome(s,si+1,ei-1)\n",
    "        if res:\n",
    "            return True\n",
    "        else:\n",
    "            return False\n",
    "    else:\n",
    "        return False\n"
   ]
  },
  {
   "cell_type": "code",
   "execution_count": null,
   "metadata": {},
   "outputs": [],
   "source": [
    "s = 'naman'\n",
    "print(checkPalindrome(s,0,len(s)-1))"
   ]
  },
  {
   "source": [
    "# Sum of integers"
   ],
   "cell_type": "markdown",
   "metadata": {}
  },
  {
   "cell_type": "code",
   "execution_count": null,
   "metadata": {},
   "outputs": [],
   "source": [
    "def summation(ip,op):\n",
    "    if ip == 0:\n",
    "        return op\n",
    "    op += ip%10\n",
    "    ip //= 10\n",
    "    res = summation(ip,op)\n",
    "    return res\n",
    "\n",
    "ip = 1099    \n",
    "print(summation(ip,0))\n"
   ]
  },
  {
   "cell_type": "code",
   "execution_count": null,
   "metadata": {},
   "outputs": [],
   "source": [
    "ip = 12345\n",
    "#ip //= 10\n",
    "#print(ip)\n"
   ]
  },
  {
   "source": [
    "# Multiplication"
   ],
   "cell_type": "markdown",
   "metadata": {}
  },
  {
   "cell_type": "code",
   "execution_count": null,
   "metadata": {},
   "outputs": [],
   "source": [
    "def multiply(x,y):\n",
    "    if y>x:\n",
    "        return(multiply(y,x))\n",
    "    elif y != 0:\n",
    "        return (x+multiply(x,y-1))\n",
    "    else:\n",
    "        return 0\n",
    "\n",
    "print(multiply(2,3))"
   ]
  },
  {
   "source": [
    "# Check Zeros from string"
   ],
   "cell_type": "markdown",
   "metadata": {}
  },
  {
   "source": [
    "## Head 2"
   ],
   "cell_type": "markdown",
   "metadata": {}
  },
  {
   "cell_type": "code",
   "execution_count": null,
   "metadata": {},
   "outputs": [],
   "source": [
    "def check_zero(ip,op=0):\n",
    "    if ip == None:\n",
    "        return 0\n",
    "    temp = ip%10\n",
    "    ip //= 10\n",
    "    if ip == 0:\n",
    "        ip = None\n",
    "    res = check_zero(ip,op)\n",
    "    if temp == 0:\n",
    "        return res+1\n",
    "    else:   \n",
    "        return res\n",
    "\n",
    "ip = 10204\n",
    "\n",
    "print(check_zero(ip))\n",
    "\n",
    "\n"
   ]
  },
  {
   "source": [
    "# String to integer"
   ],
   "cell_type": "markdown",
   "metadata": {}
  },
  {
   "cell_type": "code",
   "execution_count": null,
   "metadata": {},
   "outputs": [],
   "source": [
    "st = \"12567\"\n",
    "print(int(st))"
   ]
  },
  {
   "cell_type": "code",
   "execution_count": null,
   "metadata": {},
   "outputs": [],
   "source": [
    "def str_to_int(a):\n",
    "    if len(a) == 0:\n",
    "        return 0\n",
    "    res = str_to_int(a[1:])\n",
    "    return res + (int(a[0]) * 10**(len(a)-1))\n",
    "\n",
    "res = str_to_int(st)\n",
    "print(res)"
   ]
  },
  {
   "cell_type": "code",
   "execution_count": null,
   "metadata": {},
   "outputs": [],
   "source": [
    "print(str_to_int(st,0))"
   ]
  },
  {
   "source": [
    "# Pair Start"
   ],
   "cell_type": "markdown",
   "metadata": {}
  },
  {
   "cell_type": "code",
   "execution_count": null,
   "metadata": {},
   "outputs": [],
   "source": [
    "def pairStar(s):\n",
    "    if len(s) <= 1:\n",
    "        return s\n",
    "    \n",
    "    if s[0] == s[1]:\n",
    "        part = s[0] + \"*\"\n",
    "        res = pairStar(s[1:])\n",
    "        return part + res\n",
    "\n",
    "    res = pairStar(s[1:])\n",
    "    return s[0] + res\n",
    "\n",
    "t1 = \"hello\"\n",
    "t2 = \"aaaa\"\n",
    "print(pairStar(t2))"
   ]
  },
  {
   "source": [
    "# Check AB"
   ],
   "cell_type": "markdown",
   "metadata": {}
  },
  {
   "cell_type": "code",
   "execution_count": null,
   "metadata": {},
   "outputs": [],
   "source": [
    "def checkAB(s,si=0):\n",
    "    if si >=  len(s)-1:\n",
    "        return True\n",
    "\n",
    "    if s[0] != 'a':\n",
    "        return False\n",
    "\n",
    "    if s[si] == 'a' and (s[si+1] == 'a' or (s[si+1] == 'b' and s[si+2] == 'b')):\n",
    "        if s[si+1] == \"a\":\n",
    "            res = checkAB(s,si+1)\n",
    "        \n",
    "        elif s[si+1] == 'b' and s[si+2] == 'b':\n",
    "            res = checkAB(s,si+2)\n",
    "\n",
    "        if res:\n",
    "            return True\n",
    "        return False\n",
    "\n",
    "    if s[si] == 'b' and s[si+1] == 'a':  \n",
    "        res = checkAB(s,si+1)\n",
    "        if res:\n",
    "            return True\n",
    "        return False\n",
    "\n",
    "    return False\n",
    "\n",
    "t1 = \"abbab\"\n",
    "t2 = \"abababa\"\n",
    "t3 = \"babba\"\n",
    "t4 = \"abbaabbab\"\n",
    "\n",
    "print(checkAB(t1))\n",
    "\n"
   ]
  },
  {
   "source": [
    "## Corrected"
   ],
   "cell_type": "markdown",
   "metadata": {}
  },
  {
   "cell_type": "code",
   "execution_count": null,
   "metadata": {},
   "outputs": [],
   "source": [
    "def checkAB(s,si=0):\n",
    "    if si >=  len(s)-1:\n",
    "        return True\n",
    "\n",
    "    if s[0] != 'a':\n",
    "        return False\n",
    "\n",
    "    if s[si] == 'a': #and (s[si+1] == 'a' or (s[si+1] == 'b' and s[si+2] == 'b')):\n",
    "        if s[si+1] == \"a\":\n",
    "            res = checkAB(s,si+1)\n",
    "            if res:\n",
    "                return True\n",
    "            return False\n",
    "        \n",
    "        elif s[si+1:si+3] == 'bb':\n",
    "            res = checkAB(s,si+2)\n",
    "            if res:\n",
    "                return True\n",
    "            return False    \n",
    "\n",
    "        \"\"\"if res:\n",
    "            return True\n",
    "        return False\"\"\"\n",
    "\n",
    "    elif s[si] == 'b': #and s[si+1] == 'a':  \n",
    "        if s[si+1] == 'a':  \n",
    "            res = checkAB(s,si+1)\n",
    "            if res:\n",
    "                return True\n",
    "            return False\n",
    "\n",
    "    return False\n",
    "\n",
    "t1 = \"abba\"\n",
    "t2 = \"abababa\"\n",
    "t3 = \"abbaabb\"\n",
    "t4 = \"abbaabba\"\n",
    "\n",
    "print(checkAB(t3))"
   ]
  },
  {
   "source": [
    "# StairCase"
   ],
   "cell_type": "markdown",
   "metadata": {}
  },
  {
   "cell_type": "code",
   "execution_count": null,
   "metadata": {},
   "outputs": [],
   "source": [
    "def stairCase(n):\n",
    "    #Base Cases\n",
    "    if n<0:\n",
    "        return 0\n",
    "    elif n == 0:\n",
    "        return 1\n",
    "\n",
    "    res1 = 0\n",
    "    res2 = 0\n",
    "    res3 = 0\n",
    "    if (n-1)>=0:\n",
    "        res1 = stairCase(n-1)\n",
    "    if (n-2)>=0:\n",
    "        res2 = stairCase(n-2)\n",
    "    if (n-3)>=0:\n",
    "        res3 = stairCase(n-3)\n",
    "\n",
    "    return res1+res2+res3\n",
    "\n",
    "t1 = 4\n",
    "t2 = 5\n",
    "print(stairCase(t2))"
   ]
  },
  {
   "cell_type": "code",
   "execution_count": null,
   "metadata": {},
   "outputs": [],
   "source": [
    "def search(hay, needle):\n",
    "    if needle not in hay:\n",
    "        return -1\n",
    "    else:\n",
    "        idx = 0\n",
    "        if hay == needle:\n",
    "            return 0\n",
    "        elif len(needle) > 1:\n",
    "            while idx<len(hay):\n",
    "                i = 0\n",
    "                if hay[idx] == needle[i] and hay[idx+1] == needle[i+1]: \n",
    "                    index = idx\n",
    "                    idx += 2\n",
    "                    i += 2\n",
    "                    while i<len(needle):\n",
    "                        if hay[idx] != needle[i]:\n",
    "                            idx = index\n",
    "                            break\n",
    "                        idx += 1\n",
    "                        i += 1\n",
    "                    else:\n",
    "                        return index\n",
    "                idx += 1 #Returning idx to index\n",
    "        else:\n",
    "            for i,h in enumerate(hay):\n",
    "                if h==needle:\n",
    "                    return i\n",
    "\n",
    "t1 = \"abc\"\n",
    "t2 = \"\"\n",
    "target2 = \"\"\n",
    "target1 = 'abc'\n",
    "print(search(t1,target1))"
   ]
  },
  {
   "cell_type": "code",
   "execution_count": null,
   "metadata": {},
   "outputs": [],
   "source": [
    "def searchB(haystack,needle):\n",
    "        ln = len(needle)\n",
    "        for i in range(len(haystack)-ln):\n",
    "            if haystack[i:i+ln] == needle:\n",
    "                return i\n",
    "        return -1\n",
    "\n",
    "\n",
    "t1 = \"abcaaec\"\n",
    "t2 = \"\"\n",
    "target2 = \"\"\n",
    "target1 = 'd'\n",
    "print(search(t1,target1))"
   ]
  },
  {
   "cell_type": "code",
   "execution_count": 4,
   "metadata": {},
   "outputs": [
    {
     "output_type": "stream",
     "name": "stdout",
     "text": [
      "1\n"
     ]
    }
   ],
   "source": [
    "import math\n",
    "def fun(s):\n",
    "    if s == 0:\n",
    "        return 1\n",
    "    else:\n",
    "        n = math.factorial(s)\n",
    "        i = 1\n",
    "        zero = 0\n",
    "        while n%10 == 0:\n",
    "            zero += 1\n",
    "            n //= 10\n",
    "\n",
    "        return zero\n",
    "\n",
    "s = 2432902008176640000\n",
    "#s = 10200\n",
    "# print(fun(0 ))\n",
    "print(math.factorial(0))\n"
   ]
  },
  {
   "cell_type": "code",
   "execution_count": 7,
   "metadata": {},
   "outputs": [
    {
     "output_type": "stream",
     "name": "stdout",
     "text": [
      "20\n"
     ]
    }
   ],
   "source": [
    "def a():\n",
    "    for i in range(10):\n",
    "        a = 20\n",
    "        continue\n",
    "    return a\n"
   ]
  },
  {
   "cell_type": "code",
   "execution_count": 4,
   "metadata": {},
   "outputs": [
    {
     "output_type": "stream",
     "name": "stdout",
     "text": [
      "[2, 1, 2, 3, 0, 0, 0]\n"
     ]
    }
   ],
   "source": [
    "def merge(num1,m,num2,n):\n",
    "    i = 0\n",
    "    j = 0\n",
    "    while i<m :\n",
    "        if num1[i]>=num2[j]:\n",
    "            num1.insert(i,num2[j])\n",
    "            j += 1\n",
    "\n",
    "\n",
    "        i += 1\n",
    "\n",
    "\n",
    "nums1 = [1,3,0,0,0]\n",
    "m = 3 \n",
    "nums2 = [2,5,6] \n",
    "n = 3"
   ]
  }
 ]
}