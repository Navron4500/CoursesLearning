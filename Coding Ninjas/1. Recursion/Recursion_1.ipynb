{
 "metadata": {
  "language_info": {
   "codemirror_mode": {
    "name": "ipython",
    "version": 3
   },
   "file_extension": ".py",
   "mimetype": "text/x-python",
   "name": "python",
   "nbconvert_exporter": "python",
   "pygments_lexer": "ipython3",
   "version": "3.9.5"
  },
  "orig_nbformat": 2,
  "kernelspec": {
   "name": "python395jvsc74a57bd029a9750479b000d02b465ba3e1a39fd7a8610c5d519bdf5bcd8f74ead63a59d2",
   "display_name": "Python 3.9.5 64-bit (windows store)"
  },
  "metadata": {
   "interpreter": {
    "hash": "29a9750479b000d02b465ba3e1a39fd7a8610c5d519bdf5bcd8f74ead63a59d2"
   }
  }
 },
 "nbformat": 4,
 "nbformat_minor": 2,
 "cells": [
  {
   "cell_type": "code",
   "execution_count": null,
   "metadata": {},
   "outputs": [],
   "source": [
    "x,n = map(int,input(\"two value: \").split())\n",
    "res = 1\n",
    "for i in range(n):\n",
    "    res = res*x\n",
    "print(res)"
   ]
  },
  {
   "cell_type": "code",
   "execution_count": null,
   "metadata": {},
   "outputs": [],
   "source": [
    "def print_1_to_n(n):\n",
    "    if n == 0:\n",
    "        return\n",
    "    print_1_to_n(n-1)\n",
    "    print(n)\n",
    "    return\n",
    "    \n",
    "def print_n_to_1(n):\n",
    "    if n == 0:\n",
    "        return\n",
    "    print(n)\n",
    "    print_n_to_1(n-1)"
   ]
  },
  {
   "cell_type": "code",
   "execution_count": null,
   "metadata": {},
   "outputs": [],
   "source": [
    "def fibbo(n):\n",
    "    if n == 1 or n==2:\n",
    "        return 1\n",
    "    output = fibbo(n-1) + fibbo(n-2)\n",
    "    return output"
   ]
  },
  {
   "cell_type": "code",
   "execution_count": null,
   "metadata": {},
   "outputs": [],
   "source": [
    "n = int(input(\"Enter Input: \"))\n",
    "print(fibbo(n))"
   ]
  },
  {
   "cell_type": "code",
   "execution_count": null,
   "metadata": {},
   "outputs": [],
   "source": [
    "n = int(input(\"Enter Input: \"))\n",
    "print_1_to_n(n)\n",
    "print_n_to_1(n)\n",
    "print(fibbo(n))"
   ]
  },
  {
   "cell_type": "code",
   "execution_count": null,
   "metadata": {},
   "outputs": [],
   "source": [
    "# Sum of Array\n",
    "def sumArray(arr):\n",
    "    l = len(arr)\n",
    "    if l == 1:\n",
    "        return arr[l-1]\n",
    "    toBeAdded = sumArray(arr[:-1])\n",
    "    output = toBeAdded + arr[l-1]\n",
    "    return output"
   ]
  },
  {
   "cell_type": "code",
   "execution_count": null,
   "metadata": {},
   "outputs": [],
   "source": [
    "arr = [1,2,3,4,5]\n",
    "print(arr[:-1])\n",
    "print(sumArray(arr))"
   ]
  },
  {
   "source": [
    "# Finding Number in Array"
   ],
   "cell_type": "markdown",
   "metadata": {}
  },
  {
   "cell_type": "code",
   "execution_count": null,
   "metadata": {},
   "outputs": [],
   "source": [
    "def checkNumber(arr, x):\n",
    "    l = len(arr)\n",
    "    if l == 0:\n",
    "        return False\n",
    "    found = checkNumber(arr[:-1], x)\n",
    "    if found or arr[l-1] == x:\n",
    "        return True\n",
    "    else:   \n",
    "        return False"
   ]
  },
  {
   "cell_type": "code",
   "execution_count": null,
   "metadata": {},
   "outputs": [],
   "source": [
    "ar = [1,2,3,4,5]\n",
    "l = len(ar)\n",
    "for i in range(10):\n",
    "    print(i, end=\" \")\n",
    "    print(checkNumber(ar,i))"
   ]
  },
  {
   "cell_type": "code",
   "execution_count": null,
   "metadata": {},
   "outputs": [],
   "source": [
    "print(l)\n",
    "print(ar[l-1])\n",
    "print(ar[:-1])"
   ]
  },
  {
   "source": [
    "# Is Sorted? Using Recursion"
   ],
   "cell_type": "markdown",
   "metadata": {}
  },
  {
   "cell_type": "code",
   "execution_count": null,
   "metadata": {},
   "outputs": [],
   "source": []
  },
  {
   "cell_type": "code",
   "execution_count": 36,
   "metadata": {},
   "outputs": [],
   "source": [
    "def isSorted(arr, s):\n",
    "    l = len(arr)\n",
    "    if s == l-1:\n",
    "        return True\n",
    "    \n",
    "    if arr[s] > arr[s+1]:\n",
    "        return False\n",
    "\n",
    "    isSmallerPart = isSorted(arr, s+1)\n",
    "    return isSmallerPart\n",
    "\n",
    "res = isSorted(a,0)"
   ]
  },
  {
   "cell_type": "code",
   "execution_count": 37,
   "metadata": {},
   "outputs": [
    {
     "output_type": "stream",
     "name": "stdout",
     "text": [
      "True\n"
     ]
    }
   ],
   "source": [
    "a = [1, 2, 3, 5, 6]\n",
    "b = [1, 2, 5, 6, 1, 3]\n",
    "print(res)"
   ]
  },
  {
   "source": [
    "# Finding First Occurance"
   ],
   "cell_type": "markdown",
   "metadata": {}
  },
  {
   "source": [
    "## Using Starting point method"
   ],
   "cell_type": "markdown",
   "metadata": {}
  },
  {
   "cell_type": "code",
   "execution_count": 60,
   "metadata": {},
   "outputs": [],
   "source": [
    "def firstindex(a, x, s=0):\n",
    "    l = len(a)\n",
    "    if s == l:\n",
    "        return -1\n",
    "    if a[s] == x:\n",
    "        return s\n",
    "    return firstindex(a, x, s+1)\n"
   ]
  },
  {
   "source": [
    "## Using Array Copy method"
   ],
   "cell_type": "markdown",
   "metadata": {}
  },
  {
   "cell_type": "code",
   "execution_count": 61,
   "metadata": {},
   "outputs": [],
   "source": [
    "def firstindexCopy(a, x):\n",
    "    l = len(a)\n",
    "    if l == 0:\n",
    "        return -1\n",
    "    if a[0] == x:\n",
    "        return 0\n",
    "    output = firstindexCopy(a[1:],x)\n",
    "    if output == -1:\n",
    "        return output\n",
    "    else:\n",
    "        return output+1\n"
   ]
  },
  {
   "cell_type": "code",
   "execution_count": 62,
   "metadata": {},
   "outputs": [
    {
     "output_type": "stream",
     "name": "stdout",
     "text": [
      "5\n5\n"
     ]
    }
   ],
   "source": [
    "a = [1, 2, 3, 4, 5, 6, 4]\n",
    "b = [1, 2, 3, 5, 6, 7]\n",
    "print(firstindex(b,7))\n",
    "print(firstindexCopy(b,7))"
   ]
  },
  {
   "cell_type": "code",
   "execution_count": 51,
   "metadata": {},
   "outputs": [
    {
     "output_type": "stream",
     "name": "stdout",
     "text": [
      "[2, 3, 4, 5, 6, 4]\n"
     ]
    }
   ],
   "source": [
    "print(a[1:])"
   ]
  },
  {
   "source": [
    "# Finding Last occurance"
   ],
   "cell_type": "markdown",
   "metadata": {}
  },
  {
   "source": [
    "## Using BackChecking"
   ],
   "cell_type": "markdown",
   "metadata": {}
  },
  {
   "cell_type": "code",
   "execution_count": 63,
   "metadata": {},
   "outputs": [],
   "source": [
    "def lastindx(a,x):\n",
    "    l = len(a)\n",
    "    if l == 0:\n",
    "        return -1\n",
    "    if a[l-1]==x:\n",
    "        return l-1\n",
    "    output = lastindx(a[:-1],x)\n",
    "    return output"
   ]
  },
  {
   "source": [
    "## Using FrontChecking"
   ],
   "cell_type": "markdown",
   "metadata": {}
  },
  {
   "cell_type": "code",
   "execution_count": 2,
   "metadata": {},
   "outputs": [],
   "source": [
    "def lastindxForward(a, x):\n",
    "    l = len(a)\n",
    "    if l == 0:\n",
    "        return -1\n",
    "    output = lastindxForward(a[1:],x)\n",
    "    if output == -1:\n",
    "        if a[0] == x:\n",
    "            return 0\n",
    "        else:\n",
    "            return -1\n",
    "    else:\n",
    "        return output+1"
   ]
  },
  {
   "cell_type": "code",
   "execution_count": 5,
   "metadata": {},
   "outputs": [
    {
     "output_type": "stream",
     "name": "stdout",
     "text": [
      "8\n-1\n"
     ]
    }
   ],
   "source": [
    "\n",
    "a = [1, 2, 3, 4, 2, 4, 5, 2]\n",
    "print(len(a))\n",
    "#print(lastindx(a,1))\n",
    "print(lastindxForward(a,10))"
   ]
  },
  {
   "cell_type": "code",
   "execution_count": 1,
   "metadata": {},
   "outputs": [
    {
     "output_type": "stream",
     "name": "stdout",
     "text": [
      "3\n"
     ]
    }
   ],
   "source": [
    "def lastindxB(a, x):\n",
    "    l = len(a)\n",
    "    if l == 0:\n",
    "        return -1\n",
    "    output = lastindxForward(a[1:],x)\n",
    "    if a[0] == x and output < 0:\n",
    "        return 0\n",
    "    if output == -1:\n",
    "        return output\n",
    "    else:\n",
    "        return output+1\n",
    "    \n",
    "n = int(input())\n",
    "arr = [int(i) for i in input().split()]\n",
    "x = int(input())\n",
    "print(lastindxForward(arr,x))"
   ]
  },
  {
   "cell_type": "code",
   "execution_count": 3,
   "metadata": {},
   "outputs": [],
   "source": [
    "def lastindxForwardB(a, x):\n",
    "    l = len(a)\n",
    "    if l == 0:\n",
    "        return -1\n",
    "    output = lastindxForwardB(a[1:],x)\n",
    "    if output != -1:\n",
    "        return output+1\n",
    "    else:\n",
    "        if a[0] == x:\n",
    "            return 0\n",
    "        else:\n",
    "            return -1"
   ]
  },
  {
   "cell_type": "code",
   "execution_count": 6,
   "metadata": {},
   "outputs": [
    {
     "output_type": "stream",
     "name": "stdout",
     "text": [
      "9\n7\n"
     ]
    }
   ],
   "source": [
    "a = [1,2,3,4,3,2,4,1,10]\n",
    "print(len(a))\n",
    "print(lastindxForwardB(a,1))"
   ]
  },
  {
   "cell_type": "code",
   "execution_count": null,
   "metadata": {},
   "outputs": [],
   "source": []
  }
 ]
}