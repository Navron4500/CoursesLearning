{
 "cells": [
  {
   "cell_type": "raw",
   "metadata": {},
   "source": [
    "class BST:\n",
    "    \n",
    "    def __init__(self) -> None:\n",
    "        self.root = None\n",
    "        self.numNodes = 0\n",
    "        \n",
    "\n",
    "    def isPresent(self,data):\n",
    "        return False\n",
    "    \n",
    "    def insert(self,data):\n",
    "        return\n",
    "\n",
    "    def deleteData(self,data):\n",
    "        return True\n",
    "\n",
    "    def count(self,data):\n",
    "        return 0\n",
    "\n",
    "    def printTree(self):\n",
    "    "
   ]
  },
  {
   "cell_type": "raw",
   "metadata": {},
   "source": [
    "b = BST()\n",
    "b.insert(10)\n",
    "b.insert(1)\n",
    "b.insert(5)\n",
    "print(b.isPresent(10))\n",
    "print(b.isPresent(12))\n",
    "print(b.isPresent(15))\n",
    "print(b.deleteData(1))\n",
    "print(b.isPresent(1))\n",
    "print(b.count())\n",
    "b.printTree()\n"
   ]
  },
  {
   "cell_type": "markdown",
   "metadata": {},
   "source": [
    "# Root to Node Path"
   ]
  },
  {
   "cell_type": "raw",
   "metadata": {},
   "source": [
    "def nodeToRootPath(root, value):\n",
    "    if not root:\n",
    "        return None\n",
    "    if root.data == value:\n",
    "        return [root.data]\n",
    "    \n",
    "    leftSearch = nodeToRootPath(root.left,value)\n",
    "    if leftSearch:\n",
    "        leftSearch.append(root.data)\n",
    "        return leftSearch\n",
    "    \n",
    "    rightSearch =  nodeToRootPath(root.right,value)\n",
    "    if rightSearch:\n",
    "        rightSearch.append(root.data)\n",
    "        return rightSearch\n",
    "\n",
    "    return None"
   ]
  }
 ],
 "metadata": {
  "kernelspec": {
   "display_name": "Python 3.9.5 64-bit",
   "name": "python395jvsc74a57bd0e7370f93d1d0cde622a1f8e1c04877d8463912d04d973331ad4851f04de6915a"
  },
  "language_info": {
   "name": "python",
   "version": ""
  },
  "metadata": {
   "interpreter": {
    "hash": "e7370f93d1d0cde622a1f8e1c04877d8463912d04d973331ad4851f04de6915a"
   }
  },
  "orig_nbformat": 2
 },
 "nbformat": 4,
 "nbformat_minor": 2
}