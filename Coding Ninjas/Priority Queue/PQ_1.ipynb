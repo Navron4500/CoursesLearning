{
 "cells": [
  {
   "cell_type": "code",
   "execution_count": null,
   "source": [
    "# Min Priority Queue\r\n",
    "class PriorityQueueNode:\r\n",
    "    def __init__(self,ele,priority):\r\n",
    "        self.ele = ele\r\n",
    "        self.priority = priority\r\n",
    "        \r\n",
    "class PriorityQueue:\r\n",
    "    def __init__(self):\r\n",
    "        self.pq = []\r\n",
    "    \r\n",
    "    def isEmpty(self):\r\n",
    "        return self.getSize() == 0\r\n",
    "    \r\n",
    "    def getSize(self):\r\n",
    "        return len(self.pq)\r\n",
    "\r\n",
    "    def getMin(self):\r\n",
    "        if self.isEmpty():\r\n",
    "            return None\r\n",
    "        return self.pq[0].ele\r\n",
    "    \r\n",
    "    def __percolateUp(self):\r\n",
    "        childIndex = self.getSize() - 1\r\n",
    "        while childIndex > 0:\r\n",
    "            parentIndex = (childIndex-1)//2\r\n",
    "            \r\n",
    "            if self.pq[parentIndex].priority > self.pq[childIndex].priority:\r\n",
    "                self.pq[parentIndex],self.pq[childIndex] = self.pq[childIndex],self.pq[parentIndex]\r\n",
    "                childIndex = parentIndex\r\n",
    "            else:\r\n",
    "                break\r\n",
    "        \r\n",
    "    def insert(self,ele,priority):\r\n",
    "        pqNode = PriorityQueueNode(ele,priority)\r\n",
    "        self.pq.append(pqNode)\r\n",
    "        self.__percolateUp()\r\n",
    "        \r\n",
    "    def __percolateDown(self):\r\n",
    "        parentIndex = 0\r\n",
    "        leftChild = 2*parentIndex + 1\r\n",
    "        rightChild = 2*parentIndex + 2\r\n",
    "        \r\n",
    "        while leftChild < self.getSize():\r\n",
    "            minIndex = parentIndex\r\n",
    "            \r\n",
    "            if self.pq[minIndex].priority > self.pq[leftChild].priority:\r\n",
    "                minIndex = leftChild\r\n",
    "            if rightChild < self.getSize() and self.pq[minIndex].priority > self.pq[rightChild].priority:\r\n",
    "                minIndex = rightChild\r\n",
    "            \r\n",
    "            if minIndex == parentIndex:\r\n",
    "                break\r\n",
    "            \r\n",
    "            self.pq[minIndex], self.pq[parentIndex]= self.pq[parentIndex], self.pq[minIndex]\r\n",
    "            parentIndex = minIndex\r\n",
    "            leftChild = 2*parentIndex + 1\r\n",
    "            rightChild = 2*parentIndex + 2\r\n",
    "            \r\n",
    "        \r\n",
    "    def removeMin(self):\r\n",
    "        if self.isEmpty():\r\n",
    "            return None\r\n",
    "        self.pq[-1], self.pq[0] = self.pq[0], self.pq[-1]\r\n",
    "        data = self.pq.pop().ele\r\n",
    "        self.__percolateDown()\r\n",
    "        return data"
   ],
   "outputs": [],
   "metadata": {}
  },
  {
   "cell_type": "code",
   "execution_count": 2,
   "source": [
    "a = [1,2,3,4,5]\r\n",
    "print(a[:-1])"
   ],
   "outputs": [
    {
     "output_type": "stream",
     "name": "stdout",
     "text": [
      "[1, 2, 3, 4]\n"
     ]
    }
   ],
   "metadata": {}
  }
 ],
 "metadata": {
  "orig_nbformat": 4,
  "language_info": {
   "name": "python",
   "version": "3.8.8",
   "mimetype": "text/x-python",
   "codemirror_mode": {
    "name": "ipython",
    "version": 3
   },
   "pygments_lexer": "ipython3",
   "nbconvert_exporter": "python",
   "file_extension": ".py"
  },
  "kernelspec": {
   "name": "python3",
   "display_name": "Python 3.8.8 64-bit ('base': conda)"
  },
  "interpreter": {
   "hash": "1e915f0a29dc84041eaeb02b7b1a21c440e37a87b61d44d5e84a515737dc82bc"
  }
 },
 "nbformat": 4,
 "nbformat_minor": 2
}