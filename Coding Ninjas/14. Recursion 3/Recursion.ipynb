{
 "cells": [
  {
   "cell_type": "code",
   "execution_count": 1,
   "source": [
    "# WORKING ON SMALL OUTPUT FOR CREATING NEW OUTPUT\r\n",
    "def subsequences(string):\r\n",
    "    if len(string) == 0: \r\n",
    "        return [\"\"]\r\n",
    "\r\n",
    "    suboutput = subsequences(string[1:])\r\n",
    "    for i in range(len(suboutput)):\r\n",
    "        op = string[0] +  suboutput[i]\r\n",
    "        suboutput.append(op)\r\n",
    "\r\n",
    "    return suboutput\r\n",
    "\r\n",
    "# WORKING ON SMALL OUTPUT FOR CREATING NEW OUTPUT\r\n",
    "def subsequencesV2(s, soFar = \"\"):\r\n",
    "    if len(s) == 0: \r\n",
    "        print(soFar)\r\n",
    "        return\r\n",
    "\r\n",
    "    subsequencesV2(s[1:],soFar+s[0])\r\n",
    "    subsequencesV2(s[1:],soFar)\r\n",
    "\r\n",
    "\r\n",
    "\r\n",
    "s = \"abc\"\r\n",
    "ans = subsequencesV2(s)\r\n",
    "# print(*ans)"
   ],
   "outputs": [
    {
     "output_type": "stream",
     "name": "stdout",
     "text": [
      "bc\n"
     ]
    }
   ],
   "metadata": {}
  },
  {
   "cell_type": "code",
   "execution_count": null,
   "source": [
    "def keypad(n,d):\r\n",
    "    if n == 0:\r\n",
    "        return [\"\"]\r\n",
    "    \r\n",
    "    smalln = n%10\r\n",
    "    smallip = n//10\r\n",
    "    smallOp = keypad(smallip,d)\r\n",
    "    Op = []\r\n",
    "    for ele in d[smalln]:\r\n",
    "        for i in smallOp:\r\n",
    "            Op.append(i+ele)\r\n",
    "    \r\n",
    "    return Op\r\n",
    "\r\n",
    "def keypadV2(n,d,soFar=\"\"):\r\n",
    "    if n == 0:\r\n",
    "        print(soFar)\r\n",
    "        return\r\n",
    "    \r\n",
    "    ele = d[n%10]\r\n",
    "    \r\n",
    "    for i in range(len(ele)):\r\n",
    "    \tkeypad(n//10,d, ele[i] + soFar)\r\n",
    "\r\n",
    "\r\n",
    "d = {\r\n",
    "    2:[\"a\",\"b\",\"c\"],\r\n",
    "    3:[\"d\",\"e\",\"f\"],\r\n",
    "    4:[\"g\",\"h\",\"i\"],\r\n",
    "    5:[\"j\",\"k\",\"l\"],\r\n",
    "    6:[\"m\",\"n\",\"o\"],\r\n",
    "    7:[\"p\",\"q\",\"r\",\"s\"],\r\n",
    "    8:[\"t\",\"u\",\"v\"],\r\n",
    "    9:[\"w\",\"x\",\"y\",\"z\"]\r\n",
    "}\r\n",
    "\r\n",
    "n = 23\r\n",
    "ans = keypad(n,d)\r\n",
    "print(*ans)"
   ],
   "outputs": [],
   "metadata": {}
  },
  {
   "cell_type": "code",
   "execution_count": 2,
   "source": [
    "def subsets(li):\r\n",
    "    if len(li) == 1:\r\n",
    "        return [[],[li[0]]] # [[],12,]\r\n",
    "    \r\n",
    "    res = subsets(li[1:])\r\n",
    "    # res.append(li[0])\r\n",
    "    for ele in range(len(res)):\r\n",
    "        tobeAppended = [li[0]]\r\n",
    "        for i in range(len(res[ele])):\r\n",
    "            tobeAppended.append(res[ele][i])\r\n",
    "        res.append(tobeAppended)\r\n",
    "    \r\n",
    "    return res\r\n",
    "\r\n",
    "\r\n",
    "def subsetsV2(li, soFar = []):\r\n",
    "    if len(li) == 0:\r\n",
    "        print(*soFar)\r\n",
    "        return\r\n",
    "\r\n",
    "    \r\n",
    "    include_call = subsetsV2(li[1:],soFar + [li[0]])\r\n",
    "    exclude_call = subsetsV2(li[1:],soFar)\r\n",
    "    \r\n",
    "li = [15,20,12]\r\n",
    "subsetsV2(li)"
   ],
   "outputs": [
    {
     "output_type": "stream",
     "name": "stdout",
     "text": [
      "2\n"
     ]
    }
   ],
   "metadata": {}
  },
  {
   "cell_type": "code",
   "execution_count": 7,
   "source": [
    "\r\n",
    "\r\n",
    "def permutations(s):\r\n",
    "    if len(s) == 1:\r\n",
    "        return [s[0]]\r\n",
    "     \r\n",
    "    res = permutations(s[1:])\r\n",
    "    Op = []\r\n",
    "    for ele in res:\r\n",
    "        for i in range(len(ele)+1):\r\n",
    "            toBeAppended = ele[:i] + s[0] + ele[i:]\r\n",
    "            Op.append(toBeAppended)\r\n",
    "\r\n",
    "    return Op\r\n",
    "\r\n",
    "def permutationsV2(s, soFar):\r\n",
    "    if len(s) == 1:\r\n",
    "        print(soFar)\r\n",
    "        return\r\n",
    "    \r\n",
    "    for i in range(len(soFar)+1):\r\n",
    "        newSoFar = soFar[:i] + s[1] + soFar[i:]\r\n",
    "        permutationsV2(s[1:],newSoFar)\r\n",
    "\r\n",
    "\r\n",
    "\r\n",
    "\r\n",
    "\r\n",
    "string = \"abc\"\r\n",
    "permutationsV2(string,string[0])\r\n",
    "\r\n",
    "\r\n",
    "\r\n",
    "\r\n",
    "\r\n",
    "\r\n"
   ],
   "outputs": [
    {
     "output_type": "stream",
     "name": "stdout",
     "text": [
      "bc a \n"
     ]
    }
   ],
   "metadata": {}
  },
  {
   "cell_type": "code",
   "execution_count": 4,
   "source": [
    "a =[1,2,None]\r\n",
    "# b = [3,4]\r\n",
    "b = []\r\n",
    "for ele in b:\r\n",
    "    a.append(ele)\r\n",
    "print(a)"
   ],
   "outputs": [
    {
     "output_type": "stream",
     "name": "stdout",
     "text": [
      "[1, 2, None]\n"
     ]
    }
   ],
   "metadata": {}
  }
 ],
 "metadata": {
  "kernelspec": {
   "name": "python3",
   "display_name": "Python 3.8.8 64-bit ('base': conda)"
  },
  "language_info": {
   "name": "python",
   "version": "3.8.8",
   "mimetype": "text/x-python",
   "codemirror_mode": {
    "name": "ipython",
    "version": 3
   },
   "pygments_lexer": "ipython3",
   "nbconvert_exporter": "python",
   "file_extension": ".py"
  },
  "metadata": {
   "interpreter": {
    "hash": "e7370f93d1d0cde622a1f8e1c04877d8463912d04d973331ad4851f04de6915a"
   }
  },
  "orig_nbformat": 2,
  "interpreter": {
   "hash": "1e915f0a29dc84041eaeb02b7b1a21c440e37a87b61d44d5e84a515737dc82bc"
  }
 },
 "nbformat": 4,
 "nbformat_minor": 2
}