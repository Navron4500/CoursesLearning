{
 "cells": [
  {
   "cell_type": "code",
   "execution_count": 1,
   "metadata": {},
   "outputs": [
    {
     "name": "stdout",
     "output_type": "stream",
     "text": [
      "bc\n"
     ]
    }
   ],
   "source": [
    "# WORKING ON SMALL OUTPUT FOR CREATING NEW OUTPUT\n",
    "def subsequences(string):\n",
    "    if len(string) == 0: \n",
    "        return [\"\"]\n",
    "\n",
    "    suboutput = subsequences(string[1:])\n",
    "    for i in range(len(suboutput)):\n",
    "        op = string[0] +  suboutput[i]\n",
    "        suboutput.append(op)\n",
    "\n",
    "    return suboutput\n",
    "\n",
    "# WORKING ON SMALL OUTPUT FOR CREATING NEW OUTPUT\n",
    "def subsequencesV2(s, soFar = \"\"):\n",
    "    if len(s) == 0: \n",
    "        print(soFar)\n",
    "        return\n",
    "\n",
    "    subsequencesV2(s[1:],soFar+s[0])\n",
    "    subsequencesV2(s[1:],soFar)\n",
    "\n",
    "\n",
    "\n",
    "s = \"abc\"\n",
    "ans = subsequencesV2(s)\n",
    "# print(*ans)"
   ]
  },
  {
   "cell_type": "code",
   "execution_count": null,
   "metadata": {},
   "outputs": [],
   "source": [
    "def keypad(n,d):\n",
    "    if n == 0:\n",
    "        return [\"\"]\n",
    "    \n",
    "    smalln = n%10\n",
    "    smallip = n//10\n",
    "    smallOp = keypad(smallip,d)\n",
    "    Op = []\n",
    "    for ele in d[smalln]:\n",
    "        for i in smallOp:\n",
    "            Op.append(i+ele)\n",
    "    \n",
    "    return Op\n",
    "\n",
    "def keypadV2(n,d,soFar=\"\"):\n",
    "    if n == 0:\n",
    "        print(soFar)\n",
    "        return\n",
    "    \n",
    "    ele = d[n%10]\n",
    "    \n",
    "    for i in range(len(ele)):\n",
    "    \tkeypad(n//10,d, ele[i] + soFar)\n",
    "\n",
    "\n",
    "d = {\n",
    "    2:[\"a\",\"b\",\"c\"],\n",
    "    3:[\"d\",\"e\",\"f\"],\n",
    "    4:[\"g\",\"h\",\"i\"],\n",
    "    5:[\"j\",\"k\",\"l\"],\n",
    "    6:[\"m\",\"n\",\"o\"],\n",
    "    7:[\"p\",\"q\",\"r\",\"s\"],\n",
    "    8:[\"t\",\"u\",\"v\"],\n",
    "    9:[\"w\",\"x\",\"y\",\"z\"]\n",
    "}\n",
    "\n",
    "n = 23\n",
    "ans = keypad(n,d)\n",
    "print(*ans)"
   ]
  },
  {
   "cell_type": "markdown",
   "metadata": {},
   "source": []
  }
 ],
 "metadata": {
  "kernelspec": {
   "display_name": "Python 3.9.6 64-bit",
   "name": "python396jvsc74a57bd0e7370f93d1d0cde622a1f8e1c04877d8463912d04d973331ad4851f04de6915a"
  },
  "language_info": {
   "name": "python",
   "version": ""
  },
  "metadata": {
   "interpreter": {
    "hash": "e7370f93d1d0cde622a1f8e1c04877d8463912d04d973331ad4851f04de6915a"
   }
  },
  "orig_nbformat": 2
 },
 "nbformat": 4,
 "nbformat_minor": 2
}