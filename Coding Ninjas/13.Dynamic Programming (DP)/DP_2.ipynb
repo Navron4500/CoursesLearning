{
 "cells": [
  {
   "cell_type": "code",
   "execution_count": 6,
   "source": [
    "# MIN COST PATH\r\n",
    "from sys import stdin, setrecursionlimit\r\n",
    "setrecursionlimit(10**4)\r\n",
    "MAX_VALUE = 2147483647\r\n",
    "\r\n",
    "def minCostPath(arr,i,j, mRows, nCols, dp) :\r\n",
    "    if i == mRows -1 and j == nCols - 1 :\r\n",
    "        return arr[i][j]\r\n",
    "    if i == mRows or j == nCols:\r\n",
    "        return MAX_VALUE\r\n",
    "    \r\n",
    "    if dp[i+1][j] == -1: # DOWN\r\n",
    "        ans = minCostPath(arr,i+1,j,mRows,nCols,dp) \r\n",
    "        dp[i+1][j] = ans\r\n",
    "    else:\r\n",
    "        ans = dp[i+1][j]\r\n",
    "\r\n",
    "    if dp[i+1][j+1] == -1: # DIAGONAL\r\n",
    "        tempAns1 = minCostPath(arr,i+1,j+1,mRows,nCols,dp)\r\n",
    "        dp[i+1][j+1] = tempAns1\r\n",
    "    else:\r\n",
    "        tempAns1 = dp[i+1][j+1] \r\n",
    "\r\n",
    "    if dp[i][j+1] == -1: # RIGHT\r\n",
    "        tempAns2 = minCostPath(arr,i,j+1,mRows,nCols,dp)\r\n",
    "        dp[i][j+1] = tempAns2\r\n",
    "    else:\r\n",
    "        tempAns2 = dp[i][j+1]\r\n",
    "\r\n",
    "    ans = min(ans,tempAns1,tempAns2) \r\n",
    "\r\n",
    "    return ans + arr[i][j]\r\n",
    "\r\n",
    "def minCostPathI(arr, mRows, nCols) :\r\n",
    "    dp = [[MAX_VALUE for j in range(nCols + 1)] for i in range(mRows+1)]\r\n",
    "\r\n",
    "    for i in range(mRows-1, -1, -1):\r\n",
    "        for j in range(nCols-1, -1, -1):\r\n",
    "            if i == mRows - 1 and j == nCols -1:\r\n",
    "                dp[i][j] = arr[i][j]\r\n",
    "            else:\r\n",
    "                ans1 = dp[i+1][j]\r\n",
    "                ans2 = dp[i][j+1]\r\n",
    "                ans3 = dp[i+1][j+1]\r\n",
    "                dp[i][j] = arr[i][j] + min(ans1,ans2,ans3)\r\n",
    "\r\n",
    "    return dp[0][0]"
   ],
   "outputs": [],
   "metadata": {}
  },
  {
   "cell_type": "code",
   "execution_count": 8,
   "source": [
    "def take2DInput() :\r\n",
    "    li = stdin.readline().rstrip().split(\" \")\r\n",
    "    mRows = int(li[0])\r\n",
    "    nCols = int(li[1])\r\n",
    "    \r\n",
    "    if mRows == 0 :\r\n",
    "        return list(), 0, 0\r\n",
    "    \r\n",
    "    mat = [list(map(int, input().strip().split(\" \"))) for row in range(mRows)]\r\n",
    "    return mat, mRows, nCols\r\n",
    "\r\n",
    "\r\n",
    "#main\r\n",
    "# mat, mRows, nCols = take2DInput()\r\n",
    "# print(len(mat))\r\n",
    "# print(mat)\r\n",
    "# mat, mRows, nCols = [[3,4,1,2],[2,1,8,9],[4,7,8,1]], 3,4 # 13\r\n",
    "# mat, mRows, nCols = [[10,6,9,0],[-23,8,9,90],[-200,0,89,200]],3,4 # 76\r\n",
    "# mat, mRows, nCols = [[9,6,0,12,90,1],[2,7,8,5,78,6],[1,6,0,5,10,-4],[9,6,2,-10,7,4],[10,-2,0,5,5,7]],5,6 #18\r\n",
    "mat, mRows, nCols = [[5,7,2,4],[1,8,1,3],[6,2,9,5],[1,6,2,8]],4,4 # 30\r\n",
    "\r\n",
    "print(minCostPathI(mat, mRows, nCols))"
   ],
   "outputs": [
    {
     "output_type": "stream",
     "name": "stdout",
     "text": [
      "18\n"
     ]
    }
   ],
   "metadata": {}
  },
  {
   "cell_type": "code",
   "execution_count": 1,
   "source": [
    "# LONGEST COMMON SEQUENCE\r\n",
    "\r\n",
    "from sys import stdin\r\n",
    "\r\n",
    "def lcs(s, t, dp, i=0,j=0) :\r\n",
    "    if len(s) == i or j == len(t):\r\n",
    "        return 0\r\n",
    "    \r\n",
    "    if s[i] == t[j]:    \r\n",
    "        if dp[i+1][j+1] == -1:\r\n",
    "            Ans = lcs(s,t,dp,i+1,j+1)\r\n",
    "            dp[i+1][j+1] = Ans\r\n",
    "        else:\r\n",
    "            Ans = dp[i+1][j+1]\r\n",
    "        return 1 + Ans\r\n",
    "\r\n",
    "    else:\r\n",
    "        if dp[i+1][j] == -1:\r\n",
    "            ans1 = lcs(s,t,dp,i+1,j)\r\n",
    "            dp[i+1][j] = ans1\r\n",
    "        else:\r\n",
    "            ans1 = dp[i+1][j]\r\n",
    "\r\n",
    "        if dp[i][j+1] == -1:\r\n",
    "            ans2 = lcs(s,t,dp,i,j+1)\r\n",
    "            dp[i][j+1] = ans2\r\n",
    "        else:\r\n",
    "            ans2 = dp[i][j+1]\r\n",
    "\r\n",
    "        return max(ans1,ans2)\r\n",
    "\r\n",
    "def lcsIterative(s, t) :\r\n",
    "    dp = [[0 for j in range(len(t)+1)] for i in range(len(s)+1)]    \r\n",
    "    for i in range(len(s)-1,-1,-1):\r\n",
    "        for j in range(len(t)-1,-1,-1):\r\n",
    "            if s[i] == t[j]:\r\n",
    "                dp[i][j] = 1 + dp[i+1][j+1]\r\n",
    "            else:\r\n",
    "                dp[i][j] = max(dp[i+1][j],dp[i][j+1])\r\n",
    "\r\n",
    "    return dp[0][0]\r\n",
    "\r\n",
    "\t\r\n",
    "\r\n",
    "\r\n",
    " \r\n",
    "\r\n",
    "s,t = \"adebc\",\"dcadb\" # 3\r\n",
    "# s, t = \"ab\",\"defg\" # 0\r\n",
    "\r\n",
    "# print(dp)\r\n",
    "print(lcsIterative(s, t))"
   ],
   "outputs": [
    {
     "output_type": "stream",
     "name": "stdout",
     "text": [
      "2\n"
     ]
    }
   ],
   "metadata": {}
  },
  {
   "cell_type": "code",
   "execution_count": null,
   "source": [],
   "outputs": [],
   "metadata": {}
  }
 ],
 "metadata": {
  "orig_nbformat": 4,
  "language_info": {
   "name": "python",
   "version": "3.8.8",
   "mimetype": "text/x-python",
   "codemirror_mode": {
    "name": "ipython",
    "version": 3
   },
   "pygments_lexer": "ipython3",
   "nbconvert_exporter": "python",
   "file_extension": ".py"
  },
  "kernelspec": {
   "name": "python3",
   "display_name": "Python 3.8.8 64-bit ('base': conda)"
  },
  "interpreter": {
   "hash": "1e915f0a29dc84041eaeb02b7b1a21c440e37a87b61d44d5e84a515737dc82bc"
  }
 },
 "nbformat": 4,
 "nbformat_minor": 2
}