{
 "cells": [
  {
   "cell_type": "markdown",
   "metadata": {},
   "source": [
    "# Search In Binary Search Tree"
   ]
  },
  {
   "cell_type": "raw",
   "metadata": {},
   "source": [
    "def searchInBST(root, k):\n",
    "    if not root:\n",
    "        return False\n",
    "    \n",
    "    if k<root.data:\n",
    "        res = searchInBST(root.left,k)\n",
    "    elif k>root.data:\n",
    "        res = searchInBST(root.right,k)\n",
    "    elif k == root.data:\n",
    "        res = True\n",
    "    \n",
    "    return res"
   ]
  },
  {
   "cell_type": "markdown",
   "metadata": {},
   "source": [
    "# Elements Between K1 and K2"
   ]
  },
  {
   "cell_type": "raw",
   "metadata": {},
   "source": [
    "def elementsInRangeK1K2(root, k1, k2):\n",
    "    if not root:\n",
    "        return\n",
    "    \n",
    "    if root.data > k2:\n",
    "        elementsInRangeK1K2(root.left,k1,k2)\n",
    "    elif root.data < k1:\n",
    "        elementsInRangeK1K2(root.right,k1,k2)\n",
    "    else:\n",
    "        elementsInRangeK1K2(root.left,k1,k2)\n",
    "        print(root.data,end=\" \")\n",
    "        elementsInRangeK1K2(root.right,k1,k2)"
   ]
  },
  {
   "cell_type": "markdown",
   "metadata": {},
   "source": [
    "# Construct BST"
   ]
  },
  {
   "cell_type": "raw",
   "metadata": {},
   "source": [
    "def constructBST(lst):\n",
    "    if not lst:\n",
    "        return None\n",
    "    \n",
    "    mid = len(lst)//2\n",
    "    root = BinaryTreeNode(lst[mid])\n",
    "    root.left,root.right = constructBST(lst[:mid]), constructBST(lst[mid+1:])\n",
    "    return root"
   ]
  },
  {
   "cell_type": "markdown",
   "metadata": {},
   "source": [
    "# Check BST"
   ]
  },
  {
   "cell_type": "raw",
   "metadata": {},
   "source": [
    "\n",
    "def isBST(root):\n",
    "    if not root:\n",
    "        return 100000,-100000,True\n",
    "    \n",
    "    leftMin, leftMax, isleft = isBST(root.left)\n",
    "    rightMin, rightMax, isRight = isBST(root.right)\n",
    "\n",
    "    mini =  min(leftMin,rightMin,root.data)\n",
    "    maxi = max(leftMax,rightMax,root.data)\n",
    "\n",
    "    if (root.data <= leftMax or root.data > rightMin) or (not isleft or not isRight) :\n",
    "        return mini,maxi,False\n",
    "\n",
    "    return mini, maxi, True"
   ]
  }
 ],
 "metadata": {
  "kernelspec": {
   "display_name": "Python 3.9.5 64-bit",
   "name": "python395jvsc74a57bd0e7370f93d1d0cde622a1f8e1c04877d8463912d04d973331ad4851f04de6915a"
  },
  "language_info": {
   "name": "python",
   "version": ""
  },
  "metadata": {
   "interpreter": {
    "hash": "e7370f93d1d0cde622a1f8e1c04877d8463912d04d973331ad4851f04de6915a"
   }
  },
  "orig_nbformat": 2
 },
 "nbformat": 4,
 "nbformat_minor": 2
}